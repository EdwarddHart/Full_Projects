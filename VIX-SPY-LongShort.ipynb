{
 "cells": [
  {
   "cell_type": "markdown",
   "id": "fe6ef99d",
   "metadata": {},
   "source": [
    "# Housekeeping"
   ]
  },
  {
   "cell_type": "code",
   "execution_count": 90,
   "id": "51cc74e1",
   "metadata": {},
   "outputs": [],
   "source": [
    "import yfinance as yf\n",
    "import pandas as pd\n",
    "import numpy as np\n",
    "import matplotlib.pyplot as plt\n",
    "import plotly.graph_objects as go\n",
    "import plotly.figure_factory as ff\n",
    "import plotly.express as px\n",
    "\n",
    "from sklearn.linear_model import LogisticRegression\n",
    "from sklearn.model_selection import train_test_split\n",
    "from sklearn.metrics import classification_report, confusion_matrix"
   ]
  },
  {
   "cell_type": "code",
   "execution_count": 91,
   "id": "647ba311",
   "metadata": {},
   "outputs": [
    {
     "name": "stdout",
     "output_type": "stream",
     "text": [
      "Requirement already satisfied: plotly in c:\\users\\ewd\\appdata\\local\\anaconda3\\lib\\site-packages (5.24.1)\n",
      "Requirement already satisfied: tenacity>=6.2.0 in c:\\users\\ewd\\appdata\\local\\anaconda3\\lib\\site-packages (from plotly) (8.2.3)\n",
      "Requirement already satisfied: packaging in c:\\users\\ewd\\appdata\\local\\anaconda3\\lib\\site-packages (from plotly) (24.2)\n"
     ]
    }
   ],
   "source": [
    "!pip install plotly"
   ]
  },
  {
   "cell_type": "markdown",
   "id": "9101c121",
   "metadata": {},
   "source": [
    "# Data Gathering, Generating Features, Creating Train-Test Split"
   ]
  },
  {
   "cell_type": "code",
   "execution_count": 92,
   "id": "8d558aef",
   "metadata": {},
   "outputs": [],
   "source": [
    "\n",
    "def get_data():\n",
    "   \n",
    "    Vol_Index = yf.download(\"^VIX\", auto_adjust=True, period='20y')[\"Close\"]\n",
    "    SPY = yf.download(\"SPY\", auto_adjust=True, period='20y')[\"Close\"]\n",
    "    SH = yf.download(\"SH\", auto_adjust=True, period='20y')[\"Close\"]\n",
    "    VolVol_Index = yf.download(\"^VVIX\", auto_adjust=True, period='20y')[\"Close\"]\n",
    "    TenYearTNote = yf.download(\"^TNX\", auto_adjust=True, period='20y')[\"Close\"]\n",
    "\n",
    "    df = pd.concat([Vol_Index, SPY, SH, VolVol_Index, TenYearTNote], axis=1)\n",
    "    df.columns = ['Vol_Index', 'SPY', 'SH', 'VolVol_Index', 'TenYearTNote']\n",
    "\n",
    "    return df.dropna()\n",
    "\n",
    "\n",
    "def get_features(df):\n",
    "    # Daily Returns\n",
    "    df['VIX_ret_1d'] = df['Vol_Index'].pct_change()\n",
    "    df['SPY_ret_1d'] = df['SPY'].pct_change()\n",
    "    df['SH_ret_1d'] = df['SH'].pct_change()  # Add SH return\n",
    "\n",
    "    # Technical Indicators for VIX\n",
    "    df['VIX_SMA20'] = df['Vol_Index'].rolling(20).mean() #Indicates if VIX is elevated or depressed\n",
    "    df['VIX_ratio'] = df['Vol_Index'] / df['VIX_SMA20'] #Suggests that VIX might be high compared to recent history if greater than 1 \n",
    "    df['VIX_std20'] = df['Vol_Index'].rolling(20).std() #Measures the volatility of its volatility, higher values might imply whether VIX is unstable or erratic\n",
    "\n",
    "    # Spread Features\n",
    "    df['VIX_VVIX_spread'] = df['Vol_Index'] - df['VolVol_Index']  #Spread between VIX and VVIX, larger spread often precedes spikes in market fear\n",
    "    df['TNX_ret_1d'] = df['TenYearTNote'].pct_change()  #10yr treasury yield return - Captures Macro Sentiment \n",
    "\n",
    "    # Will VIX Rise Tomorrow?\n",
    "    df['VIX_direction'] = (df['Vol_Index'].shift(-1) > df['Vol_Index']).astype(int) #Predicting whether VIX will increase using above features\n",
    "\n",
    "    return df.dropna()\n",
    "\n",
    "\n",
    "def get_features_train_test_split(df):\n",
    "    features = ['VIX_ret_1d', 'SPY_ret_1d', 'VIX_ratio', 'VIX_std20', 'VIX_VVIX_spread', 'TNX_ret_1d']\n",
    "    input_data = df[features].dropna()\n",
    "    target_variable = df.loc[input_data.index, 'VIX_direction']\n",
    "\n",
    "    X_train, X_test, y_train, y_test = train_test_split(input_data, target_variable, train_size=0.8, shuffle=False)\n",
    "\n",
    "    return X_train, X_test, y_train, y_test"
   ]
  },
  {
   "cell_type": "markdown",
   "id": "ee52e170",
   "metadata": {},
   "source": [
    "# Training Model, Summarising Performance "
   ]
  },
  {
   "cell_type": "code",
   "execution_count": 93,
   "id": "b7fb83bd",
   "metadata": {},
   "outputs": [],
   "source": [
    "def train_model(X_train, y_train):\n",
    "    model = LogisticRegression(max_iter=1000, random_state=42)\n",
    "    model.fit(X_train, y_train)\n",
    "    return model\n",
    "\n",
    "def evaluate_model(model, X_test, y_test):\n",
    "    y_pred = model.predict(X_test)\n",
    "    y_proba = model.predict_proba(X_test)[:, 1]\n",
    "    return y_pred, y_proba \n",
    "\n",
    "def model_performance_summary(y_test, y_pred):\n",
    "    report = classification_report(y_test, y_pred, output_dict=True)\n",
    "    \n",
    "    print(\"=== Model Classification Report ===\")\n",
    "    print(classification_report(y_test, y_pred))\n",
    "    \n",
    "    accuracy = report['accuracy']\n",
    "    print(f\"• Overall accuracy: {accuracy:.2%}\\n\")\n",
    "    \n",
    "    for cls in ['0', '1']:\n",
    "        precision = report[cls]['precision']\n",
    "        recall = report[cls]['recall']\n",
    "        f1 = report[cls]['f1-score']\n",
    "        support = report[cls]['support']\n",
    "        \n",
    "        if cls == '0':\n",
    "            print(\"• Class '0' (VIX does NOT rise next day):\")\n",
    "            print(f\"  - Precision: {precision:.2%} (Correctness of 'no-rise' predictions)\")\n",
    "            print(f\"  - Recall: {recall:.2%} (How many actual 'no-rise' days identified)\")\n",
    "            print(f\"  - F1-score: {f1:.2%} (Balance of precision & recall)\")\n",
    "        else:\n",
    "            print(\"• Class '1' (VIX RISES next day):\")\n",
    "            print(f\"  - Precision: {precision:.2%} (Correctness of 'rise' predictions)\")\n",
    "            print(f\"  - Recall: {recall:.2%} (How many actual rises identified)\")\n",
    "            print(f\"  - F1-score: {f1:.2%} (Balance of precision & recall)\")\n",
    "        \n",
    "        print(f\"  - Sample count: {support}\\n\")\n",
    "    \n",
    "    # Now plot summary tables and confusion matrix\n",
    "    plot_classification_report(y_test, y_pred)\n",
    "    plot_confusion_matrix(y_test, y_pred)\n",
    "\n",
    "\n",
    "def plot_classification_report(y_test, y_pred):\n",
    "    report = classification_report(y_test, y_pred, output_dict=True)\n",
    "    classes = ['0', '1']\n",
    "    headers = [\"Class\", \"Precision\", \"Recall\", \"F1-Score\", \"Support\"]\n",
    "    rows = []\n",
    "    for cls in classes:\n",
    "        rows.append([\n",
    "            f\"Class {cls}\",\n",
    "            f\"{report[cls]['precision']:.2%}\",\n",
    "            f\"{report[cls]['recall']:.2%}\",\n",
    "            f\"{report[cls]['f1-score']:.2%}\",\n",
    "            f\"{int(report[cls]['support'])}\"\n",
    "        ])\n",
    "\n",
    "    fig = go.Figure(data=[go.Table(\n",
    "        header=dict(values=headers, fill_color='paleturquoise', align='left'),\n",
    "        cells=dict(values=list(zip(*rows)), fill_color='lavender', align='left'))\n",
    "    ])\n",
    "    fig.update_layout(title_text=\"Classification Report Summary\")\n",
    "    fig.show()\n",
    "\n",
    "\n",
    "def plot_confusion_matrix(y_test, y_pred):\n",
    "    cm = confusion_matrix(y_test, y_pred, normalize='true')\n",
    "    labels = ['Predicted 0', 'Predicted 1']\n",
    "    \n",
    "    z_text = [[f\"{value:.2f}\" for value in row] for row in cm]\n",
    "    fig = ff.create_annotated_heatmap(\n",
    "        z=cm,\n",
    "        x=labels,\n",
    "        y=labels,\n",
    "        annotation_text=z_text,\n",
    "        colorscale='Blues',\n",
    "        showscale=True\n",
    "    )\n",
    "    fig.update_layout(\n",
    "        title=\"Normalized Confusion Matrix (Row-wise)\",\n",
    "        xaxis_title=\"Predicted\",\n",
    "        yaxis_title=\"Actual\"\n",
    "    )\n",
    "    fig.show()"
   ]
  },
  {
   "cell_type": "markdown",
   "id": "8fb1c3c1",
   "metadata": {},
   "source": [
    "# Calibrating to Find the Optimal Strategy"
   ]
  },
  {
   "cell_type": "code",
   "execution_count": 94,
   "id": "2d084fcd",
   "metadata": {},
   "outputs": [],
   "source": [
    "def find_best_threshold(df, X_test, y_proba):\n",
    "    df = df.copy()\n",
    "    df['SPY_ret_1d'] = df['SPY'].pct_change()\n",
    "    thresholds = np.arange(0.3, 0.6, 0.025)\n",
    "    returns = []\n",
    "\n",
    "    for t in thresholds:\n",
    "        df['position'] = 0\n",
    "        df.loc[X_test.index, 'position'] = np.where(y_proba > t, 1, -1)\n",
    "        df['strategy_ret'] = df['position'].shift(1) * df['SPY_ret_1d']\n",
    "        cumulative = (1 + df['strategy_ret']).cumprod()\n",
    "        returns.append(cumulative.dropna().iloc[-1])\n",
    "\n",
    "    plt.figure(figsize=(10, 2))\n",
    "    sns.heatmap([returns], xticklabels=[f\"{th:.3f}\" for th in thresholds], cmap=\"RdYlGn\", annot=True, fmt=\".4f\")\n",
    "    plt.title(\"Strategy Final Returns by Threshold\")\n",
    "    plt.xlabel(\"Threshold\")\n",
    "    plt.yticks([], [])\n",
    "    plt.show()\n",
    "\n",
    "    best_idx = np.argmax(returns)\n",
    "    best_threshold = thresholds[best_idx]\n",
    "    print(f\"Best threshold found: {best_threshold:.3f} with final return {returns[best_idx]:.4f}\\n\")\n",
    "    return best_threshold\n",
    "\n",
    "def backtest_strategy(df, X_test, y_proba, threshold):\n",
    "    df = df.copy()\n",
    "    df['SPY_ret'] = df['SPY'].pct_change()\n",
    "    start_date = X_test.index[0]\n",
    "    df = df.loc[start_date:]\n",
    "\n",
    "    df['position'] = 0\n",
    "    df.loc[X_test.index, 'position'] = np.where(y_proba > threshold, 1, -1)\n",
    "\n",
    "    df['strategy_ret'] = df['position'].shift(1) * df['SPY_ret']\n",
    "    df['cumulative_strategy'] = (1 + df['strategy_ret']).cumprod()\n",
    "    df['cumulative_spy'] = (1 + df['SPY_ret']).cumprod()\n",
    "    return df\n",
    "\n",
    "def annotate_macro_events(ax, y_pos_ratio=0.95):\n",
    "    macro_events = {\n",
    "        \"2022-01-24\": (\"Tech Drawdown\", \"gray\"),\n",
    "        \"2022-03-16\": (\"1st Fed Hike\", \"red\"),\n",
    "        \"2022-06-13\": (\"CPI Shock\", \"red\"),\n",
    "        \"2022-09-21\": (\"Dot Plot Surprise\", \"red\"),\n",
    "        \"2022-10-13\": (\"CPI Reversal\", \"green\"),\n",
    "        \"2023-03-10\": (\"SVB Collapse\", \"black\"),\n",
    "        \"2023-10-19\": (\"10Y @ 5%\", \"gray\"),\n",
    "        \"2024-03-20\": (\"No Rate Cut\", \"orange\"),\n",
    "        \"2024-07-05\": (\"NFP Beat\", \"blue\"),\n",
    "        \"2024-11-05\": (\"Election Volatility / Trump Rally\", \"purple\"),\n",
    "        \"2025-02-01\": (\"China Crash\", \"black\"),\n",
    "        \"2025-04-07\": (\"Tariff Bear Market\", \"black\"),\n",
    "        \"2025-07-21\": (\"Profit Shock Report\", \"orange\"),\n",
    "    }\n",
    "\n",
    "    ylim_top = ax.get_ylim()[1]\n",
    "\n",
    "    for date_str, (label, color) in macro_events.items():\n",
    "        date = pd.to_datetime(date_str)\n",
    "        ax.axvline(date, color=color, linestyle='--', alpha=0.6, linewidth=1)\n",
    "        ax.text(\n",
    "            date, ylim_top * y_pos_ratio, label,\n",
    "            rotation=90, verticalalignment='top', fontsize=8, color=color,\n",
    "            backgroundcolor='white', alpha=0.9\n",
    "        )\n",
    "\n",
    "        \n",
    "def plot_backtest_results(df):\n",
    "    fig = go.Figure()\n",
    "\n",
    "    fig.add_trace(go.Scatter(\n",
    "        x=df.index, y=df['cumulative_strategy'],\n",
    "        mode='lines', name='Strategy',\n",
    "        line=dict(color='dodgerblue', width=2)\n",
    "    ))\n",
    "\n",
    "    fig.add_trace(go.Scatter(\n",
    "        x=df.index, y=df['cumulative_spy'],\n",
    "        mode='lines', name='SPY (Buy & Hold)',\n",
    "        line=dict(color='orange', width=2)\n",
    "    ))\n",
    "\n",
    "    macro_events = {\n",
    "        \"2022-01-24\": \"Tech Drawdown\",\n",
    "        \"2022-03-16\": \"1st Fed Hike\",\n",
    "        \"2022-06-13\": \"CPI Shock\",\n",
    "        \"2022-09-21\": \"Dot Plot Surprise\",\n",
    "        \"2022-10-13\": \"CPI Reversal\",\n",
    "        \"2023-03-10\": \"SVB Collapse\",\n",
    "        \"2023-10-19\": \"10Y @ 5%\",\n",
    "        \"2024-03-20\": \"No Rate Cut\",\n",
    "        \"2024-07-05\": \"NFP Beat\",\n",
    "        \"2024-11-05\": \"Election Volatility\",\n",
    "        \"2025-02-01\": \"China Crash\",\n",
    "        \"2025-04-07\": \"Tariff Bear Market\",\n",
    "        \"2025-07-21\": \"Profit Shock Report\"\n",
    "    }\n",
    "\n",
    "    for date_str, label in macro_events.items():\n",
    "        date = pd.to_datetime(date_str)\n",
    "        if date in df.index:\n",
    "            fig.add_vline(x=date, line=dict(color='black', width=1, dash='dot'))\n",
    "            fig.add_annotation(\n",
    "                x=date,\n",
    "                y=max(df['cumulative_strategy'].max(), df['cumulative_spy'].max()) * 1.02,\n",
    "                text=label,\n",
    "                showarrow=False,\n",
    "                yanchor='bottom',\n",
    "                textangle=-90,\n",
    "                font=dict(size=10, color='black'),\n",
    "                xanchor='left'\n",
    "            )\n",
    "\n",
    "  \n",
    "    fig.update_layout(\n",
    "        title=\"Cumulative Returns: Macro Strategy vs SPY\",\n",
    "        xaxis_title=\"Date\",\n",
    "        yaxis_title=\"Cumulative Return\",\n",
    "        hovermode=\"x unified\",\n",
    "        template=\"plotly_white\",\n",
    "        legend=dict(x=0.99, y=0.01),\n",
    "        margin=dict(t=60, b=40, l=60, r=40)\n",
    "    )\n",
    "\n",
    "    fig.show()\n"
   ]
  },
  {
   "cell_type": "markdown",
   "id": "16f9263e",
   "metadata": {},
   "source": [
    "# Summarising Performance, Running Code"
   ]
  },
  {
   "cell_type": "code",
   "execution_count": 95,
   "id": "ee449507",
   "metadata": {},
   "outputs": [
    {
     "name": "stderr",
     "output_type": "stream",
     "text": [
      "[*********************100%***********************]  1 of 1 completed\n",
      "[*********************100%***********************]  1 of 1 completed\n",
      "[*********************100%***********************]  1 of 1 completed\n",
      "[*********************100%***********************]  1 of 1 completed\n",
      "[*********************100%***********************]  1 of 1 completed\n"
     ]
    },
    {
     "name": "stdout",
     "output_type": "stream",
     "text": [
      "=== Model Classification Report ===\n",
      "              precision    recall  f1-score   support\n",
      "\n",
      "           0       0.57      0.91      0.70       528\n",
      "           1       0.47      0.11      0.18       400\n",
      "\n",
      "    accuracy                           0.56       928\n",
      "   macro avg       0.52      0.51      0.44       928\n",
      "weighted avg       0.53      0.56      0.48       928\n",
      "\n",
      "• Overall accuracy: 56.25%\n",
      "\n",
      "• Class '0' (VIX does NOT rise next day):\n",
      "  - Precision: 57.31% (Correctness of 'no-rise' predictions)\n",
      "  - Recall: 90.53% (How many actual 'no-rise' days identified)\n",
      "  - F1-score: 70.19% (Balance of precision & recall)\n",
      "  - Sample count: 528.0\n",
      "\n",
      "• Class '1' (VIX RISES next day):\n",
      "  - Precision: 46.81% (Correctness of 'rise' predictions)\n",
      "  - Recall: 11.00% (How many actual rises identified)\n",
      "  - F1-score: 17.81% (Balance of precision & recall)\n",
      "  - Sample count: 400.0\n",
      "\n"
     ]
    },
    {
     "data": {
      "application/vnd.plotly.v1+json": {
       "config": {
        "plotlyServerURL": "https://plot.ly"
       },
       "data": [
        {
         "cells": {
          "align": "left",
          "fill": {
           "color": "lavender"
          },
          "values": [
           [
            "Class 0",
            "Class 1"
           ],
           [
            "57.31%",
            "46.81%"
           ],
           [
            "90.53%",
            "11.00%"
           ],
           [
            "70.19%",
            "17.81%"
           ],
           [
            "528",
            "400"
           ]
          ]
         },
         "header": {
          "align": "left",
          "fill": {
           "color": "paleturquoise"
          },
          "values": [
           "Class",
           "Precision",
           "Recall",
           "F1-Score",
           "Support"
          ]
         },
         "type": "table"
        }
       ],
       "layout": {
        "template": {
         "data": {
          "bar": [
           {
            "error_x": {
             "color": "#2a3f5f"
            },
            "error_y": {
             "color": "#2a3f5f"
            },
            "marker": {
             "line": {
              "color": "#E5ECF6",
              "width": 0.5
             },
             "pattern": {
              "fillmode": "overlay",
              "size": 10,
              "solidity": 0.2
             }
            },
            "type": "bar"
           }
          ],
          "barpolar": [
           {
            "marker": {
             "line": {
              "color": "#E5ECF6",
              "width": 0.5
             },
             "pattern": {
              "fillmode": "overlay",
              "size": 10,
              "solidity": 0.2
             }
            },
            "type": "barpolar"
           }
          ],
          "carpet": [
           {
            "aaxis": {
             "endlinecolor": "#2a3f5f",
             "gridcolor": "white",
             "linecolor": "white",
             "minorgridcolor": "white",
             "startlinecolor": "#2a3f5f"
            },
            "baxis": {
             "endlinecolor": "#2a3f5f",
             "gridcolor": "white",
             "linecolor": "white",
             "minorgridcolor": "white",
             "startlinecolor": "#2a3f5f"
            },
            "type": "carpet"
           }
          ],
          "choropleth": [
           {
            "colorbar": {
             "outlinewidth": 0,
             "ticks": ""
            },
            "type": "choropleth"
           }
          ],
          "contour": [
           {
            "colorbar": {
             "outlinewidth": 0,
             "ticks": ""
            },
            "colorscale": [
             [
              0,
              "#0d0887"
             ],
             [
              0.1111111111111111,
              "#46039f"
             ],
             [
              0.2222222222222222,
              "#7201a8"
             ],
             [
              0.3333333333333333,
              "#9c179e"
             ],
             [
              0.4444444444444444,
              "#bd3786"
             ],
             [
              0.5555555555555556,
              "#d8576b"
             ],
             [
              0.6666666666666666,
              "#ed7953"
             ],
             [
              0.7777777777777778,
              "#fb9f3a"
             ],
             [
              0.8888888888888888,
              "#fdca26"
             ],
             [
              1,
              "#f0f921"
             ]
            ],
            "type": "contour"
           }
          ],
          "contourcarpet": [
           {
            "colorbar": {
             "outlinewidth": 0,
             "ticks": ""
            },
            "type": "contourcarpet"
           }
          ],
          "heatmap": [
           {
            "colorbar": {
             "outlinewidth": 0,
             "ticks": ""
            },
            "colorscale": [
             [
              0,
              "#0d0887"
             ],
             [
              0.1111111111111111,
              "#46039f"
             ],
             [
              0.2222222222222222,
              "#7201a8"
             ],
             [
              0.3333333333333333,
              "#9c179e"
             ],
             [
              0.4444444444444444,
              "#bd3786"
             ],
             [
              0.5555555555555556,
              "#d8576b"
             ],
             [
              0.6666666666666666,
              "#ed7953"
             ],
             [
              0.7777777777777778,
              "#fb9f3a"
             ],
             [
              0.8888888888888888,
              "#fdca26"
             ],
             [
              1,
              "#f0f921"
             ]
            ],
            "type": "heatmap"
           }
          ],
          "heatmapgl": [
           {
            "colorbar": {
             "outlinewidth": 0,
             "ticks": ""
            },
            "colorscale": [
             [
              0,
              "#0d0887"
             ],
             [
              0.1111111111111111,
              "#46039f"
             ],
             [
              0.2222222222222222,
              "#7201a8"
             ],
             [
              0.3333333333333333,
              "#9c179e"
             ],
             [
              0.4444444444444444,
              "#bd3786"
             ],
             [
              0.5555555555555556,
              "#d8576b"
             ],
             [
              0.6666666666666666,
              "#ed7953"
             ],
             [
              0.7777777777777778,
              "#fb9f3a"
             ],
             [
              0.8888888888888888,
              "#fdca26"
             ],
             [
              1,
              "#f0f921"
             ]
            ],
            "type": "heatmapgl"
           }
          ],
          "histogram": [
           {
            "marker": {
             "pattern": {
              "fillmode": "overlay",
              "size": 10,
              "solidity": 0.2
             }
            },
            "type": "histogram"
           }
          ],
          "histogram2d": [
           {
            "colorbar": {
             "outlinewidth": 0,
             "ticks": ""
            },
            "colorscale": [
             [
              0,
              "#0d0887"
             ],
             [
              0.1111111111111111,
              "#46039f"
             ],
             [
              0.2222222222222222,
              "#7201a8"
             ],
             [
              0.3333333333333333,
              "#9c179e"
             ],
             [
              0.4444444444444444,
              "#bd3786"
             ],
             [
              0.5555555555555556,
              "#d8576b"
             ],
             [
              0.6666666666666666,
              "#ed7953"
             ],
             [
              0.7777777777777778,
              "#fb9f3a"
             ],
             [
              0.8888888888888888,
              "#fdca26"
             ],
             [
              1,
              "#f0f921"
             ]
            ],
            "type": "histogram2d"
           }
          ],
          "histogram2dcontour": [
           {
            "colorbar": {
             "outlinewidth": 0,
             "ticks": ""
            },
            "colorscale": [
             [
              0,
              "#0d0887"
             ],
             [
              0.1111111111111111,
              "#46039f"
             ],
             [
              0.2222222222222222,
              "#7201a8"
             ],
             [
              0.3333333333333333,
              "#9c179e"
             ],
             [
              0.4444444444444444,
              "#bd3786"
             ],
             [
              0.5555555555555556,
              "#d8576b"
             ],
             [
              0.6666666666666666,
              "#ed7953"
             ],
             [
              0.7777777777777778,
              "#fb9f3a"
             ],
             [
              0.8888888888888888,
              "#fdca26"
             ],
             [
              1,
              "#f0f921"
             ]
            ],
            "type": "histogram2dcontour"
           }
          ],
          "mesh3d": [
           {
            "colorbar": {
             "outlinewidth": 0,
             "ticks": ""
            },
            "type": "mesh3d"
           }
          ],
          "parcoords": [
           {
            "line": {
             "colorbar": {
              "outlinewidth": 0,
              "ticks": ""
             }
            },
            "type": "parcoords"
           }
          ],
          "pie": [
           {
            "automargin": true,
            "type": "pie"
           }
          ],
          "scatter": [
           {
            "fillpattern": {
             "fillmode": "overlay",
             "size": 10,
             "solidity": 0.2
            },
            "type": "scatter"
           }
          ],
          "scatter3d": [
           {
            "line": {
             "colorbar": {
              "outlinewidth": 0,
              "ticks": ""
             }
            },
            "marker": {
             "colorbar": {
              "outlinewidth": 0,
              "ticks": ""
             }
            },
            "type": "scatter3d"
           }
          ],
          "scattercarpet": [
           {
            "marker": {
             "colorbar": {
              "outlinewidth": 0,
              "ticks": ""
             }
            },
            "type": "scattercarpet"
           }
          ],
          "scattergeo": [
           {
            "marker": {
             "colorbar": {
              "outlinewidth": 0,
              "ticks": ""
             }
            },
            "type": "scattergeo"
           }
          ],
          "scattergl": [
           {
            "marker": {
             "colorbar": {
              "outlinewidth": 0,
              "ticks": ""
             }
            },
            "type": "scattergl"
           }
          ],
          "scattermapbox": [
           {
            "marker": {
             "colorbar": {
              "outlinewidth": 0,
              "ticks": ""
             }
            },
            "type": "scattermapbox"
           }
          ],
          "scatterpolar": [
           {
            "marker": {
             "colorbar": {
              "outlinewidth": 0,
              "ticks": ""
             }
            },
            "type": "scatterpolar"
           }
          ],
          "scatterpolargl": [
           {
            "marker": {
             "colorbar": {
              "outlinewidth": 0,
              "ticks": ""
             }
            },
            "type": "scatterpolargl"
           }
          ],
          "scatterternary": [
           {
            "marker": {
             "colorbar": {
              "outlinewidth": 0,
              "ticks": ""
             }
            },
            "type": "scatterternary"
           }
          ],
          "surface": [
           {
            "colorbar": {
             "outlinewidth": 0,
             "ticks": ""
            },
            "colorscale": [
             [
              0,
              "#0d0887"
             ],
             [
              0.1111111111111111,
              "#46039f"
             ],
             [
              0.2222222222222222,
              "#7201a8"
             ],
             [
              0.3333333333333333,
              "#9c179e"
             ],
             [
              0.4444444444444444,
              "#bd3786"
             ],
             [
              0.5555555555555556,
              "#d8576b"
             ],
             [
              0.6666666666666666,
              "#ed7953"
             ],
             [
              0.7777777777777778,
              "#fb9f3a"
             ],
             [
              0.8888888888888888,
              "#fdca26"
             ],
             [
              1,
              "#f0f921"
             ]
            ],
            "type": "surface"
           }
          ],
          "table": [
           {
            "cells": {
             "fill": {
              "color": "#EBF0F8"
             },
             "line": {
              "color": "white"
             }
            },
            "header": {
             "fill": {
              "color": "#C8D4E3"
             },
             "line": {
              "color": "white"
             }
            },
            "type": "table"
           }
          ]
         },
         "layout": {
          "annotationdefaults": {
           "arrowcolor": "#2a3f5f",
           "arrowhead": 0,
           "arrowwidth": 1
          },
          "autotypenumbers": "strict",
          "coloraxis": {
           "colorbar": {
            "outlinewidth": 0,
            "ticks": ""
           }
          },
          "colorscale": {
           "diverging": [
            [
             0,
             "#8e0152"
            ],
            [
             0.1,
             "#c51b7d"
            ],
            [
             0.2,
             "#de77ae"
            ],
            [
             0.3,
             "#f1b6da"
            ],
            [
             0.4,
             "#fde0ef"
            ],
            [
             0.5,
             "#f7f7f7"
            ],
            [
             0.6,
             "#e6f5d0"
            ],
            [
             0.7,
             "#b8e186"
            ],
            [
             0.8,
             "#7fbc41"
            ],
            [
             0.9,
             "#4d9221"
            ],
            [
             1,
             "#276419"
            ]
           ],
           "sequential": [
            [
             0,
             "#0d0887"
            ],
            [
             0.1111111111111111,
             "#46039f"
            ],
            [
             0.2222222222222222,
             "#7201a8"
            ],
            [
             0.3333333333333333,
             "#9c179e"
            ],
            [
             0.4444444444444444,
             "#bd3786"
            ],
            [
             0.5555555555555556,
             "#d8576b"
            ],
            [
             0.6666666666666666,
             "#ed7953"
            ],
            [
             0.7777777777777778,
             "#fb9f3a"
            ],
            [
             0.8888888888888888,
             "#fdca26"
            ],
            [
             1,
             "#f0f921"
            ]
           ],
           "sequentialminus": [
            [
             0,
             "#0d0887"
            ],
            [
             0.1111111111111111,
             "#46039f"
            ],
            [
             0.2222222222222222,
             "#7201a8"
            ],
            [
             0.3333333333333333,
             "#9c179e"
            ],
            [
             0.4444444444444444,
             "#bd3786"
            ],
            [
             0.5555555555555556,
             "#d8576b"
            ],
            [
             0.6666666666666666,
             "#ed7953"
            ],
            [
             0.7777777777777778,
             "#fb9f3a"
            ],
            [
             0.8888888888888888,
             "#fdca26"
            ],
            [
             1,
             "#f0f921"
            ]
           ]
          },
          "colorway": [
           "#636efa",
           "#EF553B",
           "#00cc96",
           "#ab63fa",
           "#FFA15A",
           "#19d3f3",
           "#FF6692",
           "#B6E880",
           "#FF97FF",
           "#FECB52"
          ],
          "font": {
           "color": "#2a3f5f"
          },
          "geo": {
           "bgcolor": "white",
           "lakecolor": "white",
           "landcolor": "#E5ECF6",
           "showlakes": true,
           "showland": true,
           "subunitcolor": "white"
          },
          "hoverlabel": {
           "align": "left"
          },
          "hovermode": "closest",
          "mapbox": {
           "style": "light"
          },
          "paper_bgcolor": "white",
          "plot_bgcolor": "#E5ECF6",
          "polar": {
           "angularaxis": {
            "gridcolor": "white",
            "linecolor": "white",
            "ticks": ""
           },
           "bgcolor": "#E5ECF6",
           "radialaxis": {
            "gridcolor": "white",
            "linecolor": "white",
            "ticks": ""
           }
          },
          "scene": {
           "xaxis": {
            "backgroundcolor": "#E5ECF6",
            "gridcolor": "white",
            "gridwidth": 2,
            "linecolor": "white",
            "showbackground": true,
            "ticks": "",
            "zerolinecolor": "white"
           },
           "yaxis": {
            "backgroundcolor": "#E5ECF6",
            "gridcolor": "white",
            "gridwidth": 2,
            "linecolor": "white",
            "showbackground": true,
            "ticks": "",
            "zerolinecolor": "white"
           },
           "zaxis": {
            "backgroundcolor": "#E5ECF6",
            "gridcolor": "white",
            "gridwidth": 2,
            "linecolor": "white",
            "showbackground": true,
            "ticks": "",
            "zerolinecolor": "white"
           }
          },
          "shapedefaults": {
           "line": {
            "color": "#2a3f5f"
           }
          },
          "ternary": {
           "aaxis": {
            "gridcolor": "white",
            "linecolor": "white",
            "ticks": ""
           },
           "baxis": {
            "gridcolor": "white",
            "linecolor": "white",
            "ticks": ""
           },
           "bgcolor": "#E5ECF6",
           "caxis": {
            "gridcolor": "white",
            "linecolor": "white",
            "ticks": ""
           }
          },
          "title": {
           "x": 0.05
          },
          "xaxis": {
           "automargin": true,
           "gridcolor": "white",
           "linecolor": "white",
           "ticks": "",
           "title": {
            "standoff": 15
           },
           "zerolinecolor": "white",
           "zerolinewidth": 2
          },
          "yaxis": {
           "automargin": true,
           "gridcolor": "white",
           "linecolor": "white",
           "ticks": "",
           "title": {
            "standoff": 15
           },
           "zerolinecolor": "white",
           "zerolinewidth": 2
          }
         }
        },
        "title": {
         "text": "Classification Report Summary"
        }
       }
      }
     },
     "metadata": {},
     "output_type": "display_data"
    },
    {
     "data": {
      "application/vnd.plotly.v1+json": {
       "config": {
        "plotlyServerURL": "https://plot.ly"
       },
       "data": [
        {
         "colorscale": [
          [
           0,
           "rgb(247,251,255)"
          ],
          [
           0.125,
           "rgb(222,235,247)"
          ],
          [
           0.25,
           "rgb(198,219,239)"
          ],
          [
           0.375,
           "rgb(158,202,225)"
          ],
          [
           0.5,
           "rgb(107,174,214)"
          ],
          [
           0.625,
           "rgb(66,146,198)"
          ],
          [
           0.75,
           "rgb(33,113,181)"
          ],
          [
           0.875,
           "rgb(8,81,156)"
          ],
          [
           1,
           "rgb(8,48,107)"
          ]
         ],
         "reversescale": false,
         "showscale": true,
         "type": "heatmap",
         "x": [
          "Predicted 0",
          "Predicted 1"
         ],
         "y": [
          "Predicted 0",
          "Predicted 1"
         ],
         "z": [
          [
           0.9053030303030303,
           0.0946969696969697
          ],
          [
           0.89,
           0.11
          ]
         ]
        }
       ],
       "layout": {
        "annotations": [
         {
          "font": {
           "color": "#FFFFFF"
          },
          "showarrow": false,
          "text": "0.91",
          "x": "Predicted 0",
          "xref": "x",
          "y": "Predicted 0",
          "yref": "y"
         },
         {
          "font": {
           "color": "#000000"
          },
          "showarrow": false,
          "text": "0.09",
          "x": "Predicted 1",
          "xref": "x",
          "y": "Predicted 0",
          "yref": "y"
         },
         {
          "font": {
           "color": "#FFFFFF"
          },
          "showarrow": false,
          "text": "0.89",
          "x": "Predicted 0",
          "xref": "x",
          "y": "Predicted 1",
          "yref": "y"
         },
         {
          "font": {
           "color": "#000000"
          },
          "showarrow": false,
          "text": "0.11",
          "x": "Predicted 1",
          "xref": "x",
          "y": "Predicted 1",
          "yref": "y"
         }
        ],
        "template": {
         "data": {
          "bar": [
           {
            "error_x": {
             "color": "#2a3f5f"
            },
            "error_y": {
             "color": "#2a3f5f"
            },
            "marker": {
             "line": {
              "color": "#E5ECF6",
              "width": 0.5
             },
             "pattern": {
              "fillmode": "overlay",
              "size": 10,
              "solidity": 0.2
             }
            },
            "type": "bar"
           }
          ],
          "barpolar": [
           {
            "marker": {
             "line": {
              "color": "#E5ECF6",
              "width": 0.5
             },
             "pattern": {
              "fillmode": "overlay",
              "size": 10,
              "solidity": 0.2
             }
            },
            "type": "barpolar"
           }
          ],
          "carpet": [
           {
            "aaxis": {
             "endlinecolor": "#2a3f5f",
             "gridcolor": "white",
             "linecolor": "white",
             "minorgridcolor": "white",
             "startlinecolor": "#2a3f5f"
            },
            "baxis": {
             "endlinecolor": "#2a3f5f",
             "gridcolor": "white",
             "linecolor": "white",
             "minorgridcolor": "white",
             "startlinecolor": "#2a3f5f"
            },
            "type": "carpet"
           }
          ],
          "choropleth": [
           {
            "colorbar": {
             "outlinewidth": 0,
             "ticks": ""
            },
            "type": "choropleth"
           }
          ],
          "contour": [
           {
            "colorbar": {
             "outlinewidth": 0,
             "ticks": ""
            },
            "colorscale": [
             [
              0,
              "#0d0887"
             ],
             [
              0.1111111111111111,
              "#46039f"
             ],
             [
              0.2222222222222222,
              "#7201a8"
             ],
             [
              0.3333333333333333,
              "#9c179e"
             ],
             [
              0.4444444444444444,
              "#bd3786"
             ],
             [
              0.5555555555555556,
              "#d8576b"
             ],
             [
              0.6666666666666666,
              "#ed7953"
             ],
             [
              0.7777777777777778,
              "#fb9f3a"
             ],
             [
              0.8888888888888888,
              "#fdca26"
             ],
             [
              1,
              "#f0f921"
             ]
            ],
            "type": "contour"
           }
          ],
          "contourcarpet": [
           {
            "colorbar": {
             "outlinewidth": 0,
             "ticks": ""
            },
            "type": "contourcarpet"
           }
          ],
          "heatmap": [
           {
            "colorbar": {
             "outlinewidth": 0,
             "ticks": ""
            },
            "colorscale": [
             [
              0,
              "#0d0887"
             ],
             [
              0.1111111111111111,
              "#46039f"
             ],
             [
              0.2222222222222222,
              "#7201a8"
             ],
             [
              0.3333333333333333,
              "#9c179e"
             ],
             [
              0.4444444444444444,
              "#bd3786"
             ],
             [
              0.5555555555555556,
              "#d8576b"
             ],
             [
              0.6666666666666666,
              "#ed7953"
             ],
             [
              0.7777777777777778,
              "#fb9f3a"
             ],
             [
              0.8888888888888888,
              "#fdca26"
             ],
             [
              1,
              "#f0f921"
             ]
            ],
            "type": "heatmap"
           }
          ],
          "heatmapgl": [
           {
            "colorbar": {
             "outlinewidth": 0,
             "ticks": ""
            },
            "colorscale": [
             [
              0,
              "#0d0887"
             ],
             [
              0.1111111111111111,
              "#46039f"
             ],
             [
              0.2222222222222222,
              "#7201a8"
             ],
             [
              0.3333333333333333,
              "#9c179e"
             ],
             [
              0.4444444444444444,
              "#bd3786"
             ],
             [
              0.5555555555555556,
              "#d8576b"
             ],
             [
              0.6666666666666666,
              "#ed7953"
             ],
             [
              0.7777777777777778,
              "#fb9f3a"
             ],
             [
              0.8888888888888888,
              "#fdca26"
             ],
             [
              1,
              "#f0f921"
             ]
            ],
            "type": "heatmapgl"
           }
          ],
          "histogram": [
           {
            "marker": {
             "pattern": {
              "fillmode": "overlay",
              "size": 10,
              "solidity": 0.2
             }
            },
            "type": "histogram"
           }
          ],
          "histogram2d": [
           {
            "colorbar": {
             "outlinewidth": 0,
             "ticks": ""
            },
            "colorscale": [
             [
              0,
              "#0d0887"
             ],
             [
              0.1111111111111111,
              "#46039f"
             ],
             [
              0.2222222222222222,
              "#7201a8"
             ],
             [
              0.3333333333333333,
              "#9c179e"
             ],
             [
              0.4444444444444444,
              "#bd3786"
             ],
             [
              0.5555555555555556,
              "#d8576b"
             ],
             [
              0.6666666666666666,
              "#ed7953"
             ],
             [
              0.7777777777777778,
              "#fb9f3a"
             ],
             [
              0.8888888888888888,
              "#fdca26"
             ],
             [
              1,
              "#f0f921"
             ]
            ],
            "type": "histogram2d"
           }
          ],
          "histogram2dcontour": [
           {
            "colorbar": {
             "outlinewidth": 0,
             "ticks": ""
            },
            "colorscale": [
             [
              0,
              "#0d0887"
             ],
             [
              0.1111111111111111,
              "#46039f"
             ],
             [
              0.2222222222222222,
              "#7201a8"
             ],
             [
              0.3333333333333333,
              "#9c179e"
             ],
             [
              0.4444444444444444,
              "#bd3786"
             ],
             [
              0.5555555555555556,
              "#d8576b"
             ],
             [
              0.6666666666666666,
              "#ed7953"
             ],
             [
              0.7777777777777778,
              "#fb9f3a"
             ],
             [
              0.8888888888888888,
              "#fdca26"
             ],
             [
              1,
              "#f0f921"
             ]
            ],
            "type": "histogram2dcontour"
           }
          ],
          "mesh3d": [
           {
            "colorbar": {
             "outlinewidth": 0,
             "ticks": ""
            },
            "type": "mesh3d"
           }
          ],
          "parcoords": [
           {
            "line": {
             "colorbar": {
              "outlinewidth": 0,
              "ticks": ""
             }
            },
            "type": "parcoords"
           }
          ],
          "pie": [
           {
            "automargin": true,
            "type": "pie"
           }
          ],
          "scatter": [
           {
            "fillpattern": {
             "fillmode": "overlay",
             "size": 10,
             "solidity": 0.2
            },
            "type": "scatter"
           }
          ],
          "scatter3d": [
           {
            "line": {
             "colorbar": {
              "outlinewidth": 0,
              "ticks": ""
             }
            },
            "marker": {
             "colorbar": {
              "outlinewidth": 0,
              "ticks": ""
             }
            },
            "type": "scatter3d"
           }
          ],
          "scattercarpet": [
           {
            "marker": {
             "colorbar": {
              "outlinewidth": 0,
              "ticks": ""
             }
            },
            "type": "scattercarpet"
           }
          ],
          "scattergeo": [
           {
            "marker": {
             "colorbar": {
              "outlinewidth": 0,
              "ticks": ""
             }
            },
            "type": "scattergeo"
           }
          ],
          "scattergl": [
           {
            "marker": {
             "colorbar": {
              "outlinewidth": 0,
              "ticks": ""
             }
            },
            "type": "scattergl"
           }
          ],
          "scattermapbox": [
           {
            "marker": {
             "colorbar": {
              "outlinewidth": 0,
              "ticks": ""
             }
            },
            "type": "scattermapbox"
           }
          ],
          "scatterpolar": [
           {
            "marker": {
             "colorbar": {
              "outlinewidth": 0,
              "ticks": ""
             }
            },
            "type": "scatterpolar"
           }
          ],
          "scatterpolargl": [
           {
            "marker": {
             "colorbar": {
              "outlinewidth": 0,
              "ticks": ""
             }
            },
            "type": "scatterpolargl"
           }
          ],
          "scatterternary": [
           {
            "marker": {
             "colorbar": {
              "outlinewidth": 0,
              "ticks": ""
             }
            },
            "type": "scatterternary"
           }
          ],
          "surface": [
           {
            "colorbar": {
             "outlinewidth": 0,
             "ticks": ""
            },
            "colorscale": [
             [
              0,
              "#0d0887"
             ],
             [
              0.1111111111111111,
              "#46039f"
             ],
             [
              0.2222222222222222,
              "#7201a8"
             ],
             [
              0.3333333333333333,
              "#9c179e"
             ],
             [
              0.4444444444444444,
              "#bd3786"
             ],
             [
              0.5555555555555556,
              "#d8576b"
             ],
             [
              0.6666666666666666,
              "#ed7953"
             ],
             [
              0.7777777777777778,
              "#fb9f3a"
             ],
             [
              0.8888888888888888,
              "#fdca26"
             ],
             [
              1,
              "#f0f921"
             ]
            ],
            "type": "surface"
           }
          ],
          "table": [
           {
            "cells": {
             "fill": {
              "color": "#EBF0F8"
             },
             "line": {
              "color": "white"
             }
            },
            "header": {
             "fill": {
              "color": "#C8D4E3"
             },
             "line": {
              "color": "white"
             }
            },
            "type": "table"
           }
          ]
         },
         "layout": {
          "annotationdefaults": {
           "arrowcolor": "#2a3f5f",
           "arrowhead": 0,
           "arrowwidth": 1
          },
          "autotypenumbers": "strict",
          "coloraxis": {
           "colorbar": {
            "outlinewidth": 0,
            "ticks": ""
           }
          },
          "colorscale": {
           "diverging": [
            [
             0,
             "#8e0152"
            ],
            [
             0.1,
             "#c51b7d"
            ],
            [
             0.2,
             "#de77ae"
            ],
            [
             0.3,
             "#f1b6da"
            ],
            [
             0.4,
             "#fde0ef"
            ],
            [
             0.5,
             "#f7f7f7"
            ],
            [
             0.6,
             "#e6f5d0"
            ],
            [
             0.7,
             "#b8e186"
            ],
            [
             0.8,
             "#7fbc41"
            ],
            [
             0.9,
             "#4d9221"
            ],
            [
             1,
             "#276419"
            ]
           ],
           "sequential": [
            [
             0,
             "#0d0887"
            ],
            [
             0.1111111111111111,
             "#46039f"
            ],
            [
             0.2222222222222222,
             "#7201a8"
            ],
            [
             0.3333333333333333,
             "#9c179e"
            ],
            [
             0.4444444444444444,
             "#bd3786"
            ],
            [
             0.5555555555555556,
             "#d8576b"
            ],
            [
             0.6666666666666666,
             "#ed7953"
            ],
            [
             0.7777777777777778,
             "#fb9f3a"
            ],
            [
             0.8888888888888888,
             "#fdca26"
            ],
            [
             1,
             "#f0f921"
            ]
           ],
           "sequentialminus": [
            [
             0,
             "#0d0887"
            ],
            [
             0.1111111111111111,
             "#46039f"
            ],
            [
             0.2222222222222222,
             "#7201a8"
            ],
            [
             0.3333333333333333,
             "#9c179e"
            ],
            [
             0.4444444444444444,
             "#bd3786"
            ],
            [
             0.5555555555555556,
             "#d8576b"
            ],
            [
             0.6666666666666666,
             "#ed7953"
            ],
            [
             0.7777777777777778,
             "#fb9f3a"
            ],
            [
             0.8888888888888888,
             "#fdca26"
            ],
            [
             1,
             "#f0f921"
            ]
           ]
          },
          "colorway": [
           "#636efa",
           "#EF553B",
           "#00cc96",
           "#ab63fa",
           "#FFA15A",
           "#19d3f3",
           "#FF6692",
           "#B6E880",
           "#FF97FF",
           "#FECB52"
          ],
          "font": {
           "color": "#2a3f5f"
          },
          "geo": {
           "bgcolor": "white",
           "lakecolor": "white",
           "landcolor": "#E5ECF6",
           "showlakes": true,
           "showland": true,
           "subunitcolor": "white"
          },
          "hoverlabel": {
           "align": "left"
          },
          "hovermode": "closest",
          "mapbox": {
           "style": "light"
          },
          "paper_bgcolor": "white",
          "plot_bgcolor": "#E5ECF6",
          "polar": {
           "angularaxis": {
            "gridcolor": "white",
            "linecolor": "white",
            "ticks": ""
           },
           "bgcolor": "#E5ECF6",
           "radialaxis": {
            "gridcolor": "white",
            "linecolor": "white",
            "ticks": ""
           }
          },
          "scene": {
           "xaxis": {
            "backgroundcolor": "#E5ECF6",
            "gridcolor": "white",
            "gridwidth": 2,
            "linecolor": "white",
            "showbackground": true,
            "ticks": "",
            "zerolinecolor": "white"
           },
           "yaxis": {
            "backgroundcolor": "#E5ECF6",
            "gridcolor": "white",
            "gridwidth": 2,
            "linecolor": "white",
            "showbackground": true,
            "ticks": "",
            "zerolinecolor": "white"
           },
           "zaxis": {
            "backgroundcolor": "#E5ECF6",
            "gridcolor": "white",
            "gridwidth": 2,
            "linecolor": "white",
            "showbackground": true,
            "ticks": "",
            "zerolinecolor": "white"
           }
          },
          "shapedefaults": {
           "line": {
            "color": "#2a3f5f"
           }
          },
          "ternary": {
           "aaxis": {
            "gridcolor": "white",
            "linecolor": "white",
            "ticks": ""
           },
           "baxis": {
            "gridcolor": "white",
            "linecolor": "white",
            "ticks": ""
           },
           "bgcolor": "#E5ECF6",
           "caxis": {
            "gridcolor": "white",
            "linecolor": "white",
            "ticks": ""
           }
          },
          "title": {
           "x": 0.05
          },
          "xaxis": {
           "automargin": true,
           "gridcolor": "white",
           "linecolor": "white",
           "ticks": "",
           "title": {
            "standoff": 15
           },
           "zerolinecolor": "white",
           "zerolinewidth": 2
          },
          "yaxis": {
           "automargin": true,
           "gridcolor": "white",
           "linecolor": "white",
           "ticks": "",
           "title": {
            "standoff": 15
           },
           "zerolinecolor": "white",
           "zerolinewidth": 2
          }
         }
        },
        "title": {
         "text": "Normalized Confusion Matrix (Row-wise)"
        },
        "xaxis": {
         "dtick": 1,
         "gridcolor": "rgb(0, 0, 0)",
         "side": "top",
         "ticks": "",
         "title": {
          "text": "Predicted"
         }
        },
        "yaxis": {
         "dtick": 1,
         "ticks": "",
         "ticksuffix": "  ",
         "title": {
          "text": "Actual"
         }
        }
       }
      }
     },
     "metadata": {},
     "output_type": "display_data"
    },
    {
     "data": {
      "image/png": "[encoded data removed]",
      "text/plain": [
       "<Figure size 1000x200 with 2 Axes>"
      ]
     },
     "metadata": {},
     "output_type": "display_data"
    },
    {
     "name": "stdout",
     "output_type": "stream",
     "text": [
      "Best threshold found: 0.475 with final return 1.3980\n",
      "\n",
      "Backtesting with best threshold 0.475:\n"
     ]
    },
    {
     "data": {
      "application/vnd.plotly.v1+json": {
       "config": {
        "plotlyServerURL": "https://plot.ly"
       },
       "data": [
        {
         "line": {
          "color": "dodgerblue",
          "width": 2
         },
         "mode": "lines",
         "name": "Strategy",
         "type": "scatter",
         "x": [
          "2021-11-09T00:00:00",
          "2021-11-10T00:00:00",
          "2021-11-11T00:00:00",
          "2021-11-12T00:00:00",
          "2021-11-15T00:00:00",
          "2021-11-16T00:00:00",
          "2021-11-17T00:00:00",
          "2021-11-18T00:00:00",
          "2021-11-19T00:00:00",
          "2021-11-22T00:00:00",
          "2021-11-23T00:00:00",
          "2021-11-24T00:00:00",
          "2021-11-26T00:00:00",
          "2021-11-29T00:00:00",
          "2021-11-30T00:00:00",
          "2021-12-01T00:00:00",
          "2021-12-02T00:00:00",
          "2021-12-03T00:00:00",
          "2021-12-06T00:00:00",
          "2021-12-07T00:00:00",
          "2021-12-08T00:00:00",
          "2021-12-09T00:00:00",
          "2021-12-10T00:00:00",
          "2021-12-13T00:00:00",
          "2021-12-14T00:00:00",
          "2021-12-15T00:00:00",
          "2021-12-16T00:00:00",
          "2021-12-17T00:00:00",
          "2021-12-20T00:00:00",
          "2021-12-21T00:00:00",
          "2021-12-22T00:00:00",
          "2021-12-23T00:00:00",
          "2021-12-27T00:00:00",
          "2021-12-28T00:00:00",
          "2021-12-29T00:00:00",
          "2021-12-30T00:00:00",
          "2021-12-31T00:00:00",
          "2022-01-03T00:00:00",
          "2022-01-04T00:00:00",
          "2022-01-05T00:00:00",
          "2022-01-06T00:00:00",
          "2022-01-07T00:00:00",
          "2022-01-10T00:00:00",
          "2022-01-11T00:00:00",
          "2022-01-12T00:00:00",
          "2022-01-13T00:00:00",
          "2022-01-14T00:00:00",
          "2022-01-18T00:00:00",
          "2022-01-19T00:00:00",
          "2022-01-20T00:00:00",
          "2022-01-21T00:00:00",
          "2022-01-24T00:00:00",
          "2022-01-25T00:00:00",
          "2022-01-26T00:00:00",
          "2022-01-27T00:00:00",
          "2022-01-28T00:00:00",
          "2022-01-31T00:00:00",
          "2022-02-01T00:00:00",
          "2022-02-02T00:00:00",
          "2022-02-03T00:00:00",
          "2022-02-04T00:00:00",
          "2022-02-07T00:00:00",
          "2022-02-08T00:00:00",
          "2022-02-09T00:00:00",
          "2022-02-10T00:00:00",
          "2022-02-11T00:00:00",
          "2022-02-14T00:00:00",
          "2022-02-15T00:00:00",
          "2022-02-16T00:00:00",
          "2022-02-17T00:00:00",
          "2022-02-18T00:00:00",
          "2022-02-22T00:00:00",
          "2022-02-23T00:00:00",
          "2022-02-24T00:00:00",
          "2022-02-25T00:00:00",
          "2022-02-28T00:00:00",
          "2022-03-01T00:00:00",
          "2022-03-02T00:00:00",
          "2022-03-03T00:00:00",
          "2022-03-04T00:00:00",
          "2022-03-07T00:00:00",
          "2022-03-08T00:00:00",
          "2022-03-09T00:00:00",
          "2022-03-10T00:00:00",
          "2022-03-11T00:00:00",
          "2022-03-14T00:00:00",
          "2022-03-15T00:00:00",
          "2022-03-16T00:00:00",
          "2022-03-17T00:00:00",
          "2022-03-18T00:00:00",
          "2022-03-21T00:00:00",
          "2022-03-22T00:00:00",
          "2022-03-23T00:00:00",
          "2022-03-24T00:00:00",
          "2022-03-25T00:00:00",
          "2022-03-28T00:00:00",
          "2022-03-29T00:00:00",
          "2022-03-30T00:00:00",
          "2022-03-31T00:00:00",
          "2022-04-01T00:00:00",
          "2022-04-04T00:00:00",
          "2022-04-05T00:00:00",
          "2022-04-06T00:00:00",
          "2022-04-07T00:00:00",
          "2022-04-08T00:00:00",
          "2022-04-11T00:00:00",
          "2022-04-12T00:00:00",
          "2022-04-13T00:00:00",
          "2022-04-14T00:00:00",
          "2022-04-18T00:00:00",
          "2022-04-19T00:00:00",
          "2022-04-20T00:00:00",
          "2022-04-21T00:00:00",
          "2022-04-22T00:00:00",
          "2022-04-25T00:00:00",
          "2022-04-26T00:00:00",
          "2022-04-27T00:00:00",
          "2022-04-28T00:00:00",
          "2022-04-29T00:00:00",
          "2022-05-02T00:00:00",
          "2022-05-03T00:00:00",
          "2022-05-04T00:00:00",
          "2022-05-05T00:00:00",
          "2022-05-06T00:00:00",
          "2022-05-09T00:00:00",
          "2022-05-10T00:00:00",
          "2022-05-11T00:00:00",
          "2022-05-12T00:00:00",
          "2022-05-13T00:00:00",
          "2022-05-16T00:00:00",
          "2022-05-17T00:00:00",
          "2022-05-18T00:00:00",
          "2022-05-19T00:00:00",
          "2022-05-20T00:00:00",
          "2022-05-23T00:00:00",
          "2022-05-24T00:00:00",
          "2022-05-25T00:00:00",
          "2022-05-26T00:00:00",
          "2022-05-27T00:00:00",
          "2022-05-31T00:00:00",
          "2022-06-01T00:00:00",
          "2022-06-02T00:00:00",
          "2022-06-03T00:00:00",
          "2022-06-06T00:00:00",
          "2022-06-07T00:00:00",
          "2022-06-08T00:00:00",
          "2022-06-09T00:00:00",
          "2022-06-10T00:00:00",
          "2022-06-13T00:00:00",
          "2022-06-14T00:00:00",
          "2022-06-15T00:00:00",
          "2022-06-16T00:00:00",
          "2022-06-17T00:00:00",
          "2022-06-21T00:00:00",
          "2022-06-22T00:00:00",
          "2022-06-23T00:00:00",
          "2022-06-24T00:00:00",
          "2022-06-27T00:00:00",
          "2022-06-28T00:00:00",
          "2022-06-29T00:00:00",
          "2022-06-30T00:00:00",
          "2022-07-01T00:00:00",
          "2022-07-05T00:00:00",
          "2022-07-06T00:00:00",
          "2022-07-07T00:00:00",
          "2022-07-08T00:00:00",
          "2022-07-11T00:00:00",
          "2022-07-12T00:00:00",
          "2022-07-13T00:00:00",
          "2022-07-14T00:00:00",
          "2022-07-15T00:00:00",
          "2022-07-18T00:00:00",
          "2022-07-19T00:00:00",
          "2022-07-20T00:00:00",
          "2022-07-21T00:00:00",
          "2022-07-22T00:00:00",
          "2022-07-25T00:00:00",
          "2022-07-26T00:00:00",
          "2022-07-27T00:00:00",
          "2022-07-28T00:00:00",
          "2022-07-29T00:00:00",
          "2022-08-01T00:00:00",
          "2022-08-02T00:00:00",
          "2022-08-03T00:00:00",
          "2022-08-04T00:00:00",
          "2022-08-05T00:00:00",
          "2022-08-08T00:00:00",
          "2022-08-09T00:00:00",
          "2022-08-10T00:00:00",
          "2022-08-11T00:00:00",
          "2022-08-12T00:00:00",
          "2022-08-15T00:00:00",
          "2022-08-16T00:00:00",
          "2022-08-17T00:00:00",
          "2022-08-18T00:00:00",
          "2022-08-19T00:00:00",
          "2022-08-22T00:00:00",
          "2022-08-23T00:00:00",
          "2022-08-24T00:00:00",
          "2022-08-25T00:00:00",
          "2022-08-26T00:00:00",
          "2022-08-29T00:00:00",
          "2022-08-30T00:00:00",
          "2022-08-31T00:00:00",
          "2022-09-01T00:00:00",
          "2022-09-02T00:00:00",
          "2022-09-06T00:00:00",
          "2022-09-07T00:00:00",
          "2022-09-08T00:00:00",
          "2022-09-09T00:00:00",
          "2022-09-12T00:00:00",
          "2022-09-13T00:00:00",
          "2022-09-14T00:00:00",
          "2022-09-15T00:00:00",
          "2022-09-16T00:00:00",
          "2022-09-19T00:00:00",
          "2022-09-20T00:00:00",
          "2022-09-21T00:00:00",
          "2022-09-22T00:00:00",
          "2022-09-23T00:00:00",
          "2022-09-26T00:00:00",
          "2022-09-27T00:00:00",
          "2022-09-28T00:00:00",
          "2022-09-29T00:00:00",
          "2022-09-30T00:00:00",
          "2022-10-03T00:00:00",
          "2022-10-04T00:00:00",
          "2022-10-05T00:00:00",
          "2022-10-06T00:00:00",
          "2022-10-07T00:00:00",
          "2022-10-10T00:00:00",
          "2022-10-11T00:00:00",
          "2022-10-12T00:00:00",
          "2022-10-13T00:00:00",
          "2022-10-14T00:00:00",
          "2022-10-17T00:00:00",
          "2022-10-18T00:00:00",
          "2022-10-19T00:00:00",
          "2022-10-20T00:00:00",
          "2022-10-21T00:00:00",
          "2022-10-24T00:00:00",
          "2022-10-25T00:00:00",
          "2022-10-26T00:00:00",
          "2022-10-27T00:00:00",
          "2022-10-28T00:00:00",
          "2022-10-31T00:00:00",
          "2022-11-01T00:00:00",
          "2022-11-02T00:00:00",
          "2022-11-03T00:00:00",
          "2022-11-04T00:00:00",
          "2022-11-07T00:00:00",
          "2022-11-08T00:00:00",
          "2022-11-09T00:00:00",
          "2022-11-10T00:00:00",
          "2022-11-11T00:00:00",
          "2022-11-14T00:00:00",
          "2022-11-15T00:00:00",
          "2022-11-16T00:00:00",
          "2022-11-17T00:00:00",
          "2022-11-18T00:00:00",
          "2022-11-21T00:00:00",
          "2022-11-22T00:00:00",
          "2022-11-23T00:00:00",
          "2022-11-25T00:00:00",
          "2022-11-28T00:00:00",
          "2022-11-29T00:00:00",
          "2022-11-30T00:00:00",
          "2022-12-01T00:00:00",
          "2022-12-02T00:00:00",
          "2022-12-05T00:00:00",
          "2022-12-06T00:00:00",
          "2022-12-07T00:00:00",
          "2022-12-08T00:00:00",
          "2022-12-09T00:00:00",
          "2022-12-12T00:00:00",
          "2022-12-13T00:00:00",
          "2022-12-14T00:00:00",
          "2022-12-15T00:00:00",
          "2022-12-16T00:00:00",
          "2022-12-19T00:00:00",
          "2022-12-20T00:00:00",
          "2022-12-21T00:00:00",
          "2022-12-22T00:00:00",
          "2022-12-23T00:00:00",
          "2022-12-27T00:00:00",
          "2022-12-28T00:00:00",
          "2022-12-29T00:00:00",
          "2022-12-30T00:00:00",
          "2023-01-03T00:00:00",
          "2023-01-04T00:00:00",
          "2023-01-05T00:00:00",
          "2023-01-06T00:00:00",
          "2023-01-09T00:00:00",
          "2023-01-10T00:00:00",
          "2023-01-11T00:00:00",
          "2023-01-12T00:00:00",
          "2023-01-13T00:00:00",
          "2023-01-17T00:00:00",
          "2023-01-18T00:00:00",
          "2023-01-19T00:00:00",
          "2023-01-20T00:00:00",
          "2023-01-23T00:00:00",
          "2023-01-24T00:00:00",
          "2023-01-25T00:00:00",
          "2023-01-26T00:00:00",
          "2023-01-27T00:00:00",
          "2023-01-30T00:00:00",
          "2023-01-31T00:00:00",
          "2023-02-01T00:00:00",
          "2023-02-02T00:00:00",
          "2023-02-03T00:00:00",
          "2023-02-06T00:00:00",
          "2023-02-07T00:00:00",
          "2023-02-08T00:00:00",
          "2023-02-09T00:00:00",
          "2023-02-10T00:00:00",
          "2023-02-13T00:00:00",
          "2023-02-14T00:00:00",
          "2023-02-15T00:00:00",
          "2023-02-16T00:00:00",
          "2023-02-17T00:00:00",
          "2023-02-21T00:00:00",
          "2023-02-22T00:00:00",
          "2023-02-23T00:00:00",
          "2023-02-24T00:00:00",
          "2023-02-27T00:00:00",
          "2023-02-28T00:00:00",
          "2023-03-01T00:00:00",
          "2023-03-02T00:00:00",
          "2023-03-03T00:00:00",
          "2023-03-06T00:00:00",
          "2023-03-07T00:00:00",
          "2023-03-08T00:00:00",
          "2023-03-09T00:00:00",
          "2023-03-10T00:00:00",
          "2023-03-13T00:00:00",
          "2023-03-14T00:00:00",
          "2023-03-15T00:00:00",
          "2023-03-16T00:00:00",
          "2023-03-17T00:00:00",
          "2023-03-20T00:00:00",
          "2023-03-21T00:00:00",
          "2023-03-22T00:00:00",
          "2023-03-23T00:00:00",
          "2023-03-24T00:00:00",
          "2023-03-27T00:00:00",
          "2023-03-28T00:00:00",
          "2023-03-29T00:00:00",
          "2023-03-30T00:00:00",
          "2023-03-31T00:00:00",
          "2023-04-03T00:00:00",
          "2023-04-04T00:00:00",
          "2023-04-05T00:00:00",
          "2023-04-06T00:00:00",
          "2023-04-10T00:00:00",
          "2023-04-11T00:00:00",
          "2023-04-12T00:00:00",
          "2023-04-13T00:00:00",
          "2023-04-14T00:00:00",
          "2023-04-17T00:00:00",
          "2023-04-18T00:00:00",
          "2023-04-19T00:00:00",
          "2023-04-20T00:00:00",
          "2023-04-21T00:00:00",
          "2023-04-24T00:00:00",
          "2023-04-25T00:00:00",
          "2023-04-26T00:00:00",
          "2023-04-27T00:00:00",
          "2023-04-28T00:00:00",
          "2023-05-01T00:00:00",
          "2023-05-02T00:00:00",
          "2023-05-03T00:00:00",
          "2023-05-04T00:00:00",
          "2023-05-05T00:00:00",
          "2023-05-08T00:00:00",
          "2023-05-09T00:00:00",
          "2023-05-10T00:00:00",
          "2023-05-11T00:00:00",
          "2023-05-12T00:00:00",
          "2023-05-15T00:00:00",
          "2023-05-16T00:00:00",
          "2023-05-17T00:00:00",
          "2023-05-18T00:00:00",
          "2023-05-19T00:00:00",
          "2023-05-22T00:00:00",
          "2023-05-23T00:00:00",
          "2023-05-24T00:00:00",
          "2023-05-25T00:00:00",
          "2023-05-26T00:00:00",
          "2023-05-30T00:00:00",
          "2023-05-31T00:00:00",
          "2023-06-01T00:00:00",
          "2023-06-02T00:00:00",
          "2023-06-05T00:00:00",
          "2023-06-06T00:00:00",
          "2023-06-07T00:00:00",
          "2023-06-08T00:00:00",
          "2023-06-09T00:00:00",
          "2023-06-12T00:00:00",
          "2023-06-13T00:00:00",
          "2023-06-14T00:00:00",
          "2023-06-15T00:00:00",
          "2023-06-16T00:00:00",
          "2023-06-20T00:00:00",
          "2023-06-21T00:00:00",
          "2023-06-22T00:00:00",
          "2023-06-23T00:00:00",
          "2023-06-26T00:00:00",
          "2023-06-27T00:00:00",
          "2023-06-28T00:00:00",
          "2023-06-29T00:00:00",
          "2023-06-30T00:00:00",
          "2023-07-03T00:00:00",
          "2023-07-05T00:00:00",
          "2023-07-06T00:00:00",
          "2023-07-07T00:00:00",
          "2023-07-10T00:00:00",
          "2023-07-11T00:00:00",
          "2023-07-12T00:00:00",
          "2023-07-13T00:00:00",
          "2023-07-14T00:00:00",
          "2023-07-17T00:00:00",
          "2023-07-18T00:00:00",
          "2023-07-19T00:00:00",
          "2023-07-20T00:00:00",
          "2023-07-21T00:00:00",
          "2023-07-24T00:00:00",
          "2023-07-25T00:00:00",
          "2023-07-26T00:00:00",
          "2023-07-27T00:00:00",
          "2023-07-28T00:00:00",
          "2023-07-31T00:00:00",
          "2023-08-01T00:00:00",
          "2023-08-02T00:00:00",
          "2023-08-03T00:00:00",
          "2023-08-04T00:00:00",
          "2023-08-07T00:00:00",
          "2023-08-08T00:00:00",
          "2023-08-09T00:00:00",
          "2023-08-10T00:00:00",
          "2023-08-11T00:00:00",
          "2023-08-14T00:00:00",
          "2023-08-15T00:00:00",
          "2023-08-16T00:00:00",
          "2023-08-17T00:00:00",
          "2023-08-18T00:00:00",
          "2023-08-21T00:00:00",
          "2023-08-22T00:00:00",
          "2023-08-23T00:00:00",
          "2023-08-24T00:00:00",
          "2023-08-25T00:00:00",
          "2023-08-28T00:00:00",
          "2023-08-29T00:00:00",
          "2023-08-30T00:00:00",
          "2023-08-31T00:00:00",
          "2023-09-01T00:00:00",
          "2023-09-05T00:00:00",
          "2023-09-06T00:00:00",
          "2023-09-07T00:00:00",
          "2023-09-08T00:00:00",
          "2023-09-11T00:00:00",
          "2023-09-12T00:00:00",
          "2023-09-13T00:00:00",
          "2023-09-14T00:00:00",
          "2023-09-15T00:00:00",
          "2023-09-18T00:00:00",
          "2023-09-19T00:00:00",
          "2023-09-20T00:00:00",
          "2023-09-21T00:00:00",
          "2023-09-22T00:00:00",
          "2023-09-25T00:00:00",
          "2023-09-26T00:00:00",
          "2023-09-27T00:00:00",
          "2023-09-28T00:00:00",
          "2023-09-29T00:00:00",
          "2023-10-02T00:00:00",
          "2023-10-03T00:00:00",
          "2023-10-04T00:00:00",
          "2023-10-05T00:00:00",
          "2023-10-06T00:00:00",
          "2023-10-09T00:00:00",
          "2023-10-10T00:00:00",
          "2023-10-11T00:00:00",
          "2023-10-12T00:00:00",
          "2023-10-13T00:00:00",
          "2023-10-16T00:00:00",
          "2023-10-17T00:00:00",
          "2023-10-18T00:00:00",
          "2023-10-19T00:00:00",
          "2023-10-20T00:00:00",
          "2023-10-23T00:00:00",
          "2023-10-24T00:00:00",
          "2023-10-25T00:00:00",
          "2023-10-26T00:00:00",
          "2023-10-27T00:00:00",
          "2023-10-30T00:00:00",
          "2023-10-31T00:00:00",
          "2023-11-01T00:00:00",
          "2023-11-02T00:00:00",
          "2023-11-03T00:00:00",
          "2023-11-06T00:00:00",
          "2023-11-07T00:00:00",
          "2023-11-08T00:00:00",
          "2023-11-09T00:00:00",
          "2023-11-10T00:00:00",
          "2023-11-13T00:00:00",
          "2023-11-14T00:00:00",
          "2023-11-15T00:00:00",
          "2023-11-16T00:00:00",
          "2023-11-17T00:00:00",
          "2023-11-20T00:00:00",
          "2023-11-21T00:00:00",
          "2023-11-22T00:00:00",
          "2023-11-24T00:00:00",
          "2023-11-27T00:00:00",
          "2023-11-28T00:00:00",
          "2023-11-29T00:00:00",
          "2023-11-30T00:00:00",
          "2023-12-01T00:00:00",
          "2023-12-04T00:00:00",
          "2023-12-05T00:00:00",
          "2023-12-06T00:00:00",
          "2023-12-07T00:00:00",
          "2023-12-08T00:00:00",
          "2023-12-11T00:00:00",
          "2023-12-12T00:00:00",
          "2023-12-13T00:00:00",
          "2023-12-14T00:00:00",
          "2023-12-15T00:00:00",
          "2023-12-18T00:00:00",
          "2023-12-19T00:00:00",
          "2023-12-20T00:00:00",
          "2023-12-21T00:00:00",
          "2023-12-22T00:00:00",
          "2023-12-26T00:00:00",
          "2023-12-27T00:00:00",
          "2023-12-28T00:00:00",
          "2023-12-29T00:00:00",
          "2024-01-02T00:00:00",
          "2024-01-03T00:00:00",
          "2024-01-04T00:00:00",
          "2024-01-05T00:00:00",
          "2024-01-08T00:00:00",
          "2024-01-09T00:00:00",
          "2024-01-10T00:00:00",
          "2024-01-11T00:00:00",
          "2024-01-12T00:00:00",
          "2024-01-16T00:00:00",
          "2024-01-17T00:00:00",
          "2024-01-18T00:00:00",
          "2024-01-19T00:00:00",
          "2024-01-22T00:00:00",
          "2024-01-23T00:00:00",
          "2024-01-24T00:00:00",
          "2024-01-25T00:00:00",
          "2024-01-26T00:00:00",
          "2024-01-29T00:00:00",
          "2024-01-30T00:00:00",
          "2024-01-31T00:00:00",
          "2024-02-01T00:00:00",
          "2024-02-02T00:00:00",
          "2024-02-05T00:00:00",
          "2024-02-06T00:00:00",
          "2024-02-07T00:00:00",
          "2024-02-08T00:00:00",
          "2024-02-09T00:00:00",
          "2024-02-12T00:00:00",
          "2024-02-13T00:00:00",
          "2024-02-14T00:00:00",
          "2024-02-15T00:00:00",
          "2024-02-16T00:00:00",
          "2024-02-20T00:00:00",
          "2024-02-21T00:00:00",
          "2024-02-22T00:00:00",
          "2024-02-23T00:00:00",
          "2024-02-26T00:00:00",
          "2024-02-27T00:00:00",
          "2024-02-28T00:00:00",
          "2024-02-29T00:00:00",
          "2024-03-01T00:00:00",
          "2024-03-04T00:00:00",
          "2024-03-05T00:00:00",
          "2024-03-06T00:00:00",
          "2024-03-07T00:00:00",
          "2024-03-08T00:00:00",
          "2024-03-11T00:00:00",
          "2024-03-12T00:00:00",
          "2024-03-13T00:00:00",
          "2024-03-14T00:00:00",
          "2024-03-15T00:00:00",
          "2024-03-18T00:00:00",
          "2024-03-19T00:00:00",
          "2024-03-20T00:00:00",
          "2024-03-21T00:00:00",
          "2024-03-22T00:00:00",
          "2024-03-25T00:00:00",
          "2024-03-26T00:00:00",
          "2024-03-27T00:00:00",
          "2024-03-28T00:00:00",
          "2024-04-01T00:00:00",
          "2024-04-02T00:00:00",
          "2024-04-03T00:00:00",
          "2024-04-04T00:00:00",
          "2024-04-05T00:00:00",
          "2024-04-08T00:00:00",
          "2024-04-09T00:00:00",
          "2024-04-10T00:00:00",
          "2024-04-11T00:00:00",
          "2024-04-12T00:00:00",
          "2024-04-15T00:00:00",
          "2024-04-16T00:00:00",
          "2024-04-17T00:00:00",
          "2024-04-18T00:00:00",
          "2024-04-19T00:00:00",
          "2024-04-22T00:00:00",
          "2024-04-23T00:00:00",
          "2024-04-24T00:00:00",
          "2024-04-25T00:00:00",
          "2024-04-26T00:00:00",
          "2024-04-29T00:00:00",
          "2024-04-30T00:00:00",
          "2024-05-01T00:00:00",
          "2024-05-02T00:00:00",
          "2024-05-03T00:00:00",
          "2024-05-06T00:00:00",
          "2024-05-07T00:00:00",
          "2024-05-08T00:00:00",
          "2024-05-09T00:00:00",
          "2024-05-10T00:00:00",
          "2024-05-13T00:00:00",
          "2024-05-14T00:00:00",
          "2024-05-15T00:00:00",
          "2024-05-16T00:00:00",
          "2024-05-17T00:00:00",
          "2024-05-20T00:00:00",
          "2024-05-21T00:00:00",
          "2024-05-22T00:00:00",
          "2024-05-23T00:00:00",
          "2024-05-24T00:00:00",
          "2024-05-28T00:00:00",
          "2024-05-29T00:00:00",
          "2024-05-30T00:00:00",
          "2024-05-31T00:00:00",
          "2024-06-03T00:00:00",
          "2024-06-04T00:00:00",
          "2024-06-05T00:00:00",
          "2024-06-06T00:00:00",
          "2024-06-07T00:00:00",
          "2024-06-10T00:00:00",
          "2024-06-11T00:00:00",
          "2024-06-12T00:00:00",
          "2024-06-13T00:00:00",
          "2024-06-14T00:00:00",
          "2024-06-17T00:00:00",
          "2024-06-18T00:00:00",
          "2024-06-20T00:00:00",
          "2024-06-21T00:00:00",
          "2024-06-24T00:00:00",
          "2024-06-25T00:00:00",
          "2024-06-26T00:00:00",
          "2024-06-27T00:00:00",
          "2024-06-28T00:00:00",
          "2024-07-01T00:00:00",
          "2024-07-02T00:00:00",
          "2024-07-03T00:00:00",
          "2024-07-05T00:00:00",
          "2024-07-08T00:00:00",
          "2024-07-09T00:00:00",
          "2024-07-10T00:00:00",
          "2024-07-11T00:00:00",
          "2024-07-12T00:00:00",
          "2024-07-15T00:00:00",
          "2024-07-16T00:00:00",
          "2024-07-17T00:00:00",
          "2024-07-18T00:00:00",
          "2024-07-19T00:00:00",
          "2024-07-22T00:00:00",
          "2024-07-23T00:00:00",
          "2024-07-24T00:00:00",
          "2024-07-25T00:00:00",
          "2024-07-26T00:00:00",
          "2024-07-29T00:00:00",
          "2024-07-30T00:00:00",
          "2024-07-31T00:00:00",
          "2024-08-01T00:00:00",
          "2024-08-02T00:00:00",
          "2024-08-05T00:00:00",
          "2024-08-06T00:00:00",
          "2024-08-07T00:00:00",
          "2024-08-08T00:00:00",
          "2024-08-09T00:00:00",
          "2024-08-12T00:00:00",
          "2024-08-13T00:00:00",
          "2024-08-14T00:00:00",
          "2024-08-15T00:00:00",
          "2024-08-16T00:00:00",
          "2024-08-19T00:00:00",
          "2024-08-20T00:00:00",
          "2024-08-21T00:00:00",
          "2024-08-22T00:00:00",
          "2024-08-23T00:00:00",
          "2024-08-26T00:00:00",
          "2024-08-27T00:00:00",
          "2024-08-28T00:00:00",
          "2024-08-29T00:00:00",
          "2024-08-30T00:00:00",
          "2024-09-03T00:00:00",
          "2024-09-04T00:00:00",
          "2024-09-05T00:00:00",
          "2024-09-06T00:00:00",
          "2024-09-09T00:00:00",
          "2024-09-10T00:00:00",
          "2024-09-11T00:00:00",
          "2024-09-12T00:00:00",
          "2024-09-13T00:00:00",
          "2024-09-16T00:00:00",
          "2024-09-17T00:00:00",
          "2024-09-18T00:00:00",
          "2024-09-19T00:00:00",
          "2024-09-20T00:00:00",
          "2024-09-23T00:00:00",
          "2024-09-24T00:00:00",
          "2024-09-25T00:00:00",
          "2024-09-26T00:00:00",
          "2024-09-27T00:00:00",
          "2024-09-30T00:00:00",
          "2024-10-01T00:00:00",
          "2024-10-02T00:00:00",
          "2024-10-03T00:00:00",
          "2024-10-04T00:00:00",
          "2024-10-07T00:00:00",
          "2024-10-08T00:00:00",
          "2024-10-09T00:00:00",
          "2024-10-10T00:00:00",
          "2024-10-11T00:00:00",
          "2024-10-14T00:00:00",
          "2024-10-15T00:00:00",
          "2024-10-16T00:00:00",
          "2024-10-17T00:00:00",
          "2024-10-18T00:00:00",
          "2024-10-21T00:00:00",
          "2024-10-22T00:00:00",
          "2024-10-23T00:00:00",
          "2024-10-24T00:00:00",
          "2024-10-25T00:00:00",
          "2024-10-28T00:00:00",
          "2024-10-29T00:00:00",
          "2024-10-30T00:00:00",
          "2024-10-31T00:00:00",
          "2024-11-01T00:00:00",
          "2024-11-04T00:00:00",
          "2024-11-05T00:00:00",
          "2024-11-06T00:00:00",
          "2024-11-07T00:00:00",
          "2024-11-08T00:00:00",
          "2024-11-11T00:00:00",
          "2024-11-12T00:00:00",
          "2024-11-13T00:00:00",
          "2024-11-14T00:00:00",
          "2024-11-15T00:00:00",
          "2024-11-18T00:00:00",
          "2024-11-19T00:00:00",
          "2024-11-20T00:00:00",
          "2024-11-21T00:00:00",
          "2024-11-22T00:00:00",
          "2024-11-25T00:00:00",
          "2024-11-26T00:00:00",
          "2024-11-27T00:00:00",
          "2024-11-29T00:00:00",
          "2024-12-02T00:00:00",
          "2024-12-03T00:00:00",
          "2024-12-04T00:00:00",
          "2024-12-05T00:00:00",
          "2024-12-06T00:00:00",
          "2024-12-09T00:00:00",
          "2024-12-10T00:00:00",
          "2024-12-11T00:00:00",
          "2024-12-12T00:00:00",
          "2024-12-13T00:00:00",
          "2024-12-16T00:00:00",
          "2024-12-17T00:00:00",
          "2024-12-18T00:00:00",
          "2024-12-19T00:00:00",
          "2024-12-20T00:00:00",
          "2024-12-23T00:00:00",
          "2024-12-24T00:00:00",
          "2024-12-26T00:00:00",
          "2024-12-27T00:00:00",
          "2024-12-30T00:00:00",
          "2024-12-31T00:00:00",
          "2025-01-02T00:00:00",
          "2025-01-03T00:00:00",
          "2025-01-06T00:00:00",
          "2025-01-07T00:00:00",
          "2025-01-08T00:00:00",
          "2025-01-10T00:00:00",
          "2025-01-13T00:00:00",
          "2025-01-14T00:00:00",
          "2025-01-15T00:00:00",
          "2025-01-16T00:00:00",
          "2025-01-17T00:00:00",
          "2025-01-21T00:00:00",
          "2025-01-22T00:00:00",
          "2025-01-23T00:00:00",
          "2025-01-24T00:00:00",
          "2025-01-27T00:00:00",
          "2025-01-28T00:00:00",
          "2025-01-29T00:00:00",
          "2025-01-30T00:00:00",
          "2025-01-31T00:00:00",
          "2025-02-03T00:00:00",
          "2025-02-04T00:00:00",
          "2025-02-05T00:00:00",
          "2025-02-06T00:00:00",
          "2025-02-07T00:00:00",
          "2025-02-10T00:00:00",
          "2025-02-11T00:00:00",
          "2025-02-12T00:00:00",
          "2025-02-13T00:00:00",
          "2025-02-14T00:00:00",
          "2025-02-18T00:00:00",
          "2025-02-19T00:00:00",
          "2025-02-20T00:00:00",
          "2025-02-21T00:00:00",
          "2025-02-24T00:00:00",
          "2025-02-25T00:00:00",
          "2025-02-26T00:00:00",
          "2025-02-27T00:00:00",
          "2025-02-28T00:00:00",
          "2025-03-03T00:00:00",
          "2025-03-04T00:00:00",
          "2025-03-05T00:00:00",
          "2025-03-06T00:00:00",
          "2025-03-07T00:00:00",
          "2025-03-10T00:00:00",
          "2025-03-11T00:00:00",
          "2025-03-12T00:00:00",
          "2025-03-13T00:00:00",
          "2025-03-14T00:00:00",
          "2025-03-17T00:00:00",
          "2025-03-18T00:00:00",
          "2025-03-19T00:00:00",
          "2025-03-20T00:00:00",
          "2025-03-21T00:00:00",
          "2025-03-24T00:00:00",
          "2025-03-25T00:00:00",
          "2025-03-26T00:00:00",
          "2025-03-27T00:00:00",
          "2025-03-28T00:00:00",
          "2025-03-31T00:00:00",
          "2025-04-01T00:00:00",
          "2025-04-02T00:00:00",
          "2025-04-03T00:00:00",
          "2025-04-04T00:00:00",
          "2025-04-07T00:00:00",
          "2025-04-08T00:00:00",
          "2025-04-09T00:00:00",
          "2025-04-10T00:00:00",
          "2025-04-11T00:00:00",
          "2025-04-14T00:00:00",
          "2025-04-15T00:00:00",
          "2025-04-16T00:00:00",
          "2025-04-17T00:00:00",
          "2025-04-21T00:00:00",
          "2025-04-22T00:00:00",
          "2025-04-23T00:00:00",
          "2025-04-24T00:00:00",
          "2025-04-25T00:00:00",
          "2025-04-28T00:00:00",
          "2025-04-29T00:00:00",
          "2025-04-30T00:00:00",
          "2025-05-01T00:00:00",
          "2025-05-02T00:00:00",
          "2025-05-05T00:00:00",
          "2025-05-06T00:00:00",
          "2025-05-07T00:00:00",
          "2025-05-08T00:00:00",
          "2025-05-09T00:00:00",
          "2025-05-12T00:00:00",
          "2025-05-13T00:00:00",
          "2025-05-14T00:00:00",
          "2025-05-15T00:00:00",
          "2025-05-16T00:00:00",
          "2025-05-19T00:00:00",
          "2025-05-20T00:00:00",
          "2025-05-21T00:00:00",
          "2025-05-22T00:00:00",
          "2025-05-23T00:00:00",
          "2025-05-27T00:00:00",
          "2025-05-28T00:00:00",
          "2025-05-29T00:00:00",
          "2025-05-30T00:00:00",
          "2025-06-02T00:00:00",
          "2025-06-03T00:00:00",
          "2025-06-04T00:00:00",
          "2025-06-05T00:00:00",
          "2025-06-06T00:00:00",
          "2025-06-09T00:00:00",
          "2025-06-10T00:00:00",
          "2025-06-11T00:00:00",
          "2025-06-12T00:00:00",
          "2025-06-13T00:00:00",
          "2025-06-16T00:00:00",
          "2025-06-17T00:00:00",
          "2025-06-18T00:00:00",
          "2025-06-20T00:00:00",
          "2025-06-23T00:00:00",
          "2025-06-24T00:00:00",
          "2025-06-25T00:00:00",
          "2025-06-26T00:00:00",
          "2025-06-27T00:00:00",
          "2025-06-30T00:00:00",
          "2025-07-01T00:00:00",
          "2025-07-02T00:00:00",
          "2025-07-03T00:00:00",
          "2025-07-07T00:00:00",
          "2025-07-08T00:00:00",
          "2025-07-09T00:00:00",
          "2025-07-10T00:00:00",
          "2025-07-11T00:00:00",
          "2025-07-14T00:00:00",
          "2025-07-15T00:00:00",
          "2025-07-16T00:00:00",
          "2025-07-17T00:00:00",
          "2025-07-18T00:00:00",
          "2025-07-21T00:00:00",
          "2025-07-22T00:00:00",
          "2025-07-23T00:00:00"
         ],
         "y": [
          null,
          1.008044872152495,
          1.007718635997293,
          1.0001135995479113,
          1.0004560305629437,
          0.9964963016162792,
          0.9989170734652824,
          0.9955242354339591,
          0.9973045471240445,
          1.0001121744634893,
          0.998785883820823,
          0.9961194520513977,
          1.0183360332847902,
          1.0058444647227311,
          1.025415758290259,
          1.0368053000127724,
          1.0209252814033232,
          1.0298087999508085,
          1.017612404055904,
          0.9965632031768688,
          0.9939242478622352,
          1.0006348330719448,
          0.9912153458764391,
          0.9824347084406595,
          0.9891939148928834,
          0.9737376332657952,
          0.9651506853504357,
          0.975422744695624,
          0.9857947616358274,
          0.9682879555963224,
          0.977969575429556,
          0.9840546130838275,
          0.9979809216463071,
          0.9971653886884978,
          0.9984410759554511,
          0.9956807538015761,
          0.9931714371032137,
          0.9989219573318726,
          0.9985874399062603,
          0.9794122866367087,
          0.9803323269434461,
          0.9842079833175911,
          0.9829832214226819,
          0.9740300839470049,
          0.9713966330681035,
          0.9580122107332367,
          0.957620302441694,
          0.9406611276976459,
          0.9504285457296335,
          0.9609478647933987,
          0.9798121828187506,
          0.9756508598696304,
          0.9875626666026146,
          0.9900402461464526,
          0.9949289481928246,
          0.9702195288365862,
          0.9527449883685354,
          0.9463073744367176,
          0.9371147266937478,
          0.9591417218992051,
          0.9546314229383976,
          0.9576951567178725,
          0.9498154343486183,
          0.9637170771335928,
          0.9464033167447591,
          0.9650653027705711,
          0.9682202541137834,
          0.9526059721306012,
          0.9515383931416415,
          0.971864396424751,
          0.9781573367703105,
          0.9886545485879592,
          1.0061920129968502,
          0.9910497110306888,
          0.9691831506823317,
          0.9716628067028862,
          0.9864615180543576,
          0.9683144217614379,
          0.9731350551351551,
          0.981041400693401,
          1.0099616920558703,
          1.0176190712503959,
          0.9903358061619146,
          0.9948077245032915,
          1.0074567161007606,
          1.0148195827894182,
          0.9925032475200292,
          0.9704953177150875,
          0.9826372013522116,
          0.9933997250434853,
          0.9931094312711395,
          1.0047299009833415,
          0.991790817190994,
          1.0067414467268707,
          1.0116578597684152,
          1.0188538150198347,
          1.0314577960306635,
          1.0250887706758005,
          1.0093114256405402,
          1.0064510100230761,
          1.015072724733674,
          1.002251257788237,
          1.012273174157638,
          1.007172336405176,
          1.0098655183936327,
          1.0271264124173014,
          1.0309322952424997,
          1.0191242502018287,
          1.031814074864126,
          1.0313899658373766,
          1.0147405526291235,
          1.0139880626938367,
          1.029150589058486,
          1.057389801054181,
          1.0512595141697925,
          1.081704769141858,
          1.078663247100564,
          1.0514169321849902,
          1.0902726006218193,
          1.0837096990573685,
          1.078742077289177,
          1.045891285488466,
          1.083065108704281,
          1.0895297436787204,
          1.1244136677828944,
          1.121815618520387,
          1.1396371161244248,
          1.1408267231378333,
          1.1135517807719657,
          1.1180701697255566,
          1.0950712572900827,
          1.0509273153029326,
          1.0573636727500284,
          1.0569021304690809,
          1.0371273467689017,
          1.0292101164071548,
          1.0201172086713732,
          1.0405006495060036,
          1.0660438825178844,
          1.060062313126361,
          1.0514879996807742,
          1.071511861674394,
          1.0539268144364595,
          1.057135686162163,
          1.0672760557655394,
          1.055672413727877,
          1.0305657652540083,
          1.0604479983763764,
          1.1007111594721544,
          1.104028093420167,
          1.0882888213755053,
          1.1243066518645362,
          1.1218828679292663,
          1.0936411249972562,
          1.0956238165086758,
          1.084883889226934,
          1.0503912210968827,
          1.0463789532844825,
          1.0677594234565118,
          1.0686289375152618,
          1.0773108751993046,
          1.0659165887477793,
          1.0639035284429497,
          1.0603103189588232,
          1.0761906691881482,
          1.0753053295541346,
          1.0630214843893107,
          1.0724281078838345,
          1.0780600598083554,
          1.080678238767612,
          1.1013250148301872,
          1.0922312259378224,
          1.1217424247619163,
          1.1288913819001156,
          1.1403872779373208,
          1.129806661116974,
          1.131179124670068,
          1.1177962164472117,
          1.0887710662163916,
          1.1024269333858812,
          1.1184986903059309,
          1.115186707480826,
          1.1225439030614128,
          1.1401225348883912,
          1.1393518864918386,
          1.1374262290299368,
          1.1361056680812638,
          1.1315943354638909,
          1.1553622427002812,
          1.1553622427002812,
          1.1749214531695023,
          1.1797631012112215,
          1.1820738200906324,
          1.173683492975313,
          1.1770948253012667,
          1.1612769122079896,
          1.1854576480296213,
          1.18832543002544,
          1.184521440410096,
          1.1677989791471772,
          1.207327878837907,
          1.2153109070595502,
          1.2286524963278755,
          1.2380013820842515,
          1.2341165615460075,
          1.2471297067197733,
          1.2518352479693955,
          1.2293462685052838,
          1.221310776297625,
          1.202337492998327,
          1.1894152135710414,
          1.2411338748172929,
          1.23639786570657,
          1.2504351186797593,
          1.2599745747815874,
          1.2502035760648067,
          1.2645541004608112,
          1.2866127865766606,
          1.2974197864661454,
          1.3191579749891735,
          1.3322079475412194,
          1.335608864702269,
          1.3093288547720312,
          1.3366793317825183,
          1.357349164579623,
          1.3215133557842464,
          1.2805642625069669,
          1.2835455515572356,
          1.2967864447998068,
          1.332958842764364,
          1.3431367124185538,
          1.351642787638836,
          1.3561008232833598,
          1.3203118213668736,
          1.350400359127809,
          1.3156989407399355,
          1.3002400905097147,
          1.309454087247119,
          1.3204343226216322,
          1.3525226746568684,
          1.3690727682472674,
          1.3909350536471752,
          1.3804557417489145,
          1.3730837836040177,
          1.4057504744817966,
          1.3955963707537629,
          1.3894893784267437,
          1.354618651627137,
          1.3406702233985544,
          1.3599668248902932,
          1.3729756100618422,
          1.3803834350697695,
          1.4088224197345967,
          1.33140167965224,
          1.3442877165300777,
          1.332852205208332,
          1.344220003943278,
          1.3544745564051968,
          1.3586189995553608,
          1.364787655679611,
          1.359825147936025,
          1.3781242449773812,
          1.386808469605256,
          1.3864985450960994,
          1.364374131581357,
          1.3667175805144873,
          1.4097699849709122,
          1.4087327269284693,
          1.4071071520028773,
          1.3817943931794037,
          1.4017124013256363,
          1.4040969195395323,
          1.3930974575789132,
          1.403504379517148,
          1.3832695535872375,
          1.37279843516974,
          1.3815753393275043,
          1.3477794527346563,
          1.3636915295588778,
          1.3752549420183247,
          1.373373260758442,
          1.3939086729483317,
          1.3740230773599116,
          1.3661195576292724,
          1.3607323861818301,
          1.3776432731344066,
          1.3528454157421532,
          1.3564088555908953,
          1.362119247019693,
          1.3516034883633505,
          1.36702976945728,
          1.3356808151556283,
          1.334923351549926,
          1.3255614186229345,
          1.342326686396242,
          1.3374393966866156,
          1.3426278348457503,
          1.3401682056706699,
          1.3190096729657976,
          1.3286117666256823,
          1.3038609595045707,
          1.3195054283664984,
          1.3180892055893487,
          1.3185832512975424,
          1.333075050806199,
          1.3361377807131185,
          1.3193735996716354,
          1.299974404220604,
          1.3137903077066535,
          1.3329150191764876,
          1.3470825414696093,
          1.3388499024955782,
          1.3213395865516393,
          1.3068911136783847,
          1.3182208244510845,
          1.3151444162597625,
          1.2997060145655248,
          1.300304080508172,
          1.3045264263897276,
          1.2865649442037006,
          1.2897791512916836,
          1.3156534001435352,
          1.3174663745172268,
          1.3104583631784223,
          1.3244571852187523,
          1.3199463394314708,
          1.3248246471943899,
          1.329906527871997,
          1.3195636733951128,
          1.3407266242313358,
          1.341655484221283,
          1.3210895753941545,
          1.3189334391171859,
          1.2945994052789316,
          1.3132799195897444,
          1.3151515376784981,
          1.2934121718255283,
          1.3015013055726852,
          1.278666544023788,
          1.2936173880555497,
          1.2811784574304614,
          1.264355912952239,
          1.24280314243993,
          1.2394434769335578,
          1.2313100717417107,
          1.229008001457099,
          1.2262493745646568,
          1.2440726912640645,
          1.251357158418087,
          1.2689945911740337,
          1.2738302055165363,
          1.2667627166835123,
          1.2700794827790258,
          1.2750341606997877,
          1.2763427679109374,
          1.2766854260477694,
          1.2714817649054775,
          1.2545931379423854,
          1.2515286172325437,
          1.2560193418546441,
          1.2568385002534357,
          1.256626101115904,
          1.2497686432470212,
          1.248797484926357,
          1.2501001963138736,
          1.230256188287589,
          1.235467033837656,
          1.2108713035612757,
          1.2212062260627854,
          1.2199731742295266,
          1.206261600912147,
          1.214541375472323,
          1.2231438716483753,
          1.2005002641437723,
          1.2008202020533132,
          1.1955542637641072,
          1.1899682960761095,
          1.1920436412134983,
          1.1936055205441973,
          1.1977236440702996,
          1.2057276208576344,
          1.1910915096102928,
          1.2025656197775718,
          1.2008157552853858,
          1.2003280230667532,
          1.2137991234516863,
          1.222592864290512,
          1.212005430118615,
          1.1963090094917996,
          1.195853298862423,
          1.2024845308999765,
          1.1910597260741422,
          1.208283822332875,
          1.2059683870958995,
          1.2085944175876566,
          1.2044154108219915,
          1.2117004589277127,
          1.2138746257111839,
          1.2248865504975648,
          1.2168108962887632,
          1.2182599310400744,
          1.2333635946044939,
          1.2375647964115883,
          1.231144083280969,
          1.2248360374582865,
          1.2292574131847096,
          1.2199641689563532,
          1.224948704766223,
          1.211519170136899,
          1.2121302440284916,
          1.2169077941065929,
          1.2312681175817863,
          1.232684761256129,
          1.2308513655358113,
          1.2404896594602228,
          1.2436216325196765,
          1.2404738042950545,
          1.23257400686268,
          1.2226566871560494,
          1.2323608971631743,
          1.2331285219633272,
          1.237410239120575,
          1.2282156356872436,
          1.2309469838106093,
          1.239113747740999,
          1.239113747740999,
          1.2446492413227255,
          1.2412512436108458,
          1.2414419960528484,
          1.2332113782632503,
          1.221137961166432,
          1.2234631534026992,
          1.2269642548851358,
          1.2098962950695231,
          1.2133637651992721,
          1.2188514945106925,
          1.2082127743047204,
          1.2134667434869553,
          1.2215791988445195,
          1.2211407998892112,
          1.2218526655961486,
          1.228597294928412,
          1.2429091992597852,
          1.2520298803536891,
          1.2615701192389932,
          1.2609628744934704,
          1.2527587038366135,
          1.256151852834504,
          1.2421611596998925,
          1.2593763859626337,
          1.2504981585247092,
          1.2584282233404538,
          1.2766183521406451,
          1.2818764779876486,
          1.280000706662696,
          1.282388051985363,
          1.2768456886795772,
          1.2682622873240188,
          1.2643682697574306,
          1.2662726251125427,
          1.2746004620863012,
          1.2676085055500903,
          1.2661305063831516,
          1.2770475375410928,
          1.2616612620778047,
          1.260921318614286,
          1.2635362582123573,
          1.2751523111470413,
          1.296228584799716,
          1.299143204964189,
          1.2936799746397611,
          1.3126859395753832,
          1.3121619764824515,
          1.3045546612482357,
          1.3077208304451853,
          1.3082409534839086,
          1.3257531123314765,
          1.3160989607076172,
          1.3165949302310362,
          1.3009631124623187,
          1.2926341192662607,
          1.2859061478703857,
          1.280638636995892,
          1.2728311616457488,
          1.2791709555175195,
          1.2657121317285545,
          1.2656540424731972,
          1.28251913857382,
          1.2937876634104464,
          1.309685947000775,
          1.3119559088334256,
          1.3020643392432232,
          1.3207520799111525,
          1.336567369115158,
          1.3426259409359422,
          1.326573728714951,
          1.3182425395769237,
          1.3323013351745843,
          1.357834081696709,
          1.3702221658035885,
          1.3733743457977694,
          1.3772829072797361,
          1.3782916127506972,
          1.3675427488418468,
          1.3888829217854979,
          1.3875590081561477,
          1.414478749303416,
          1.417473374423547,
          1.4192069700895422,
          1.420972155458579,
          1.4319102623548106,
          1.4287896720636717,
          1.4343058640406257,
          1.435188604340579,
          1.4326037596673828,
          1.434022147174989,
          1.433013441704028,
          1.438655992493149,
          1.4471669080005238,
          1.4395701256755642,
          1.439286507220217,
          1.4334864015570463,
          1.4225482946608146,
          1.4286641303062704,
          1.4342209323235846,
          1.4407713565246207,
          1.4606398264856806,
          1.4559522984993651,
          1.4583494882380883,
          1.466552787381537,
          1.475470861945317,
          1.4550247873744735,
          1.441228404383017,
          1.4383320025255595,
          1.4444055143160408,
          1.4417938938597046,
          1.4423384361553817,
          1.4381630160405843,
          1.4301144588787178,
          1.4417937997784511,
          1.4464379074655653,
          1.444456725636858,
          1.4238356214748757,
          1.4259959699884426,
          1.4340606819763517,
          1.4334288251908687,
          1.4344217563633173,
          1.43968779097664,
          1.447690438879252,
          1.4348165243271367,
          1.4169299374364999,
          1.4199258289702734,
          1.4157846402036067,
          1.4173322084763076,
          1.409623239316425,
          1.4114142458124637,
          1.4002365887965673,
          1.401319578522631,
          1.4241854440021453,
          1.4055454001525918,
          1.390748725933075,
          1.3856846859683263,
          1.3897078558230314,
          1.4012985248978298,
          1.4019174135463348,
          1.4100197375292494,
          1.409400936356172,
          1.4288128708658074,
          1.4158283395391529,
          1.4060594535816657,
          1.413061582785723,
          1.4208410060813126,
          1.4195538554919116,
          1.3901756458960965,
          1.3892167602158736,
          1.3841286925240672,
          1.3866999443850387,
          1.3848672363516827,
          1.3798887211705257,
          1.3928433889147662,
          1.3913496913862462,
          1.4052548939213632,
          1.398134179722959,
          1.3842556152898813,
          1.3925642852374023,
          1.3937616926725145,
          1.3787685494802733,
          1.3766074967748294,
          1.3738862295235172,
          1.3833202822957167,
          1.3750990980647637,
          1.3674571833005063,
          1.380105064995182,
          1.3846659331675852,
          1.382040701064025,
          1.3782224431626195,
          1.3756768557024017,
          1.387237904457022,
          1.3869725866977767,
          1.3845597403097958,
          1.3933628158886187,
          1.391832449575861,
          1.408821247746792,
          1.3941032341732282,
          1.39332370215922,
          1.3917118444759022,
          1.4056471666600412,
          1.3950390876526633,
          1.4142947025455272,
          1.4320132502706893,
          1.4346250033035872,
          1.4431154063568328,
          1.4460849006160779,
          1.4587067747884166,
          1.4452734542073287,
          1.4281229629755896,
          1.4288007503152147,
          1.4342286364730934,
          1.4478164167160907,
          1.4529438093205072,
          1.4299273625414102,
          1.4345705273987908,
          1.4479886600393925,
          1.4659369455153992,
          1.481075315110508,
          1.4827095224425744,
          1.4828531421428475,
          1.4913970923318585,
          1.4933181835701632,
          1.4935185046124995,
          1.4866658185919255,
          1.5050749507846692,
          1.5019786997423399,
          1.5041377976677048,
          1.505870852858633,
          1.5095638103020665,
          1.5052172585686394,
          1.49422274939245,
          1.4843362331233878,
          1.4853735203065779,
          1.4957750704872108,
          1.5056974270524421,
          1.4919831130899786,
          1.4931992625019788,
          1.491529907136617,
          1.473803002478041,
          1.4737754897150852,
          1.4755672370417512,
          1.4801264595837549,
          1.4765618207756936,
          1.4644347531262465,
          1.467383459445081,
          1.468276305514664,
          1.4565906543173308,
          1.460291490486973,
          1.4563245876013615,
          1.4582768438770966,
          1.4630173373473965,
          1.457383557037492,
          1.459202500792256,
          1.4615029588288837,
          1.455751731088107,
          1.4587477648535647,
          1.468564672400973,
          1.4751184239448558,
          1.483624845660951,
          1.4819131805772923,
          1.4833543941119387,
          1.468676411847307,
          1.4813399563715448,
          1.4719964610446852,
          1.4760446918397125,
          1.467291338935353,
          1.4878646489300713,
          1.4992986868673601,
          1.5092550176337753,
          1.4936947750819822,
          1.4960374327034707,
          1.5299416554134022,
          1.537913107526606,
          1.520689054033701,
          1.5197951473520472,
          1.5274951930850278,
          1.502666409308641,
          1.5239454333630431,
          1.5523188307453724,
          1.5975280272967933,
          1.5827995277127034,
          1.5933790420160703,
          1.5565441970229426,
          1.5496804937500226,
          1.548866402670404,
          1.5233943947135489,
          1.5185884646102885,
          1.5446176996876264,
          1.5480807397683962,
          1.562882448906605,
          1.5603409992789057,
          1.5549786889853943,
          1.5671830788750953,
          1.5505311691836783,
          1.5468352798516625,
          1.5447116306708486,
          1.5357441442026365,
          1.5356066274449303,
          1.5502656001109845,
          1.518362836682369,
          1.5214707707037263,
          1.5251713240368572,
          1.5508401988300533,
          1.5334767610170872,
          1.5267974281942032,
          1.511133798066325,
          1.4984051943381993,
          1.4905793221196963,
          1.48837804253057,
          1.487769986221276,
          1.4921824272206434,
          1.4667190795692397,
          1.4641837105391395,
          1.4678423121798703,
          1.4720423703546401,
          1.4687958534873966,
          1.4746190113574318,
          1.4724803294802378,
          1.466579707292228,
          1.4534415684462585,
          1.452828375514695,
          1.4554844051310638,
          1.4422576240778493,
          1.455296570034578,
          1.4415329066216285,
          1.431548186111482,
          1.4340534990420668,
          1.425466005248114,
          1.413808227068777,
          1.424793018482151,
          1.4186001659183087,
          1.418478446502735,
          1.4130221206842553,
          1.410701658939662,
          1.411451122070031,
          1.3985541948461926,
          1.3955294534624312,
          1.396011240108013,
          1.391695781155479,
          1.3894433728258244,
          1.3852397328673698,
          1.412394629033015,
          1.406433480629881,
          1.4094629705338568,
          1.39241995010631,
          1.357796730327316,
          1.3682955923589804,
          1.3742225199716362,
          1.3755320825390918,
          1.3712590561653082,
          1.3719252304876914,
          1.3631034803575022,
          1.3456441085852093,
          1.3401305855180563,
          1.3450293361148113,
          1.3445734033410635,
          1.3373553856406861,
          1.3332105762236213,
          1.3377330591085412,
          1.3447180125462932,
          1.3406433644258544,
          1.348971546311799,
          1.351389467856646,
          1.3520163261888194,
          1.3604115384706796,
          1.3581729163387755,
          1.3607475179860096,
          1.3537402210829523,
          1.3579490679178476,
          1.3474513893028617,
          1.3405085642801018,
          1.340242362982138,
          1.3459651442737797,
          1.3515105491358745,
          1.391790283550496,
          1.3922176246925317,
          1.3754957172195987,
          1.3672587933100637,
          1.3520616897710587,
          1.3521517057139287,
          1.3663852695883594,
          1.381977905726895,
          1.387005590616443,
          1.3904133407321424,
          1.373028546862363,
          1.3651190050929427,
          1.380550343941544,
          1.3785335595354373,
          1.3995803151355395,
          1.3974102436938145,
          1.395487296578413,
          1.3701033662850883,
          1.3674684426813641,
          1.3537392234108794,
          1.3661306070416925,
          1.3738102131910122,
          1.381308720173368,
          1.3772761341145208,
          1.3577940643596764,
          1.3461273555828437,
          1.3400928063859237,
          1.3329004856458648,
          1.3258068682637276,
          1.3347289760024756,
          1.3257752204643347,
          1.3203997603349857,
          1.3249890041302281,
          1.3128606429953642,
          1.3039447390995054,
          1.3049364288908887,
          1.309140256451559,
          1.3229616480983077,
          1.3228965024987698,
          1.3267803259411601,
          1.3299047834993662,
          1.3243719370895315,
          1.347024087858919,
          1.3531536978689858,
          1.359883164633006,
          1.359196634270138,
          1.3808920363209918,
          1.3593424744293172,
          1.3831579821877433,
          1.399530338014405,
          1.3844883504627368,
          1.4090645750085495,
          1.4011669185591864,
          1.438487874067507,
          1.4504459071923599,
          1.4427490566180003,
          1.4619815789749366,
          1.431783180055047,
          1.4207421582625412,
          1.4360982156443796,
          1.4204578177581184,
          1.4163502366919782,
          1.4168174336698494,
          1.4421904740174167,
          1.4456572355289852,
          1.4283986285380215,
          1.4246052289813582,
          1.3959161358247614,
          1.3865457453522023,
          1.3826295028172906,
          1.373879587497188,
          1.4415855684695165,
          1.5259802505667115,
          1.5286982870983277,
          1.552641957216532,
          1.3895844880453494,
          1.4504748326572323,
          1.4245942702991452,
          1.4107736126484116,
          1.414725006327781,
          1.446171576836197,
          1.444108174198777,
          1.4784818380540898,
          1.4400149654174348,
          1.4177013426742215,
          1.3878601990998933,
          1.3778324979271215,
          1.377307104254983,
          1.3686309421194267,
          1.3680877343805466,
          1.358392207889961,
          1.378556354293643,
          1.3706512370187498,
          1.3821075597146408,
          1.3762951755293975,
          1.3858850296075886,
          1.3841190899512756,
          1.4298607105627357,
          1.4393034280261343,
          1.4411429359898436,
          1.4481819216136256,
          1.4573546884307016,
          1.458948868610155,
          1.4540436641796668,
          1.4295418144710836,
          1.428977590595176,
          1.4387315015949094,
          1.4088193543485021,
          1.4006687362995913,
          1.3951397260535572,
          1.3967001765566014,
          1.404567628470584,
          1.4125773890899471,
          1.4121981893388105,
          1.4053733191430453,
          1.3909415336641473,
          1.3921951378240827,
          1.4000883958046937,
          1.3960953659802176,
          1.3905468778709107,
          1.406093361726806,
          1.3927154283637693,
          1.4046162852233515,
          1.4048279617388877,
          1.4081272819174213,
          1.3942185186042515,
          1.3788162438229106,
          1.3795887649553786,
          1.3903824246704952,
          1.3972903169586173,
          1.4039710297826489,
          1.4035166708544684,
          1.4098792214742124,
          1.4209910433936164,
          1.4104018174575408,
          1.4111743385900088,
          1.4196366769355881,
          1.4236404176413229,
          1.4186357417591544,
          1.4213428069741534,
          1.4274165910347847,
          1.4226444116038217,
          1.4139383266864103,
          1.4129027932473566,
          1.4102236802615244,
          1.4100219023041192,
          1.3980261178853444
         ]
        },
        {
         "line": {
          "color": "orange",
          "width": 2
         },
         "mode": "lines",
         "name": "SPY (Buy & Hold)",
         "type": "scatter",
         "x": [
          "2021-11-09T00:00:00",
          "2021-11-10T00:00:00",
          "2021-11-11T00:00:00",
          "2021-11-12T00:00:00",
          "2021-11-15T00:00:00",
          "2021-11-16T00:00:00",
          "2021-11-17T00:00:00",
          "2021-11-18T00:00:00",
          "2021-11-19T00:00:00",
          "2021-11-22T00:00:00",
          "2021-11-23T00:00:00",
          "2021-11-24T00:00:00",
          "2021-11-26T00:00:00",
          "2021-11-29T00:00:00",
          "2021-11-30T00:00:00",
          "2021-12-01T00:00:00",
          "2021-12-02T00:00:00",
          "2021-12-03T00:00:00",
          "2021-12-06T00:00:00",
          "2021-12-07T00:00:00",
          "2021-12-08T00:00:00",
          "2021-12-09T00:00:00",
          "2021-12-10T00:00:00",
          "2021-12-13T00:00:00",
          "2021-12-14T00:00:00",
          "2021-12-15T00:00:00",
          "2021-12-16T00:00:00",
          "2021-12-17T00:00:00",
          "2021-12-20T00:00:00",
          "2021-12-21T00:00:00",
          "2021-12-22T00:00:00",
          "2021-12-23T00:00:00",
          "2021-12-27T00:00:00",
          "2021-12-28T00:00:00",
          "2021-12-29T00:00:00",
          "2021-12-30T00:00:00",
          "2021-12-31T00:00:00",
          "2022-01-03T00:00:00",
          "2022-01-04T00:00:00",
          "2022-01-05T00:00:00",
          "2022-01-06T00:00:00",
          "2022-01-07T00:00:00",
          "2022-01-10T00:00:00",
          "2022-01-11T00:00:00",
          "2022-01-12T00:00:00",
          "2022-01-13T00:00:00",
          "2022-01-14T00:00:00",
          "2022-01-18T00:00:00",
          "2022-01-19T00:00:00",
          "2022-01-20T00:00:00",
          "2022-01-21T00:00:00",
          "2022-01-24T00:00:00",
          "2022-01-25T00:00:00",
          "2022-01-26T00:00:00",
          "2022-01-27T00:00:00",
          "2022-01-28T00:00:00",
          "2022-01-31T00:00:00",
          "2022-02-01T00:00:00",
          "2022-02-02T00:00:00",
          "2022-02-03T00:00:00",
          "2022-02-04T00:00:00",
          "2022-02-07T00:00:00",
          "2022-02-08T00:00:00",
          "2022-02-09T00:00:00",
          "2022-02-10T00:00:00",
          "2022-02-11T00:00:00",
          "2022-02-14T00:00:00",
          "2022-02-15T00:00:00",
          "2022-02-16T00:00:00",
          "2022-02-17T00:00:00",
          "2022-02-18T00:00:00",
          "2022-02-22T00:00:00",
          "2022-02-23T00:00:00",
          "2022-02-24T00:00:00",
          "2022-02-25T00:00:00",
          "2022-02-28T00:00:00",
          "2022-03-01T00:00:00",
          "2022-03-02T00:00:00",
          "2022-03-03T00:00:00",
          "2022-03-04T00:00:00",
          "2022-03-07T00:00:00",
          "2022-03-08T00:00:00",
          "2022-03-09T00:00:00",
          "2022-03-10T00:00:00",
          "2022-03-11T00:00:00",
          "2022-03-14T00:00:00",
          "2022-03-15T00:00:00",
          "2022-03-16T00:00:00",
          "2022-03-17T00:00:00",
          "2022-03-18T00:00:00",
          "2022-03-21T00:00:00",
          "2022-03-22T00:00:00",
          "2022-03-23T00:00:00",
          "2022-03-24T00:00:00",
          "2022-03-25T00:00:00",
          "2022-03-28T00:00:00",
          "2022-03-29T00:00:00",
          "2022-03-30T00:00:00",
          "2022-03-31T00:00:00",
          "2022-04-01T00:00:00",
          "2022-04-04T00:00:00",
          "2022-04-05T00:00:00",
          "2022-04-06T00:00:00",
          "2022-04-07T00:00:00",
          "2022-04-08T00:00:00",
          "2022-04-11T00:00:00",
          "2022-04-12T00:00:00",
          "2022-04-13T00:00:00",
          "2022-04-14T00:00:00",
          "2022-04-18T00:00:00",
          "2022-04-19T00:00:00",
          "2022-04-20T00:00:00",
          "2022-04-21T00:00:00",
          "2022-04-22T00:00:00",
          "2022-04-25T00:00:00",
          "2022-04-26T00:00:00",
          "2022-04-27T00:00:00",
          "2022-04-28T00:00:00",
          "2022-04-29T00:00:00",
          "2022-05-02T00:00:00",
          "2022-05-03T00:00:00",
          "2022-05-04T00:00:00",
          "2022-05-05T00:00:00",
          "2022-05-06T00:00:00",
          "2022-05-09T00:00:00",
          "2022-05-10T00:00:00",
          "2022-05-11T00:00:00",
          "2022-05-12T00:00:00",
          "2022-05-13T00:00:00",
          "2022-05-16T00:00:00",
          "2022-05-17T00:00:00",
          "2022-05-18T00:00:00",
          "2022-05-19T00:00:00",
          "2022-05-20T00:00:00",
          "2022-05-23T00:00:00",
          "2022-05-24T00:00:00",
          "2022-05-25T00:00:00",
          "2022-05-26T00:00:00",
          "2022-05-27T00:00:00",
          "2022-05-31T00:00:00",
          "2022-06-01T00:00:00",
          "2022-06-02T00:00:00",
          "2022-06-03T00:00:00",
          "2022-06-06T00:00:00",
          "2022-06-07T00:00:00",
          "2022-06-08T00:00:00",
          "2022-06-09T00:00:00",
          "2022-06-10T00:00:00",
          "2022-06-13T00:00:00",
          "2022-06-14T00:00:00",
          "2022-06-15T00:00:00",
          "2022-06-16T00:00:00",
          "2022-06-17T00:00:00",
          "2022-06-21T00:00:00",
          "2022-06-22T00:00:00",
          "2022-06-23T00:00:00",
          "2022-06-24T00:00:00",
          "2022-06-27T00:00:00",
          "2022-06-28T00:00:00",
          "2022-06-29T00:00:00",
          "2022-06-30T00:00:00",
          "2022-07-01T00:00:00",
          "2022-07-05T00:00:00",
          "2022-07-06T00:00:00",
          "2022-07-07T00:00:00",
          "2022-07-08T00:00:00",
          "2022-07-11T00:00:00",
          "2022-07-12T00:00:00",
          "2022-07-13T00:00:00",
          "2022-07-14T00:00:00",
          "2022-07-15T00:00:00",
          "2022-07-18T00:00:00",
          "2022-07-19T00:00:00",
          "2022-07-20T00:00:00",
          "2022-07-21T00:00:00",
          "2022-07-22T00:00:00",
          "2022-07-25T00:00:00",
          "2022-07-26T00:00:00",
          "2022-07-27T00:00:00",
          "2022-07-28T00:00:00",
          "2022-07-29T00:00:00",
          "2022-08-01T00:00:00",
          "2022-08-02T00:00:00",
          "2022-08-03T00:00:00",
          "2022-08-04T00:00:00",
          "2022-08-05T00:00:00",
          "2022-08-08T00:00:00",
          "2022-08-09T00:00:00",
          "2022-08-10T00:00:00",
          "2022-08-11T00:00:00",
          "2022-08-12T00:00:00",
          "2022-08-15T00:00:00",
          "2022-08-16T00:00:00",
          "2022-08-17T00:00:00",
          "2022-08-18T00:00:00",
          "2022-08-19T00:00:00",
          "2022-08-22T00:00:00",
          "2022-08-23T00:00:00",
          "2022-08-24T00:00:00",
          "2022-08-25T00:00:00",
          "2022-08-26T00:00:00",
          "2022-08-29T00:00:00",
          "2022-08-30T00:00:00",
          "2022-08-31T00:00:00",
          "2022-09-01T00:00:00",
          "2022-09-02T00:00:00",
          "2022-09-06T00:00:00",
          "2022-09-07T00:00:00",
          "2022-09-08T00:00:00",
          "2022-09-09T00:00:00",
          "2022-09-12T00:00:00",
          "2022-09-13T00:00:00",
          "2022-09-14T00:00:00",
          "2022-09-15T00:00:00",
          "2022-09-16T00:00:00",
          "2022-09-19T00:00:00",
          "2022-09-20T00:00:00",
          "2022-09-21T00:00:00",
          "2022-09-22T00:00:00",
          "2022-09-23T00:00:00",
          "2022-09-26T00:00:00",
          "2022-09-27T00:00:00",
          "2022-09-28T00:00:00",
          "2022-09-29T00:00:00",
          "2022-09-30T00:00:00",
          "2022-10-03T00:00:00",
          "2022-10-04T00:00:00",
          "2022-10-05T00:00:00",
          "2022-10-06T00:00:00",
          "2022-10-07T00:00:00",
          "2022-10-10T00:00:00",
          "2022-10-11T00:00:00",
          "2022-10-12T00:00:00",
          "2022-10-13T00:00:00",
          "2022-10-14T00:00:00",
          "2022-10-17T00:00:00",
          "2022-10-18T00:00:00",
          "2022-10-19T00:00:00",
          "2022-10-20T00:00:00",
          "2022-10-21T00:00:00",
          "2022-10-24T00:00:00",
          "2022-10-25T00:00:00",
          "2022-10-26T00:00:00",
          "2022-10-27T00:00:00",
          "2022-10-28T00:00:00",
          "2022-10-31T00:00:00",
          "2022-11-01T00:00:00",
          "2022-11-02T00:00:00",
          "2022-11-03T00:00:00",
          "2022-11-04T00:00:00",
          "2022-11-07T00:00:00",
          "2022-11-08T00:00:00",
          "2022-11-09T00:00:00",
          "2022-11-10T00:00:00",
          "2022-11-11T00:00:00",
          "2022-11-14T00:00:00",
          "2022-11-15T00:00:00",
          "2022-11-16T00:00:00",
          "2022-11-17T00:00:00",
          "2022-11-18T00:00:00",
          "2022-11-21T00:00:00",
          "2022-11-22T00:00:00",
          "2022-11-23T00:00:00",
          "2022-11-25T00:00:00",
          "2022-11-28T00:00:00",
          "2022-11-29T00:00:00",
          "2022-11-30T00:00:00",
          "2022-12-01T00:00:00",
          "2022-12-02T00:00:00",
          "2022-12-05T00:00:00",
          "2022-12-06T00:00:00",
          "2022-12-07T00:00:00",
          "2022-12-08T00:00:00",
          "2022-12-09T00:00:00",
          "2022-12-12T00:00:00",
          "2022-12-13T00:00:00",
          "2022-12-14T00:00:00",
          "2022-12-15T00:00:00",
          "2022-12-16T00:00:00",
          "2022-12-19T00:00:00",
          "2022-12-20T00:00:00",
          "2022-12-21T00:00:00",
          "2022-12-22T00:00:00",
          "2022-12-23T00:00:00",
          "2022-12-27T00:00:00",
          "2022-12-28T00:00:00",
          "2022-12-29T00:00:00",
          "2022-12-30T00:00:00",
          "2023-01-03T00:00:00",
          "2023-01-04T00:00:00",
          "2023-01-05T00:00:00",
          "2023-01-06T00:00:00",
          "2023-01-09T00:00:00",
          "2023-01-10T00:00:00",
          "2023-01-11T00:00:00",
          "2023-01-12T00:00:00",
          "2023-01-13T00:00:00",
          "2023-01-17T00:00:00",
          "2023-01-18T00:00:00",
          "2023-01-19T00:00:00",
          "2023-01-20T00:00:00",
          "2023-01-23T00:00:00",
          "2023-01-24T00:00:00",
          "2023-01-25T00:00:00",
          "2023-01-26T00:00:00",
          "2023-01-27T00:00:00",
          "2023-01-30T00:00:00",
          "2023-01-31T00:00:00",
          "2023-02-01T00:00:00",
          "2023-02-02T00:00:00",
          "2023-02-03T00:00:00",
          "2023-02-06T00:00:00",
          "2023-02-07T00:00:00",
          "2023-02-08T00:00:00",
          "2023-02-09T00:00:00",
          "2023-02-10T00:00:00",
          "2023-02-13T00:00:00",
          "2023-02-14T00:00:00",
          "2023-02-15T00:00:00",
          "2023-02-16T00:00:00",
          "2023-02-17T00:00:00",
          "2023-02-21T00:00:00",
          "2023-02-22T00:00:00",
          "2023-02-23T00:00:00",
          "2023-02-24T00:00:00",
          "2023-02-27T00:00:00",
          "2023-02-28T00:00:00",
          "2023-03-01T00:00:00",
          "2023-03-02T00:00:00",
          "2023-03-03T00:00:00",
          "2023-03-06T00:00:00",
          "2023-03-07T00:00:00",
          "2023-03-08T00:00:00",
          "2023-03-09T00:00:00",
          "2023-03-10T00:00:00",
          "2023-03-13T00:00:00",
          "2023-03-14T00:00:00",
          "2023-03-15T00:00:00",
          "2023-03-16T00:00:00",
          "2023-03-17T00:00:00",
          "2023-03-20T00:00:00",
          "2023-03-21T00:00:00",
          "2023-03-22T00:00:00",
          "2023-03-23T00:00:00",
          "2023-03-24T00:00:00",
          "2023-03-27T00:00:00",
          "2023-03-28T00:00:00",
          "2023-03-29T00:00:00",
          "2023-03-30T00:00:00",
          "2023-03-31T00:00:00",
          "2023-04-03T00:00:00",
          "2023-04-04T00:00:00",
          "2023-04-05T00:00:00",
          "2023-04-06T00:00:00",
          "2023-04-10T00:00:00",
          "2023-04-11T00:00:00",
          "2023-04-12T00:00:00",
          "2023-04-13T00:00:00",
          "2023-04-14T00:00:00",
          "2023-04-17T00:00:00",
          "2023-04-18T00:00:00",
          "2023-04-19T00:00:00",
          "2023-04-20T00:00:00",
          "2023-04-21T00:00:00",
          "2023-04-24T00:00:00",
          "2023-04-25T00:00:00",
          "2023-04-26T00:00:00",
          "2023-04-27T00:00:00",
          "2023-04-28T00:00:00",
          "2023-05-01T00:00:00",
          "2023-05-02T00:00:00",
          "2023-05-03T00:00:00",
          "2023-05-04T00:00:00",
          "2023-05-05T00:00:00",
          "2023-05-08T00:00:00",
          "2023-05-09T00:00:00",
          "2023-05-10T00:00:00",
          "2023-05-11T00:00:00",
          "2023-05-12T00:00:00",
          "2023-05-15T00:00:00",
          "2023-05-16T00:00:00",
          "2023-05-17T00:00:00",
          "2023-05-18T00:00:00",
          "2023-05-19T00:00:00",
          "2023-05-22T00:00:00",
          "2023-05-23T00:00:00",
          "2023-05-24T00:00:00",
          "2023-05-25T00:00:00",
          "2023-05-26T00:00:00",
          "2023-05-30T00:00:00",
          "2023-05-31T00:00:00",
          "2023-06-01T00:00:00",
          "2023-06-02T00:00:00",
          "2023-06-05T00:00:00",
          "2023-06-06T00:00:00",
          "2023-06-07T00:00:00",
          "2023-06-08T00:00:00",
          "2023-06-09T00:00:00",
          "2023-06-12T00:00:00",
          "2023-06-13T00:00:00",
          "2023-06-14T00:00:00",
          "2023-06-15T00:00:00",
          "2023-06-16T00:00:00",
          "2023-06-20T00:00:00",
          "2023-06-21T00:00:00",
          "2023-06-22T00:00:00",
          "2023-06-23T00:00:00",
          "2023-06-26T00:00:00",
          "2023-06-27T00:00:00",
          "2023-06-28T00:00:00",
          "2023-06-29T00:00:00",
          "2023-06-30T00:00:00",
          "2023-07-03T00:00:00",
          "2023-07-05T00:00:00",
          "2023-07-06T00:00:00",
          "2023-07-07T00:00:00",
          "2023-07-10T00:00:00",
          "2023-07-11T00:00:00",
          "2023-07-12T00:00:00",
          "2023-07-13T00:00:00",
          "2023-07-14T00:00:00",
          "2023-07-17T00:00:00",
          "2023-07-18T00:00:00",
          "2023-07-19T00:00:00",
          "2023-07-20T00:00:00",
          "2023-07-21T00:00:00",
          "2023-07-24T00:00:00",
          "2023-07-25T00:00:00",
          "2023-07-26T00:00:00",
          "2023-07-27T00:00:00",
          "2023-07-28T00:00:00",
          "2023-07-31T00:00:00",
          "2023-08-01T00:00:00",
          "2023-08-02T00:00:00",
          "2023-08-03T00:00:00",
          "2023-08-04T00:00:00",
          "2023-08-07T00:00:00",
          "2023-08-08T00:00:00",
          "2023-08-09T00:00:00",
          "2023-08-10T00:00:00",
          "2023-08-11T00:00:00",
          "2023-08-14T00:00:00",
          "2023-08-15T00:00:00",
          "2023-08-16T00:00:00",
          "2023-08-17T00:00:00",
          "2023-08-18T00:00:00",
          "2023-08-21T00:00:00",
          "2023-08-22T00:00:00",
          "2023-08-23T00:00:00",
          "2023-08-24T00:00:00",
          "2023-08-25T00:00:00",
          "2023-08-28T00:00:00",
          "2023-08-29T00:00:00",
          "2023-08-30T00:00:00",
          "2023-08-31T00:00:00",
          "2023-09-01T00:00:00",
          "2023-09-05T00:00:00",
          "2023-09-06T00:00:00",
          "2023-09-07T00:00:00",
          "2023-09-08T00:00:00",
          "2023-09-11T00:00:00",
          "2023-09-12T00:00:00",
          "2023-09-13T00:00:00",
          "2023-09-14T00:00:00",
          "2023-09-15T00:00:00",
          "2023-09-18T00:00:00",
          "2023-09-19T00:00:00",
          "2023-09-20T00:00:00",
          "2023-09-21T00:00:00",
          "2023-09-22T00:00:00",
          "2023-09-25T00:00:00",
          "2023-09-26T00:00:00",
          "2023-09-27T00:00:00",
          "2023-09-28T00:00:00",
          "2023-09-29T00:00:00",
          "2023-10-02T00:00:00",
          "2023-10-03T00:00:00",
          "2023-10-04T00:00:00",
          "2023-10-05T00:00:00",
          "2023-10-06T00:00:00",
          "2023-10-09T00:00:00",
          "2023-10-10T00:00:00",
          "2023-10-11T00:00:00",
          "2023-10-12T00:00:00",
          "2023-10-13T00:00:00",
          "2023-10-16T00:00:00",
          "2023-10-17T00:00:00",
          "2023-10-18T00:00:00",
          "2023-10-19T00:00:00",
          "2023-10-20T00:00:00",
          "2023-10-23T00:00:00",
          "2023-10-24T00:00:00",
          "2023-10-25T00:00:00",
          "2023-10-26T00:00:00",
          "2023-10-27T00:00:00",
          "2023-10-30T00:00:00",
          "2023-10-31T00:00:00",
          "2023-11-01T00:00:00",
          "2023-11-02T00:00:00",
          "2023-11-03T00:00:00",
          "2023-11-06T00:00:00",
          "2023-11-07T00:00:00",
          "2023-11-08T00:00:00",
          "2023-11-09T00:00:00",
          "2023-11-10T00:00:00",
          "2023-11-13T00:00:00",
          "2023-11-14T00:00:00",
          "2023-11-15T00:00:00",
          "2023-11-16T00:00:00",
          "2023-11-17T00:00:00",
          "2023-11-20T00:00:00",
          "2023-11-21T00:00:00",
          "2023-11-22T00:00:00",
          "2023-11-24T00:00:00",
          "2023-11-27T00:00:00",
          "2023-11-28T00:00:00",
          "2023-11-29T00:00:00",
          "2023-11-30T00:00:00",
          "2023-12-01T00:00:00",
          "2023-12-04T00:00:00",
          "2023-12-05T00:00:00",
          "2023-12-06T00:00:00",
          "2023-12-07T00:00:00",
          "2023-12-08T00:00:00",
          "2023-12-11T00:00:00",
          "2023-12-12T00:00:00",
          "2023-12-13T00:00:00",
          "2023-12-14T00:00:00",
          "2023-12-15T00:00:00",
          "2023-12-18T00:00:00",
          "2023-12-19T00:00:00",
          "2023-12-20T00:00:00",
          "2023-12-21T00:00:00",
          "2023-12-22T00:00:00",
          "2023-12-26T00:00:00",
          "2023-12-27T00:00:00",
          "2023-12-28T00:00:00",
          "2023-12-29T00:00:00",
          "2024-01-02T00:00:00",
          "2024-01-03T00:00:00",
          "2024-01-04T00:00:00",
          "2024-01-05T00:00:00",
          "2024-01-08T00:00:00",
          "2024-01-09T00:00:00",
          "2024-01-10T00:00:00",
          "2024-01-11T00:00:00",
          "2024-01-12T00:00:00",
          "2024-01-16T00:00:00",
          "2024-01-17T00:00:00",
          "2024-01-18T00:00:00",
          "2024-01-19T00:00:00",
          "2024-01-22T00:00:00",
          "2024-01-23T00:00:00",
          "2024-01-24T00:00:00",
          "2024-01-25T00:00:00",
          "2024-01-26T00:00:00",
          "2024-01-29T00:00:00",
          "2024-01-30T00:00:00",
          "2024-01-31T00:00:00",
          "2024-02-01T00:00:00",
          "2024-02-02T00:00:00",
          "2024-02-05T00:00:00",
          "2024-02-06T00:00:00",
          "2024-02-07T00:00:00",
          "2024-02-08T00:00:00",
          "2024-02-09T00:00:00",
          "2024-02-12T00:00:00",
          "2024-02-13T00:00:00",
          "2024-02-14T00:00:00",
          "2024-02-15T00:00:00",
          "2024-02-16T00:00:00",
          "2024-02-20T00:00:00",
          "2024-02-21T00:00:00",
          "2024-02-22T00:00:00",
          "2024-02-23T00:00:00",
          "2024-02-26T00:00:00",
          "2024-02-27T00:00:00",
          "2024-02-28T00:00:00",
          "2024-02-29T00:00:00",
          "2024-03-01T00:00:00",
          "2024-03-04T00:00:00",
          "2024-03-05T00:00:00",
          "2024-03-06T00:00:00",
          "2024-03-07T00:00:00",
          "2024-03-08T00:00:00",
          "2024-03-11T00:00:00",
          "2024-03-12T00:00:00",
          "2024-03-13T00:00:00",
          "2024-03-14T00:00:00",
          "2024-03-15T00:00:00",
          "2024-03-18T00:00:00",
          "2024-03-19T00:00:00",
          "2024-03-20T00:00:00",
          "2024-03-21T00:00:00",
          "2024-03-22T00:00:00",
          "2024-03-25T00:00:00",
          "2024-03-26T00:00:00",
          "2024-03-27T00:00:00",
          "2024-03-28T00:00:00",
          "2024-04-01T00:00:00",
          "2024-04-02T00:00:00",
          "2024-04-03T00:00:00",
          "2024-04-04T00:00:00",
          "2024-04-05T00:00:00",
          "2024-04-08T00:00:00",
          "2024-04-09T00:00:00",
          "2024-04-10T00:00:00",
          "2024-04-11T00:00:00",
          "2024-04-12T00:00:00",
          "2024-04-15T00:00:00",
          "2024-04-16T00:00:00",
          "2024-04-17T00:00:00",
          "2024-04-18T00:00:00",
          "2024-04-19T00:00:00",
          "2024-04-22T00:00:00",
          "2024-04-23T00:00:00",
          "2024-04-24T00:00:00",
          "2024-04-25T00:00:00",
          "2024-04-26T00:00:00",
          "2024-04-29T00:00:00",
          "2024-04-30T00:00:00",
          "2024-05-01T00:00:00",
          "2024-05-02T00:00:00",
          "2024-05-03T00:00:00",
          "2024-05-06T00:00:00",
          "2024-05-07T00:00:00",
          "2024-05-08T00:00:00",
          "2024-05-09T00:00:00",
          "2024-05-10T00:00:00",
          "2024-05-13T00:00:00",
          "2024-05-14T00:00:00",
          "2024-05-15T00:00:00",
          "2024-05-16T00:00:00",
          "2024-05-17T00:00:00",
          "2024-05-20T00:00:00",
          "2024-05-21T00:00:00",
          "2024-05-22T00:00:00",
          "2024-05-23T00:00:00",
          "2024-05-24T00:00:00",
          "2024-05-28T00:00:00",
          "2024-05-29T00:00:00",
          "2024-05-30T00:00:00",
          "2024-05-31T00:00:00",
          "2024-06-03T00:00:00",
          "2024-06-04T00:00:00",
          "2024-06-05T00:00:00",
          "2024-06-06T00:00:00",
          "2024-06-07T00:00:00",
          "2024-06-10T00:00:00",
          "2024-06-11T00:00:00",
          "2024-06-12T00:00:00",
          "2024-06-13T00:00:00",
          "2024-06-14T00:00:00",
          "2024-06-17T00:00:00",
          "2024-06-18T00:00:00",
          "2024-06-20T00:00:00",
          "2024-06-21T00:00:00",
          "2024-06-24T00:00:00",
          "2024-06-25T00:00:00",
          "2024-06-26T00:00:00",
          "2024-06-27T00:00:00",
          "2024-06-28T00:00:00",
          "2024-07-01T00:00:00",
          "2024-07-02T00:00:00",
          "2024-07-03T00:00:00",
          "2024-07-05T00:00:00",
          "2024-07-08T00:00:00",
          "2024-07-09T00:00:00",
          "2024-07-10T00:00:00",
          "2024-07-11T00:00:00",
          "2024-07-12T00:00:00",
          "2024-07-15T00:00:00",
          "2024-07-16T00:00:00",
          "2024-07-17T00:00:00",
          "2024-07-18T00:00:00",
          "2024-07-19T00:00:00",
          "2024-07-22T00:00:00",
          "2024-07-23T00:00:00",
          "2024-07-24T00:00:00",
          "2024-07-25T00:00:00",
          "2024-07-26T00:00:00",
          "2024-07-29T00:00:00",
          "2024-07-30T00:00:00",
          "2024-07-31T00:00:00",
          "2024-08-01T00:00:00",
          "2024-08-02T00:00:00",
          "2024-08-05T00:00:00",
          "2024-08-06T00:00:00",
          "2024-08-07T00:00:00",
          "2024-08-08T00:00:00",
          "2024-08-09T00:00:00",
          "2024-08-12T00:00:00",
          "2024-08-13T00:00:00",
          "2024-08-14T00:00:00",
          "2024-08-15T00:00:00",
          "2024-08-16T00:00:00",
          "2024-08-19T00:00:00",
          "2024-08-20T00:00:00",
          "2024-08-21T00:00:00",
          "2024-08-22T00:00:00",
          "2024-08-23T00:00:00",
          "2024-08-26T00:00:00",
          "2024-08-27T00:00:00",
          "2024-08-28T00:00:00",
          "2024-08-29T00:00:00",
          "2024-08-30T00:00:00",
          "2024-09-03T00:00:00",
          "2024-09-04T00:00:00",
          "2024-09-05T00:00:00",
          "2024-09-06T00:00:00",
          "2024-09-09T00:00:00",
          "2024-09-10T00:00:00",
          "2024-09-11T00:00:00",
          "2024-09-12T00:00:00",
          "2024-09-13T00:00:00",
          "2024-09-16T00:00:00",
          "2024-09-17T00:00:00",
          "2024-09-18T00:00:00",
          "2024-09-19T00:00:00",
          "2024-09-20T00:00:00",
          "2024-09-23T00:00:00",
          "2024-09-24T00:00:00",
          "2024-09-25T00:00:00",
          "2024-09-26T00:00:00",
          "2024-09-27T00:00:00",
          "2024-09-30T00:00:00",
          "2024-10-01T00:00:00",
          "2024-10-02T00:00:00",
          "2024-10-03T00:00:00",
          "2024-10-04T00:00:00",
          "2024-10-07T00:00:00",
          "2024-10-08T00:00:00",
          "2024-10-09T00:00:00",
          "2024-10-10T00:00:00",
          "2024-10-11T00:00:00",
          "2024-10-14T00:00:00",
          "2024-10-15T00:00:00",
          "2024-10-16T00:00:00",
          "2024-10-17T00:00:00",
          "2024-10-18T00:00:00",
          "2024-10-21T00:00:00",
          "2024-10-22T00:00:00",
          "2024-10-23T00:00:00",
          "2024-10-24T00:00:00",
          "2024-10-25T00:00:00",
          "2024-10-28T00:00:00",
          "2024-10-29T00:00:00",
          "2024-10-30T00:00:00",
          "2024-10-31T00:00:00",
          "2024-11-01T00:00:00",
          "2024-11-04T00:00:00",
          "2024-11-05T00:00:00",
          "2024-11-06T00:00:00",
          "2024-11-07T00:00:00",
          "2024-11-08T00:00:00",
          "2024-11-11T00:00:00",
          "2024-11-12T00:00:00",
          "2024-11-13T00:00:00",
          "2024-11-14T00:00:00",
          "2024-11-15T00:00:00",
          "2024-11-18T00:00:00",
          "2024-11-19T00:00:00",
          "2024-11-20T00:00:00",
          "2024-11-21T00:00:00",
          "2024-11-22T00:00:00",
          "2024-11-25T00:00:00",
          "2024-11-26T00:00:00",
          "2024-11-27T00:00:00",
          "2024-11-29T00:00:00",
          "2024-12-02T00:00:00",
          "2024-12-03T00:00:00",
          "2024-12-04T00:00:00",
          "2024-12-05T00:00:00",
          "2024-12-06T00:00:00",
          "2024-12-09T00:00:00",
          "2024-12-10T00:00:00",
          "2024-12-11T00:00:00",
          "2024-12-12T00:00:00",
          "2024-12-13T00:00:00",
          "2024-12-16T00:00:00",
          "2024-12-17T00:00:00",
          "2024-12-18T00:00:00",
          "2024-12-19T00:00:00",
          "2024-12-20T00:00:00",
          "2024-12-23T00:00:00",
          "2024-12-24T00:00:00",
          "2024-12-26T00:00:00",
          "2024-12-27T00:00:00",
          "2024-12-30T00:00:00",
          "2024-12-31T00:00:00",
          "2025-01-02T00:00:00",
          "2025-01-03T00:00:00",
          "2025-01-06T00:00:00",
          "2025-01-07T00:00:00",
          "2025-01-08T00:00:00",
          "2025-01-10T00:00:00",
          "2025-01-13T00:00:00",
          "2025-01-14T00:00:00",
          "2025-01-15T00:00:00",
          "2025-01-16T00:00:00",
          "2025-01-17T00:00:00",
          "2025-01-21T00:00:00",
          "2025-01-22T00:00:00",
          "2025-01-23T00:00:00",
          "2025-01-24T00:00:00",
          "2025-01-27T00:00:00",
          "2025-01-28T00:00:00",
          "2025-01-29T00:00:00",
          "2025-01-30T00:00:00",
          "2025-01-31T00:00:00",
          "2025-02-03T00:00:00",
          "2025-02-04T00:00:00",
          "2025-02-05T00:00:00",
          "2025-02-06T00:00:00",
          "2025-02-07T00:00:00",
          "2025-02-10T00:00:00",
          "2025-02-11T00:00:00",
          "2025-02-12T00:00:00",
          "2025-02-13T00:00:00",
          "2025-02-14T00:00:00",
          "2025-02-18T00:00:00",
          "2025-02-19T00:00:00",
          "2025-02-20T00:00:00",
          "2025-02-21T00:00:00",
          "2025-02-24T00:00:00",
          "2025-02-25T00:00:00",
          "2025-02-26T00:00:00",
          "2025-02-27T00:00:00",
          "2025-02-28T00:00:00",
          "2025-03-03T00:00:00",
          "2025-03-04T00:00:00",
          "2025-03-05T00:00:00",
          "2025-03-06T00:00:00",
          "2025-03-07T00:00:00",
          "2025-03-10T00:00:00",
          "2025-03-11T00:00:00",
          "2025-03-12T00:00:00",
          "2025-03-13T00:00:00",
          "2025-03-14T00:00:00",
          "2025-03-17T00:00:00",
          "2025-03-18T00:00:00",
          "2025-03-19T00:00:00",
          "2025-03-20T00:00:00",
          "2025-03-21T00:00:00",
          "2025-03-24T00:00:00",
          "2025-03-25T00:00:00",
          "2025-03-26T00:00:00",
          "2025-03-27T00:00:00",
          "2025-03-28T00:00:00",
          "2025-03-31T00:00:00",
          "2025-04-01T00:00:00",
          "2025-04-02T00:00:00",
          "2025-04-03T00:00:00",
          "2025-04-04T00:00:00",
          "2025-04-07T00:00:00",
          "2025-04-08T00:00:00",
          "2025-04-09T00:00:00",
          "2025-04-10T00:00:00",
          "2025-04-11T00:00:00",
          "2025-04-14T00:00:00",
          "2025-04-15T00:00:00",
          "2025-04-16T00:00:00",
          "2025-04-17T00:00:00",
          "2025-04-21T00:00:00",
          "2025-04-22T00:00:00",
          "2025-04-23T00:00:00",
          "2025-04-24T00:00:00",
          "2025-04-25T00:00:00",
          "2025-04-28T00:00:00",
          "2025-04-29T00:00:00",
          "2025-04-30T00:00:00",
          "2025-05-01T00:00:00",
          "2025-05-02T00:00:00",
          "2025-05-05T00:00:00",
          "2025-05-06T00:00:00",
          "2025-05-07T00:00:00",
          "2025-05-08T00:00:00",
          "2025-05-09T00:00:00",
          "2025-05-12T00:00:00",
          "2025-05-13T00:00:00",
          "2025-05-14T00:00:00",
          "2025-05-15T00:00:00",
          "2025-05-16T00:00:00",
          "2025-05-19T00:00:00",
          "2025-05-20T00:00:00",
          "2025-05-21T00:00:00",
          "2025-05-22T00:00:00",
          "2025-05-23T00:00:00",
          "2025-05-27T00:00:00",
          "2025-05-28T00:00:00",
          "2025-05-29T00:00:00",
          "2025-05-30T00:00:00",
          "2025-06-02T00:00:00",
          "2025-06-03T00:00:00",
          "2025-06-04T00:00:00",
          "2025-06-05T00:00:00",
          "2025-06-06T00:00:00",
          "2025-06-09T00:00:00",
          "2025-06-10T00:00:00",
          "2025-06-11T00:00:00",
          "2025-06-12T00:00:00",
          "2025-06-13T00:00:00",
          "2025-06-16T00:00:00",
          "2025-06-17T00:00:00",
          "2025-06-18T00:00:00",
          "2025-06-20T00:00:00",
          "2025-06-23T00:00:00",
          "2025-06-24T00:00:00",
          "2025-06-25T00:00:00",
          "2025-06-26T00:00:00",
          "2025-06-27T00:00:00",
          "2025-06-30T00:00:00",
          "2025-07-01T00:00:00",
          "2025-07-02T00:00:00",
          "2025-07-03T00:00:00",
          "2025-07-07T00:00:00",
          "2025-07-08T00:00:00",
          "2025-07-09T00:00:00",
          "2025-07-10T00:00:00",
          "2025-07-11T00:00:00",
          "2025-07-14T00:00:00",
          "2025-07-15T00:00:00",
          "2025-07-16T00:00:00",
          "2025-07-17T00:00:00",
          "2025-07-18T00:00:00",
          "2025-07-21T00:00:00",
          "2025-07-22T00:00:00",
          "2025-07-23T00:00:00"
         ],
         "y": [
          0.996694672037038,
          0.9886763908254271,
          0.9889963587091913,
          0.9964601021467091,
          0.9968012822330228,
          1.0007465459635132,
          0.9983154490667898,
          1.001706243671092,
          0.999914876598183,
          0.9970999006184281,
          0.9984221965585842,
          1.0010876574019223,
          0.9787602696407316,
          0.9907663762837412,
          0.9714884657447295,
          0.9606979075500816,
          0.9754122426810519,
          0.9669247530408789,
          0.9783763905577002,
          0.9986139988042907,
          1.0012583847408887,
          0.9944982823264527,
          1.0038600030328644,
          0.9949673534592056,
          0.9881219216992387,
          1.0035614532953636,
          0.9947115027184226,
          0.9841248288007066,
          0.9736602795054357,
          0.9909515883305975,
          1.0008598150062533,
          1.0070872783281928,
          1.0213395444126887,
          1.0205049231874568,
          1.0218104690388683,
          1.0189855391129332,
          1.0164174896463514,
          1.0223026058675972,
          1.0219602587669039,
          1.0023362941403453,
          1.001394719479605,
          0.9974357948160809,
          0.9961945720513647,
          1.0052680402059793,
          1.0079859480485012,
          0.9940973785630577,
          0.9945040487504465,
          0.9768916736750454,
          0.9667480533342044,
          0.9560481103737485,
          0.9372799791749714,
          0.9412606652242825,
          0.9297687313874077,
          0.9274361442339156,
          0.9228565738640813,
          0.9457760498032309,
          0.9628103408732301,
          0.969315965504977,
          0.9787321239998085,
          0.9557269068276999,
          0.9602211478520036,
          0.9571394747625246,
          0.965014625092855,
          0.9791387255392929,
          0.9615479059059647,
          0.9425872859824345,
          0.9395058188366695,
          0.9546570292330927,
          0.9557269068277003,
          0.9353114318600558,
          0.9292551764124155,
          0.9192827639458737,
          0.9029758660739794,
          0.9165648561033517,
          0.9367879796420524,
          0.9343912066976744,
          0.920160152815728,
          0.9370875590981235,
          0.9324223847911395,
          0.9248468139168803,
          0.8975830926251767,
          0.8907777512415492,
          0.9146602886356074,
          0.9105300874498796,
          0.8989526869716646,
          0.892382807901127,
          0.9120067038797808,
          0.932229690122672,
          0.9438928318338459,
          0.9542310003365809,
          0.9539521525477265,
          0.9651144391462757,
          0.9526855300582748,
          0.9670466717196105,
          0.971769235674916,
          0.9786814618461471,
          0.9907884809090525,
          0.9846705796429998,
          0.9695153190201999,
          0.9722629514054532,
          0.9805917957378856,
          0.9682058602382212,
          0.9585243775917593,
          0.963354375517906,
          0.9607783628943801,
          0.9443564797821286,
          0.9408572901363196,
          0.9516336382146966,
          0.9397841860901915,
          0.9401704678498872,
          0.9553473525626648,
          0.9546389061862548,
          0.9403638489974016,
          0.9145608864696154,
          0.9198631133321309,
          0.8932231955503533,
          0.8957347477913745,
          0.9183604106984472,
          0.8844219163378382,
          0.8897456986424267,
          0.8938242079559222,
          0.921043719997005,
          0.8883073190954383,
          0.8830051608808275,
          0.8547336197003567,
          0.8567085512704091,
          0.843098623630106,
          0.8422185574919687,
          0.8623543608959027,
          0.8588552398979983,
          0.8765220527618194,
          0.8411881524425585,
          0.8360363331392208,
          0.8364012654005577,
          0.8520504476976086,
          0.8455460587281461,
          0.8530163237166095,
          0.8700608433244075,
          0.891419952389933,
          0.8864181974062496,
          0.8792484042966183,
          0.8959922460818702,
          0.8812877276012707,
          0.8839709682519239,
          0.8924502887914388,
          0.8827473879987134,
          0.8617533484903339,
          0.8367659917181803,
          0.8049956041314239,
          0.8025697931233617,
          0.8140114080460982,
          0.7870710183854885,
          0.7887677886457335,
          0.8086238518380519,
          0.8071578758333777,
          0.8150700960322411,
          0.8409843368135311,
          0.8377719581135206,
          0.8206539165997986,
          0.8199856292476327,
          0.8133237619848094,
          0.821925962273721,
          0.8234782286945915,
          0.8262594299052385,
          0.8386343817401523,
          0.8379444702980088,
          0.8283721378200054,
          0.8210419145571115,
          0.8167301396634763,
          0.8147466271053375,
          0.8303126767898077,
          0.8234566732525185,
          0.8457058024023616,
          0.8510955553433579,
          0.8597625592542977,
          0.8517856040813109,
          0.8528203339487167,
          0.8427306708609628,
          0.8646133574955658,
          0.8754577356474914,
          0.8882206167918136,
          0.8855905096193913,
          0.8797480237469585,
          0.8935245598519465,
          0.8929205955864759,
          0.8914114400497511,
          0.8903765042386312,
          0.886840931203336,
          0.9054680596058778,
          0.9054680596058778,
          0.9207967934838317,
          0.9245912377677163,
          0.9264021694934622,
          0.9198265926468353,
          0.9225000852950224,
          0.9101034407222262,
          0.891152774744876,
          0.8889969559459631,
          0.8918427548349243,
          0.9044333297384722,
          0.87381911016252,
          0.868041290616306,
          0.8585120003745438,
          0.8519795344120628,
          0.8546530270602497,
          0.8456411360761429,
          0.8424504501140148,
          0.8575849104216933,
          0.8631904237271332,
          0.8766002427252624,
          0.8860216184608504,
          0.8474952473339393,
          0.8507291814760227,
          0.841070558581823,
          0.8346541075782696,
          0.8411267812157648,
          0.8314718653084183,
          0.8169677987095163,
          0.8101056168608048,
          0.7965323472016067,
          0.7886525288137575,
          0.7866392230649829,
          0.8021174720793534,
          0.7853620974461134,
          0.7732175966272469,
          0.7936315613409882,
          0.8182234375342174,
          0.8163185268269497,
          0.8078974883585174,
          0.7853620974461132,
          0.7793654283797447,
          0.7744297126803739,
          0.771875461442635,
          0.7922461093285164,
          0.7741916417469058,
          0.7940861477658511,
          0.8034162904361049,
          0.7977229764605653,
          0.7910337873316751,
          0.8102569854906482,
          0.820171665069345,
          0.8332687242137023,
          0.8269908733297198,
          0.8225745476772404,
          0.8421442118111884,
          0.8360611836807187,
          0.8324026622481221,
          0.8115126243153494,
          0.8031565267647548,
          0.8147165593230831,
          0.8225097440552125,
          0.8269475565018601,
          0.8099105881635781,
          0.8544185944657303,
          0.8626881270085099,
          0.855349460053339,
          0.8626446728848406,
          0.8560638787974572,
          0.8534444806981666,
          0.8573194489742537,
          0.8542021476222401,
          0.8656971019669214,
          0.8711522763610882,
          0.8709575909033848,
          0.8570596853029033,
          0.8555875996347118,
          0.8825391102558814,
          0.8818897697254102,
          0.8808721331862723,
          0.8650259314027586,
          0.8525569319384182,
          0.8511066076560135,
          0.8577740353991169,
          0.8513661653836498,
          0.8636406166860964,
          0.8701782312414292,
          0.8646147991015648,
          0.843464722905823,
          0.8335066578513616,
          0.8264389441760056,
          0.8275697124620741,
          0.8399439778179411,
          0.8279612801104309,
          0.8327237971462667,
          0.8294400246253776,
          0.8191319239048972,
          0.8338764641139313,
          0.8316800057554414,
          0.8281786880245869,
          0.834572347923783,
          0.8250471079083976,
          0.8439672255681604,
          0.8434886123766554,
          0.8494040709717746,
          0.8601470561684719,
          0.8632787735804706,
          0.866627761610816,
          0.8650401415190296,
          0.8513829154723945,
          0.8451850393973769,
          0.8609300541693763,
          0.8712599849235484,
          0.870324863165849,
          0.8706510780089401,
          0.8802199094438043,
          0.8822422080680935,
          0.8711729393804005,
          0.8839820892124844,
          0.8933768982089573,
          0.9063816945694101,
          0.896747784920899,
          0.891267348097806,
          0.9029238996101296,
          0.893050683365866,
          0.8853086413227313,
          0.8873747373102132,
          0.8977915763117239,
          0.8973784532212941,
          0.9002924194796132,
          0.8878966673295781,
          0.8856784475853011,
          0.8679108595973938,
          0.8667148758018689,
          0.8713252004330048,
          0.8620173683317754,
          0.864953233271691,
          0.8617565062939501,
          0.8584509037393693,
          0.8651271870621777,
          0.8790019583187783,
          0.8796109338812912,
          0.8661275929772381,
          0.8675411906306331,
          0.8515352451729036,
          0.83924795671228,
          0.8380519042688505,
          0.8519048454917594,
          0.8465769443128894,
          0.8614300855071447,
          0.8513577903392776,
          0.8595441216215717,
          0.8708303863359925,
          0.8559858261298237,
          0.8582998097011444,
          0.8639320956894136,
          0.8655473122388858,
          0.8636045078882287,
          0.8761568459088639,
          0.881287041122224,
          0.8937084675886137,
          0.8971140214924245,
          0.8921366365149063,
          0.8898007542619891,
          0.8932719355626844,
          0.8941887283298314,
          0.8944287900525355,
          0.8907831744260207,
          0.9026151213348296,
          0.9004103565798721,
          0.9036412015662446,
          0.9042305438280159,
          0.9040777335921739,
          0.8991441459778485,
          0.8998428443517925,
          0.9007815358005358,
          0.8864825891408501,
          0.8827278233458768,
          0.9003012064114135,
          0.9079853782708937,
          0.9070685855037467,
          0.896873822473911,
          0.8907176843249455,
          0.8844088045880426,
          0.9007815358005357,
          0.9010215975232397,
          0.8970703614250412,
          0.9012617278938486,
          0.8996898968201412,
          0.8985110750007892,
          0.9016110770808207,
          0.8955859191340054,
          0.9064572759124746,
          0.9151894266849661,
          0.9138577259818674,
          0.9142289052025312,
          0.9039686520716204,
          0.8974195733162041,
          0.9051910653104511,
          0.9169139993466108,
          0.9172632798856781,
          0.9121768820355108,
          0.9208434740590223,
          0.9341599319067719,
          0.9323698004961474,
          0.9344000622773807,
          0.9311691486431036,
          0.936801434631373,
          0.9384823472256342,
          0.9469959917174945,
          0.9532395186491316,
          0.9543746804011003,
          0.9662067646057185,
          0.9629155781111228,
          0.9579197954951475,
          0.9530116762534624,
          0.9564518287012372,
          0.9492210076043357,
          0.9453426755809189,
          0.955706792991627,
          0.9561888385783665,
          0.9599576085458966,
          0.971285748482179,
          0.972403267722642,
          0.9709569936666141,
          0.9633538263346691,
          0.960921562423566,
          0.9633538263346691,
          0.9694888209289899,
          0.9772893509869212,
          0.9850460836816597,
          0.9844325087095325,
          0.9878506938278063,
          0.9951909396847852,
          0.997404079484115,
          0.990786764711436,
          0.990786764711436,
          0.9952129070142862,
          0.9979299224340472,
          0.9980832818531267,
          0.9914661043762572,
          1.0011727808037407,
          1.003079133117007,
          1.000208689630262,
          0.9862950636596064,
          0.9834684175360541,
          0.9790204451995121,
          0.9875658050233397,
          0.9832713294016866,
          0.9766978119922004,
          0.9770483281935521,
          0.9764787565283317,
          0.9818689213567563,
          0.9704311507166826,
          0.9633099603235724,
          0.9559697144665935,
          0.9564298613717365,
          0.9626526566361568,
          0.9600452719201872,
          0.9707380068506506,
          0.9572844591372334,
          0.9640330287036813,
          0.9701464678559291,
          0.9841695872345667,
          0.9882231773586595,
          0.9867771092463458,
          0.9886175595711088,
          0.9843448453352427,
          0.9777277365062778,
          0.9747257636341449,
          0.9761938677238644,
          0.9826139570663665,
          0.9772237235900372,
          0.9783631415120966,
          0.9867989392800374,
          0.9749096713708115,
          0.9754814397689819,
          0.973458454665646,
          0.9645091705706172,
          0.948567342255869,
          0.9464344518571229,
          0.950414451427387,
          0.9364515362611633,
          0.9368253241022052,
          0.9422566090255395,
          0.9399697413765717,
          0.939595884887625,
          0.927018421733873,
          0.933768982089557,
          0.9334170929301115,
          0.9444994733676005,
          0.9505463240522981,
          0.9554937785433711,
          0.9594078074772273,
          0.9535587314059442,
          0.9488091888240952,
          0.9587921044200547,
          0.9587481011131479,
          0.9459725887543626,
          0.9376610436939122,
          0.9261389047789733,
          0.924533710823586,
          0.9315042877138043,
          0.9181349709794427,
          0.9071408030994815,
          0.9030287936084969,
          0.9138252555229481,
          0.9195642890030117,
          0.9293712600192486,
          0.9471820961871111,
          0.9558236317254106,
          0.9580224927605648,
          0.9607489815911732,
          0.9614526226142549,
          0.9539545552243917,
          0.9688407847087078,
          0.9679172644469012,
          0.9866956241834772,
          0.9887845799232211,
          0.989993881412256,
          0.9912252188786966,
          0.9988552961892804,
          0.9966784711315321,
          1.0005263921331708,
          1.0011421638382483,
          0.9993390579736372,
          1.0003284802239472,
          0.9996248392008654,
          1.0035609041121274,
          1.0094978495014149,
          1.0041985744988011,
          1.004000731237482,
          0.9999547610308098,
          1.0075848383413937,
          1.0119166584231987,
          1.0158525173907464,
          1.0204921546771855,
          1.0345649064909146,
          1.0378850624012899,
          1.0361762101098193,
          1.0420047604576,
          1.0483411680042838,
          1.033813967061501,
          1.043616475963933,
          1.0457138067480494,
          1.0501294459214818,
          1.0520281783173273,
          1.0524255123896782,
          1.0493788497315915,
          1.0435060901331898,
          1.0349840705969573,
          1.0316503224014533,
          1.0330633708716106,
          1.0478114121237843,
          1.0462215952990477,
          1.0521384955001654,
          1.0516749161997878,
          1.0524034077643676,
          1.0485398350404593,
          1.042711421988488,
          1.0519839690667063,
          1.0650981215393318,
          1.0673501160527168,
          1.0704630239388304,
          1.0716331274742867,
          1.0774618151178765,
          1.0760928386025306,
          1.0846149267866678,
          1.083776049391345,
          1.0660916626639232,
          1.0800448984755855,
          1.0914149136337292,
          1.0874408177832684,
          1.0905980722158122,
          1.0996940568831655,
          1.1001797408088536,
          1.1065381843329434,
          1.10605256905516,
          1.090818706581489,
          1.1007316699625687,
          1.1083264622501414,
          1.102807033417184,
          1.0967356754305118,
          1.0977292165551031,
          1.1204471422460804,
          1.1212199803570906,
          1.117113462698481,
          1.119188688857287,
          1.1177095324549122,
          1.1217276316122797,
          1.1322586320792913,
          1.1310443879411187,
          1.1197406866589064,
          1.125414641925323,
          1.1365860586951961,
          1.1297639672228241,
          1.1287925307235434,
          1.1409353153447928,
          1.139147037427595,
          1.1368951802100193,
          1.1290884718406657,
          1.1357987358762962,
          1.1421107734168148,
          1.1526743816385547,
          1.1564836538698526,
          1.1542910397940254,
          1.1511020013816098,
          1.148975907125428,
          1.1586317841034401,
          1.1584101886670979,
          1.1563949607769919,
          1.1490425642408828,
          1.1503045873207203,
          1.1362638940784817,
          1.1481344897576315,
          1.1487764849623008,
          1.1501054397492119,
          1.1385893418498858,
          1.1471820000800454,
          1.1313475370882338,
          1.1171738042067043,
          1.1151362657475739,
          1.1085366621343051,
          1.106255629557236,
          1.0965998898750333,
          1.1066985458383016,
          1.1198313018930983,
          1.1192998298149814,
          1.1150477099505225,
          1.1256115927638812,
          1.129597907941377,
          1.1117036645693148,
          1.108093814501144,
          1.1184582751513756,
          1.1323219254474164,
          1.144015134940845,
          1.1452774326123012,
          1.1453883676262817,
          1.1519879025916457,
          1.1534717956994442,
          1.1536265280766176,
          1.158919693415714,
          1.1732704005955366,
          1.1708567402666046,
          1.172539849593816,
          1.1738908403581327,
          1.1767696588892502,
          1.1733813356095169,
          1.1648106447088584,
          1.172517607672696,
          1.1733369890630865,
          1.165120521350633,
          1.1573915910572943,
          1.167933437893247,
          1.1688854470355006,
          1.1701922285491964,
          1.1841000194479532,
          1.1840779148226428,
          1.1826383682612747,
          1.186292496227971,
          1.1891494847253967,
          1.1989160221257706,
          1.2013300943421306,
          1.2020610572312793,
          1.211627966524812,
          1.2147064131627705,
          1.2114066456800885,
          1.2097827108467207,
          1.2058500096827887,
          1.2104934912518903,
          1.2120042943383276,
          1.2139150401174938,
          1.2091381070216731,
          1.211626593566718,
          1.2197804543900934,
          1.2252239586404627,
          1.2322893382870592,
          1.2337110363932078,
          1.234910864471395,
          1.2471304660979934,
          1.2363771837155926,
          1.2441755856884784,
          1.2475972718498913,
          1.2549958684258573,
          1.2373992137206304,
          1.227889968667038,
          1.2197359705478532,
          1.2323113056165598,
          1.2303785925078923,
          1.202494911988925,
          1.1962295550235962,
          1.2096268801030716,
          1.21033793509986,
          1.2042057550696315,
          1.2237796067257656,
          1.2064498550739768,
          1.183987711475878,
          1.1495056630059264,
          1.1601035951800118,
          1.152349402457747,
          1.178988771056287,
          1.184187614174338,
          1.1848097014866468,
          1.2042945854583014,
          1.2080938350955144,
          1.228801063658095,
          1.23155604136915,
          1.2433313537565889,
          1.2413095356676325,
          1.2455754537609343,
          1.235799442949713,
          1.2489302768631785,
          1.2459532918283531,
          1.247663860317441,
          1.2404208198935045,
          1.2405318922032944,
          1.2523740676499022,
          1.2266015847917988,
          1.2240908563256339,
          1.2211135966991897,
          1.200562061584448,
          1.2140037332103537,
          1.2192915440128842,
          1.23180042790985,
          1.242176146816451,
          1.2486637856971687,
          1.2505078057129755,
          1.2510186834196853,
          1.2473084014669518,
          1.2685930962037926,
          1.2664002075363465,
          1.269564601350978,
          1.273197311171411,
          1.2703893372779345,
          1.2754258967492962,
          1.2735761103094954,
          1.2786796701358356,
          1.2672248061674938,
          1.2677594360492266,
          1.2654417454910525,
          1.2769415051890622,
          1.2653971243530036,
          1.2773647881693864,
          1.2862124047175678,
          1.2839614399227532,
          1.291650142543943,
          1.302213544821969,
          1.2920958047411966,
          1.2977118898239588,
          1.2978232367253673,
          1.3028154496502986,
          1.300675969052702,
          1.2999849592440835,
          1.288106537703799,
          1.290892406971965,
          1.2904467447747117,
          1.2944358745162998,
          1.2965308712716566,
          1.2926083299976188,
          1.2672692900097338,
          1.2726179228558203,
          1.2698766747257035,
          1.2852318380469634,
          1.3171897717093353,
          1.3273746494408953,
          1.333124323346186,
          1.3343947214703957,
          1.3302494863935406,
          1.3308957377683006,
          1.3223378153779146,
          1.3054005924451484,
          1.310749225291235,
          1.3155405744470408,
          1.3159865112359128,
          1.323051067107653,
          1.3271515437506498,
          1.331653473340279,
          1.3386066823106104,
          1.3345505522140442,
          1.3428408850719449,
          1.3452478179062173,
          1.3458718273598578,
          1.3542288859811182,
          1.3520004376990424,
          1.3545633385727724,
          1.347587887681321,
          1.343398168762226,
          1.3537833610796743,
          1.3468079101882229,
          1.346540457951547,
          1.3522901318568377,
          1.3467186679121246,
          1.3065817482932605,
          1.306180569938247,
          1.321869087484686,
          1.3297848773745933,
          1.3445654577335904,
          1.3446549746013075,
          1.330500325837282,
          1.3153171941651776,
          1.3105320233207938,
          1.3073121619991719,
          1.3236579145851213,
          1.3312830492465673,
          1.3162341928760382,
          1.3181570206864301,
          1.2980320636514375,
          1.3000446829211652,
          1.30183364731741,
          1.3255140166321535,
          1.3229648453393617,
          1.3362472538263845,
          1.3484785255967806,
          1.356058901824368,
          1.3634605189081408,
          1.3594800388025439,
          1.340249701261483,
          1.3517656618649996,
          1.3457058367263155,
          1.3529282827788447,
          1.3457280786474353,
          1.3366719097648028,
          1.3456386990755278,
          1.3510946972445508,
          1.3557906258128365,
          1.3433803203070067,
          1.3525034895446175,
          1.3535321097485058,
          1.3491717321383494,
          1.3634157604742823,
          1.3633486228234946,
          1.367351207554402,
          1.3705712061718334,
          1.3648691739123981,
          1.3415243555557836,
          1.335419771983241,
          1.3287784990918248,
          1.3294493264164642,
          1.3082287488226048,
          1.3286443610860588,
          1.305366680380232,
          1.289915135400786,
          1.303778991640541,
          1.28063544894048,
          1.2878132738549601,
          1.2535115634306315,
          1.2430912233859814,
          1.2496877378435391,
          1.2330288135163898,
          1.258498009931569,
          1.268202764217721,
          1.2544954252006615,
          1.2681580057838626,
          1.2644908347152748,
          1.264907939384177,
          1.2875605122698883,
          1.290655571700782,
          1.2752474121971007,
          1.27186073646708,
          1.2462476540436689,
          1.2546133623009204,
          1.2581569671410646,
          1.266119163014543,
          1.203723709482893,
          1.1332541639931186,
          1.1312356410035875,
          1.1135173422112483,
          1.2304582240773347,
          1.1765406494792012,
          1.1975334533252961,
          1.2091512874193742,
          1.2057646116893534,
          1.1789628221483148,
          1.1806449704048605,
          1.1525424403657387,
          1.1825290807970068,
          1.2008528541087198,
          1.2261295617991455,
          1.234988711195315,
          1.2354596358214947,
          1.2432422487763015,
          1.2437356899152197,
          1.2525499435817213,
          1.271142953975632,
          1.2638537821597433,
          1.2532901052900989,
          1.2585607541164567,
          1.2673302493491,
          1.2657153760391515,
          1.307544054621218,
          1.316178999960667,
          1.3178611482172127,
          1.3242979876484593,
          1.3326860751226401,
          1.334143882026656,
          1.3296582906383434,
          1.307252438322091,
          1.3077683959737478,
          1.2988418343351718,
          1.325845586011811,
          1.3181750064374596,
          1.3233783803172203,
          1.321898194196275,
          1.3293442951222871,
          1.3369250832373027,
          1.3365661919915788,
          1.3301068360475936,
          1.3437657096439415,
          1.3449767959784982,
          1.3526023425273723,
          1.348744742171172,
          1.354105045161056,
          1.3389659854437632,
          1.351705251708872,
          1.3401548298572004,
          1.3399528677215997,
          1.3368059104747596,
          1.3500101976462442,
          1.364924092236151,
          1.3656888298944074,
          1.3763737389637363,
          1.3832120313416152,
          1.3898254331837268,
          1.389375652112192,
          1.3956740973675819,
          1.4066739630236325,
          1.3961914279773324,
          1.3954266903190757,
          1.4037945953092774,
          1.4077536572686107,
          1.402804829819444,
          1.4054816862149608,
          1.3994756810335542,
          1.404154447625667,
          1.4127473804474453,
          1.4117127192279442,
          1.414389575623461,
          1.4145919496464896,
          1.4266266138178507
         ]
        }
       ],
       "layout": {
        "annotations": [
         {
          "font": {
           "color": "black",
           "size": 10
          },
          "showarrow": false,
          "text": "Tech Drawdown",
          "textangle": -90,
          "x": "2022-01-24T00:00:00",
          "xanchor": "left",
          "y": 1.6294785878427291,
          "yanchor": "bottom"
         },
         {
          "font": {
           "color": "black",
           "size": 10
          },
          "showarrow": false,
          "text": "1st Fed Hike",
          "textangle": -90,
          "x": "2022-03-16T00:00:00",
          "xanchor": "left",
          "y": 1.6294785878427291,
          "yanchor": "bottom"
         },
         {
          "font": {
           "color": "black",
           "size": 10
          },
          "showarrow": false,
          "text": "CPI Shock",
          "textangle": -90,
          "x": "2022-06-13T00:00:00",
          "xanchor": "left",
          "y": 1.6294785878427291,
          "yanchor": "bottom"
         },
         {
          "font": {
           "color": "black",
           "size": 10
          },
          "showarrow": false,
          "text": "Dot Plot Surprise",
          "textangle": -90,
          "x": "2022-09-21T00:00:00",
          "xanchor": "left",
          "y": 1.6294785878427291,
          "yanchor": "bottom"
         },
         {
          "font": {
           "color": "black",
           "size": 10
          },
          "showarrow": false,
          "text": "CPI Reversal",
          "textangle": -90,
          "x": "2022-10-13T00:00:00",
          "xanchor": "left",
          "y": 1.6294785878427291,
          "yanchor": "bottom"
         },
         {
          "font": {
           "color": "black",
           "size": 10
          },
          "showarrow": false,
          "text": "SVB Collapse",
          "textangle": -90,
          "x": "2023-03-10T00:00:00",
          "xanchor": "left",
          "y": 1.6294785878427291,
          "yanchor": "bottom"
         },
         {
          "font": {
           "color": "black",
           "size": 10
          },
          "showarrow": false,
          "text": "10Y @ 5%",
          "textangle": -90,
          "x": "2023-10-19T00:00:00",
          "xanchor": "left",
          "y": 1.6294785878427291,
          "yanchor": "bottom"
         },
         {
          "font": {
           "color": "black",
           "size": 10
          },
          "showarrow": false,
          "text": "No Rate Cut",
          "textangle": -90,
          "x": "2024-03-20T00:00:00",
          "xanchor": "left",
          "y": 1.6294785878427291,
          "yanchor": "bottom"
         },
         {
          "font": {
           "color": "black",
           "size": 10
          },
          "showarrow": false,
          "text": "NFP Beat",
          "textangle": -90,
          "x": "2024-07-05T00:00:00",
          "xanchor": "left",
          "y": 1.6294785878427291,
          "yanchor": "bottom"
         },
         {
          "font": {
           "color": "black",
           "size": 10
          },
          "showarrow": false,
          "text": "Election Volatility",
          "textangle": -90,
          "x": "2024-11-05T00:00:00",
          "xanchor": "left",
          "y": 1.6294785878427291,
          "yanchor": "bottom"
         },
         {
          "font": {
           "color": "black",
           "size": 10
          },
          "showarrow": false,
          "text": "Tariff Bear Market",
          "textangle": -90,
          "x": "2025-04-07T00:00:00",
          "xanchor": "left",
          "y": 1.6294785878427291,
          "yanchor": "bottom"
         },
         {
          "font": {
           "color": "black",
           "size": 10
          },
          "showarrow": false,
          "text": "Profit Shock Report",
          "textangle": -90,
          "x": "2025-07-21T00:00:00",
          "xanchor": "left",
          "y": 1.6294785878427291,
          "yanchor": "bottom"
         }
        ],
        "hovermode": "x unified",
        "legend": {
         "x": 0.99,
         "y": 0.01
        },
        "margin": {
         "b": 40,
         "l": 60,
         "r": 40,
         "t": 60
        },
        "shapes": [
         {
          "line": {
           "color": "black",
           "dash": "dot",
           "width": 1
          },
          "type": "line",
          "x0": "2022-01-24T00:00:00",
          "x1": "2022-01-24T00:00:00",
          "xref": "x",
          "y0": 0,
          "y1": 1,
          "yref": "y domain"
         },
         {
          "line": {
           "color": "black",
           "dash": "dot",
           "width": 1
          },
          "type": "line",
          "x0": "2022-03-16T00:00:00",
          "x1": "2022-03-16T00:00:00",
          "xref": "x",
          "y0": 0,
          "y1": 1,
          "yref": "y domain"
         },
         {
          "line": {
           "color": "black",
           "dash": "dot",
           "width": 1
          },
          "type": "line",
          "x0": "2022-06-13T00:00:00",
          "x1": "2022-06-13T00:00:00",
          "xref": "x",
          "y0": 0,
          "y1": 1,
          "yref": "y domain"
         },
         {
          "line": {
           "color": "black",
           "dash": "dot",
           "width": 1
          },
          "type": "line",
          "x0": "2022-09-21T00:00:00",
          "x1": "2022-09-21T00:00:00",
          "xref": "x",
          "y0": 0,
          "y1": 1,
          "yref": "y domain"
         },
         {
          "line": {
           "color": "black",
           "dash": "dot",
           "width": 1
          },
          "type": "line",
          "x0": "2022-10-13T00:00:00",
          "x1": "2022-10-13T00:00:00",
          "xref": "x",
          "y0": 0,
          "y1": 1,
          "yref": "y domain"
         },
         {
          "line": {
           "color": "black",
           "dash": "dot",
           "width": 1
          },
          "type": "line",
          "x0": "2023-03-10T00:00:00",
          "x1": "2023-03-10T00:00:00",
          "xref": "x",
          "y0": 0,
          "y1": 1,
          "yref": "y domain"
         },
         {
          "line": {
           "color": "black",
           "dash": "dot",
           "width": 1
          },
          "type": "line",
          "x0": "2023-10-19T00:00:00",
          "x1": "2023-10-19T00:00:00",
          "xref": "x",
          "y0": 0,
          "y1": 1,
          "yref": "y domain"
         },
         {
          "line": {
           "color": "black",
           "dash": "dot",
           "width": 1
          },
          "type": "line",
          "x0": "2024-03-20T00:00:00",
          "x1": "2024-03-20T00:00:00",
          "xref": "x",
          "y0": 0,
          "y1": 1,
          "yref": "y domain"
         },
         {
          "line": {
           "color": "black",
           "dash": "dot",
           "width": 1
          },
          "type": "line",
          "x0": "2024-07-05T00:00:00",
          "x1": "2024-07-05T00:00:00",
          "xref": "x",
          "y0": 0,
          "y1": 1,
          "yref": "y domain"
         },
         {
          "line": {
           "color": "black",
           "dash": "dot",
           "width": 1
          },
          "type": "line",
          "x0": "2024-11-05T00:00:00",
          "x1": "2024-11-05T00:00:00",
          "xref": "x",
          "y0": 0,
          "y1": 1,
          "yref": "y domain"
         },
         {
          "line": {
           "color": "black",
           "dash": "dot",
           "width": 1
          },
          "type": "line",
          "x0": "2025-04-07T00:00:00",
          "x1": "2025-04-07T00:00:00",
          "xref": "x",
          "y0": 0,
          "y1": 1,
          "yref": "y domain"
         },
         {
          "line": {
           "color": "black",
           "dash": "dot",
           "width": 1
          },
          "type": "line",
          "x0": "2025-07-21T00:00:00",
          "x1": "2025-07-21T00:00:00",
          "xref": "x",
          "y0": 0,
          "y1": 1,
          "yref": "y domain"
         }
        ],
        "template": {
         "data": {
          "bar": [
           {
            "error_x": {
             "color": "#2a3f5f"
            },
            "error_y": {
             "color": "#2a3f5f"
            },
            "marker": {
             "line": {
              "color": "white",
              "width": 0.5
             },
             "pattern": {
              "fillmode": "overlay",
              "size": 10,
              "solidity": 0.2
             }
            },
            "type": "bar"
           }
          ],
          "barpolar": [
           {
            "marker": {
             "line": {
              "color": "white",
              "width": 0.5
             },
             "pattern": {
              "fillmode": "overlay",
              "size": 10,
              "solidity": 0.2
             }
            },
            "type": "barpolar"
           }
          ],
          "carpet": [
           {
            "aaxis": {
             "endlinecolor": "#2a3f5f",
             "gridcolor": "#C8D4E3",
             "linecolor": "#C8D4E3",
             "minorgridcolor": "#C8D4E3",
             "startlinecolor": "#2a3f5f"
            },
            "baxis": {
             "endlinecolor": "#2a3f5f",
             "gridcolor": "#C8D4E3",
             "linecolor": "#C8D4E3",
             "minorgridcolor": "#C8D4E3",
             "startlinecolor": "#2a3f5f"
            },
            "type": "carpet"
           }
          ],
          "choropleth": [
           {
            "colorbar": {
             "outlinewidth": 0,
             "ticks": ""
            },
            "type": "choropleth"
           }
          ],
          "contour": [
           {
            "colorbar": {
             "outlinewidth": 0,
             "ticks": ""
            },
            "colorscale": [
             [
              0,
              "#0d0887"
             ],
             [
              0.1111111111111111,
              "#46039f"
             ],
             [
              0.2222222222222222,
              "#7201a8"
             ],
             [
              0.3333333333333333,
              "#9c179e"
             ],
             [
              0.4444444444444444,
              "#bd3786"
             ],
             [
              0.5555555555555556,
              "#d8576b"
             ],
             [
              0.6666666666666666,
              "#ed7953"
             ],
             [
              0.7777777777777778,
              "#fb9f3a"
             ],
             [
              0.8888888888888888,
              "#fdca26"
             ],
             [
              1,
              "#f0f921"
             ]
            ],
            "type": "contour"
           }
          ],
          "contourcarpet": [
           {
            "colorbar": {
             "outlinewidth": 0,
             "ticks": ""
            },
            "type": "contourcarpet"
           }
          ],
          "heatmap": [
           {
            "colorbar": {
             "outlinewidth": 0,
             "ticks": ""
            },
            "colorscale": [
             [
              0,
              "#0d0887"
             ],
             [
              0.1111111111111111,
              "#46039f"
             ],
             [
              0.2222222222222222,
              "#7201a8"
             ],
             [
              0.3333333333333333,
              "#9c179e"
             ],
             [
              0.4444444444444444,
              "#bd3786"
             ],
             [
              0.5555555555555556,
              "#d8576b"
             ],
             [
              0.6666666666666666,
              "#ed7953"
             ],
             [
              0.7777777777777778,
              "#fb9f3a"
             ],
             [
              0.8888888888888888,
              "#fdca26"
             ],
             [
              1,
              "#f0f921"
             ]
            ],
            "type": "heatmap"
           }
          ],
          "heatmapgl": [
           {
            "colorbar": {
             "outlinewidth": 0,
             "ticks": ""
            },
            "colorscale": [
             [
              0,
              "#0d0887"
             ],
             [
              0.1111111111111111,
              "#46039f"
             ],
             [
              0.2222222222222222,
              "#7201a8"
             ],
             [
              0.3333333333333333,
              "#9c179e"
             ],
             [
              0.4444444444444444,
              "#bd3786"
             ],
             [
              0.5555555555555556,
              "#d8576b"
             ],
             [
              0.6666666666666666,
              "#ed7953"
             ],
             [
              0.7777777777777778,
              "#fb9f3a"
             ],
             [
              0.8888888888888888,
              "#fdca26"
             ],
             [
              1,
              "#f0f921"
             ]
            ],
            "type": "heatmapgl"
           }
          ],
          "histogram": [
           {
            "marker": {
             "pattern": {
              "fillmode": "overlay",
              "size": 10,
              "solidity": 0.2
             }
            },
            "type": "histogram"
           }
          ],
          "histogram2d": [
           {
            "colorbar": {
             "outlinewidth": 0,
             "ticks": ""
            },
            "colorscale": [
             [
              0,
              "#0d0887"
             ],
             [
              0.1111111111111111,
              "#46039f"
             ],
             [
              0.2222222222222222,
              "#7201a8"
             ],
             [
              0.3333333333333333,
              "#9c179e"
             ],
             [
              0.4444444444444444,
              "#bd3786"
             ],
             [
              0.5555555555555556,
              "#d8576b"
             ],
             [
              0.6666666666666666,
              "#ed7953"
             ],
             [
              0.7777777777777778,
              "#fb9f3a"
             ],
             [
              0.8888888888888888,
              "#fdca26"
             ],
             [
              1,
              "#f0f921"
             ]
            ],
            "type": "histogram2d"
           }
          ],
          "histogram2dcontour": [
           {
            "colorbar": {
             "outlinewidth": 0,
             "ticks": ""
            },
            "colorscale": [
             [
              0,
              "#0d0887"
             ],
             [
              0.1111111111111111,
              "#46039f"
             ],
             [
              0.2222222222222222,
              "#7201a8"
             ],
             [
              0.3333333333333333,
              "#9c179e"
             ],
             [
              0.4444444444444444,
              "#bd3786"
             ],
             [
              0.5555555555555556,
              "#d8576b"
             ],
             [
              0.6666666666666666,
              "#ed7953"
             ],
             [
              0.7777777777777778,
              "#fb9f3a"
             ],
             [
              0.8888888888888888,
              "#fdca26"
             ],
             [
              1,
              "#f0f921"
             ]
            ],
            "type": "histogram2dcontour"
           }
          ],
          "mesh3d": [
           {
            "colorbar": {
             "outlinewidth": 0,
             "ticks": ""
            },
            "type": "mesh3d"
           }
          ],
          "parcoords": [
           {
            "line": {
             "colorbar": {
              "outlinewidth": 0,
              "ticks": ""
             }
            },
            "type": "parcoords"
           }
          ],
          "pie": [
           {
            "automargin": true,
            "type": "pie"
           }
          ],
          "scatter": [
           {
            "fillpattern": {
             "fillmode": "overlay",
             "size": 10,
             "solidity": 0.2
            },
            "type": "scatter"
           }
          ],
          "scatter3d": [
           {
            "line": {
             "colorbar": {
              "outlinewidth": 0,
              "ticks": ""
             }
            },
            "marker": {
             "colorbar": {
              "outlinewidth": 0,
              "ticks": ""
             }
            },
            "type": "scatter3d"
           }
          ],
          "scattercarpet": [
           {
            "marker": {
             "colorbar": {
              "outlinewidth": 0,
              "ticks": ""
             }
            },
            "type": "scattercarpet"
           }
          ],
          "scattergeo": [
           {
            "marker": {
             "colorbar": {
              "outlinewidth": 0,
              "ticks": ""
             }
            },
            "type": "scattergeo"
           }
          ],
          "scattergl": [
           {
            "marker": {
             "colorbar": {
              "outlinewidth": 0,
              "ticks": ""
             }
            },
            "type": "scattergl"
           }
          ],
          "scattermapbox": [
           {
            "marker": {
             "colorbar": {
              "outlinewidth": 0,
              "ticks": ""
             }
            },
            "type": "scattermapbox"
           }
          ],
          "scatterpolar": [
           {
            "marker": {
             "colorbar": {
              "outlinewidth": 0,
              "ticks": ""
             }
            },
            "type": "scatterpolar"
           }
          ],
          "scatterpolargl": [
           {
            "marker": {
             "colorbar": {
              "outlinewidth": 0,
              "ticks": ""
             }
            },
            "type": "scatterpolargl"
           }
          ],
          "scatterternary": [
           {
            "marker": {
             "colorbar": {
              "outlinewidth": 0,
              "ticks": ""
             }
            },
            "type": "scatterternary"
           }
          ],
          "surface": [
           {
            "colorbar": {
             "outlinewidth": 0,
             "ticks": ""
            },
            "colorscale": [
             [
              0,
              "#0d0887"
             ],
             [
              0.1111111111111111,
              "#46039f"
             ],
             [
              0.2222222222222222,
              "#7201a8"
             ],
             [
              0.3333333333333333,
              "#9c179e"
             ],
             [
              0.4444444444444444,
              "#bd3786"
             ],
             [
              0.5555555555555556,
              "#d8576b"
             ],
             [
              0.6666666666666666,
              "#ed7953"
             ],
             [
              0.7777777777777778,
              "#fb9f3a"
             ],
             [
              0.8888888888888888,
              "#fdca26"
             ],
             [
              1,
              "#f0f921"
             ]
            ],
            "type": "surface"
           }
          ],
          "table": [
           {
            "cells": {
             "fill": {
              "color": "#EBF0F8"
             },
             "line": {
              "color": "white"
             }
            },
            "header": {
             "fill": {
              "color": "#C8D4E3"
             },
             "line": {
              "color": "white"
             }
            },
            "type": "table"
           }
          ]
         },
         "layout": {
          "annotationdefaults": {
           "arrowcolor": "#2a3f5f",
           "arrowhead": 0,
           "arrowwidth": 1
          },
          "autotypenumbers": "strict",
          "coloraxis": {
           "colorbar": {
            "outlinewidth": 0,
            "ticks": ""
           }
          },
          "colorscale": {
           "diverging": [
            [
             0,
             "#8e0152"
            ],
            [
             0.1,
             "#c51b7d"
            ],
            [
             0.2,
             "#de77ae"
            ],
            [
             0.3,
             "#f1b6da"
            ],
            [
             0.4,
             "#fde0ef"
            ],
            [
             0.5,
             "#f7f7f7"
            ],
            [
             0.6,
             "#e6f5d0"
            ],
            [
             0.7,
             "#b8e186"
            ],
            [
             0.8,
             "#7fbc41"
            ],
            [
             0.9,
             "#4d9221"
            ],
            [
             1,
             "#276419"
            ]
           ],
           "sequential": [
            [
             0,
             "#0d0887"
            ],
            [
             0.1111111111111111,
             "#46039f"
            ],
            [
             0.2222222222222222,
             "#7201a8"
            ],
            [
             0.3333333333333333,
             "#9c179e"
            ],
            [
             0.4444444444444444,
             "#bd3786"
            ],
            [
             0.5555555555555556,
             "#d8576b"
            ],
            [
             0.6666666666666666,
             "#ed7953"
            ],
            [
             0.7777777777777778,
             "#fb9f3a"
            ],
            [
             0.8888888888888888,
             "#fdca26"
            ],
            [
             1,
             "#f0f921"
            ]
           ],
           "sequentialminus": [
            [
             0,
             "#0d0887"
            ],
            [
             0.1111111111111111,
             "#46039f"
            ],
            [
             0.2222222222222222,
             "#7201a8"
            ],
            [
             0.3333333333333333,
             "#9c179e"
            ],
            [
             0.4444444444444444,
             "#bd3786"
            ],
            [
             0.5555555555555556,
             "#d8576b"
            ],
            [
             0.6666666666666666,
             "#ed7953"
            ],
            [
             0.7777777777777778,
             "#fb9f3a"
            ],
            [
             0.8888888888888888,
             "#fdca26"
            ],
            [
             1,
             "#f0f921"
            ]
           ]
          },
          "colorway": [
           "#636efa",
           "#EF553B",
           "#00cc96",
           "#ab63fa",
           "#FFA15A",
           "#19d3f3",
           "#FF6692",
           "#B6E880",
           "#FF97FF",
           "#FECB52"
          ],
          "font": {
           "color": "#2a3f5f"
          },
          "geo": {
           "bgcolor": "white",
           "lakecolor": "white",
           "landcolor": "white",
           "showlakes": true,
           "showland": true,
           "subunitcolor": "#C8D4E3"
          },
          "hoverlabel": {
           "align": "left"
          },
          "hovermode": "closest",
          "mapbox": {
           "style": "light"
          },
          "paper_bgcolor": "white",
          "plot_bgcolor": "white",
          "polar": {
           "angularaxis": {
            "gridcolor": "#EBF0F8",
            "linecolor": "#EBF0F8",
            "ticks": ""
           },
           "bgcolor": "white",
           "radialaxis": {
            "gridcolor": "#EBF0F8",
            "linecolor": "#EBF0F8",
            "ticks": ""
           }
          },
          "scene": {
           "xaxis": {
            "backgroundcolor": "white",
            "gridcolor": "#DFE8F3",
            "gridwidth": 2,
            "linecolor": "#EBF0F8",
            "showbackground": true,
            "ticks": "",
            "zerolinecolor": "#EBF0F8"
           },
           "yaxis": {
            "backgroundcolor": "white",
            "gridcolor": "#DFE8F3",
            "gridwidth": 2,
            "linecolor": "#EBF0F8",
            "showbackground": true,
            "ticks": "",
            "zerolinecolor": "#EBF0F8"
           },
           "zaxis": {
            "backgroundcolor": "white",
            "gridcolor": "#DFE8F3",
            "gridwidth": 2,
            "linecolor": "#EBF0F8",
            "showbackground": true,
            "ticks": "",
            "zerolinecolor": "#EBF0F8"
           }
          },
          "shapedefaults": {
           "line": {
            "color": "#2a3f5f"
           }
          },
          "ternary": {
           "aaxis": {
            "gridcolor": "#DFE8F3",
            "linecolor": "#A2B1C6",
            "ticks": ""
           },
           "baxis": {
            "gridcolor": "#DFE8F3",
            "linecolor": "#A2B1C6",
            "ticks": ""
           },
           "bgcolor": "white",
           "caxis": {
            "gridcolor": "#DFE8F3",
            "linecolor": "#A2B1C6",
            "ticks": ""
           }
          },
          "title": {
           "x": 0.05
          },
          "xaxis": {
           "automargin": true,
           "gridcolor": "#EBF0F8",
           "linecolor": "#EBF0F8",
           "ticks": "",
           "title": {
            "standoff": 15
           },
           "zerolinecolor": "#EBF0F8",
           "zerolinewidth": 2
          },
          "yaxis": {
           "automargin": true,
           "gridcolor": "#EBF0F8",
           "linecolor": "#EBF0F8",
           "ticks": "",
           "title": {
            "standoff": 15
           },
           "zerolinecolor": "#EBF0F8",
           "zerolinewidth": 2
          }
         }
        },
        "title": {
         "text": "Cumulative Returns: Macro Strategy vs SPY"
        },
        "xaxis": {
         "title": {
          "text": "Date"
         }
        },
        "yaxis": {
         "title": {
          "text": "Cumulative Return"
         }
        }
       }
      }
     },
     "metadata": {},
     "output_type": "display_data"
    },
    {
     "data": {
      "image/png": "[encoded data removed]",
      "text/plain": [
       "<Figure size 1000x400 with 1 Axes>"
      ]
     },
     "metadata": {},
     "output_type": "display_data"
    },
    {
     "data": {
      "image/png": "[encoded data removed]",
      "text/plain": [
       "<Figure size 800x400 with 1 Axes>"
      ]
     },
     "metadata": {},
     "output_type": "display_data"
    },
    {
     "data": {
      "application/vnd.plotly.v1+json": {
       "config": {
        "plotlyServerURL": "https://plot.ly"
       },
       "data": [
        {
         "alignmentgroup": "True",
         "hovertemplate": "Color=red<br>Coefficient Value=%{x}<br>Feature=%{y}<extra></extra>",
         "legendgroup": "red",
         "marker": {
          "color": "red",
          "pattern": {
           "shape": ""
          }
         },
         "name": "red",
         "offsetgroup": "red",
         "orientation": "h",
         "showlegend": true,
         "textposition": "auto",
         "type": "bar",
         "x": [
          -0.9998314199933256,
          -0.5830572020371804,
          -0.03330837144280305,
          -0.00007128783475527266
         ],
         "xaxis": "x",
         "y": [
          "VIX_ratio",
          "VIX_ret_1d",
          "VIX_std20",
          "VIX_VVIX_spread"
         ],
         "yaxis": "y"
        },
        {
         "alignmentgroup": "True",
         "hovertemplate": "Color=blue<br>Coefficient Value=%{x}<br>Feature=%{y}<extra></extra>",
         "legendgroup": "blue",
         "marker": {
          "color": "blue",
          "pattern": {
           "shape": ""
          }
         },
         "name": "blue",
         "offsetgroup": "blue",
         "orientation": "h",
         "showlegend": true,
         "textposition": "auto",
         "type": "bar",
         "x": [
          0.7156664321803444,
          1.2869167028801711
         ],
         "xaxis": "x",
         "y": [
          "SPY_ret_1d",
          "TNX_ret_1d"
         ],
         "yaxis": "y"
        }
       ],
       "layout": {
        "barmode": "relative",
        "legend": {
         "title": {
          "text": "Color"
         },
         "tracegroupgap": 0
        },
        "template": {
         "data": {
          "bar": [
           {
            "error_x": {
             "color": "#2a3f5f"
            },
            "error_y": {
             "color": "#2a3f5f"
            },
            "marker": {
             "line": {
              "color": "#E5ECF6",
              "width": 0.5
             },
             "pattern": {
              "fillmode": "overlay",
              "size": 10,
              "solidity": 0.2
             }
            },
            "type": "bar"
           }
          ],
          "barpolar": [
           {
            "marker": {
             "line": {
              "color": "#E5ECF6",
              "width": 0.5
             },
             "pattern": {
              "fillmode": "overlay",
              "size": 10,
              "solidity": 0.2
             }
            },
            "type": "barpolar"
           }
          ],
          "carpet": [
           {
            "aaxis": {
             "endlinecolor": "#2a3f5f",
             "gridcolor": "white",
             "linecolor": "white",
             "minorgridcolor": "white",
             "startlinecolor": "#2a3f5f"
            },
            "baxis": {
             "endlinecolor": "#2a3f5f",
             "gridcolor": "white",
             "linecolor": "white",
             "minorgridcolor": "white",
             "startlinecolor": "#2a3f5f"
            },
            "type": "carpet"
           }
          ],
          "choropleth": [
           {
            "colorbar": {
             "outlinewidth": 0,
             "ticks": ""
            },
            "type": "choropleth"
           }
          ],
          "contour": [
           {
            "colorbar": {
             "outlinewidth": 0,
             "ticks": ""
            },
            "colorscale": [
             [
              0,
              "#0d0887"
             ],
             [
              0.1111111111111111,
              "#46039f"
             ],
             [
              0.2222222222222222,
              "#7201a8"
             ],
             [
              0.3333333333333333,
              "#9c179e"
             ],
             [
              0.4444444444444444,
              "#bd3786"
             ],
             [
              0.5555555555555556,
              "#d8576b"
             ],
             [
              0.6666666666666666,
              "#ed7953"
             ],
             [
              0.7777777777777778,
              "#fb9f3a"
             ],
             [
              0.8888888888888888,
              "#fdca26"
             ],
             [
              1,
              "#f0f921"
             ]
            ],
            "type": "contour"
           }
          ],
          "contourcarpet": [
           {
            "colorbar": {
             "outlinewidth": 0,
             "ticks": ""
            },
            "type": "contourcarpet"
           }
          ],
          "heatmap": [
           {
            "colorbar": {
             "outlinewidth": 0,
             "ticks": ""
            },
            "colorscale": [
             [
              0,
              "#0d0887"
             ],
             [
              0.1111111111111111,
              "#46039f"
             ],
             [
              0.2222222222222222,
              "#7201a8"
             ],
             [
              0.3333333333333333,
              "#9c179e"
             ],
             [
              0.4444444444444444,
              "#bd3786"
             ],
             [
              0.5555555555555556,
              "#d8576b"
             ],
             [
              0.6666666666666666,
              "#ed7953"
             ],
             [
              0.7777777777777778,
              "#fb9f3a"
             ],
             [
              0.8888888888888888,
              "#fdca26"
             ],
             [
              1,
              "#f0f921"
             ]
            ],
            "type": "heatmap"
           }
          ],
          "heatmapgl": [
           {
            "colorbar": {
             "outlinewidth": 0,
             "ticks": ""
            },
            "colorscale": [
             [
              0,
              "#0d0887"
             ],
             [
              0.1111111111111111,
              "#46039f"
             ],
             [
              0.2222222222222222,
              "#7201a8"
             ],
             [
              0.3333333333333333,
              "#9c179e"
             ],
             [
              0.4444444444444444,
              "#bd3786"
             ],
             [
              0.5555555555555556,
              "#d8576b"
             ],
             [
              0.6666666666666666,
              "#ed7953"
             ],
             [
              0.7777777777777778,
              "#fb9f3a"
             ],
             [
              0.8888888888888888,
              "#fdca26"
             ],
             [
              1,
              "#f0f921"
             ]
            ],
            "type": "heatmapgl"
           }
          ],
          "histogram": [
           {
            "marker": {
             "pattern": {
              "fillmode": "overlay",
              "size": 10,
              "solidity": 0.2
             }
            },
            "type": "histogram"
           }
          ],
          "histogram2d": [
           {
            "colorbar": {
             "outlinewidth": 0,
             "ticks": ""
            },
            "colorscale": [
             [
              0,
              "#0d0887"
             ],
             [
              0.1111111111111111,
              "#46039f"
             ],
             [
              0.2222222222222222,
              "#7201a8"
             ],
             [
              0.3333333333333333,
              "#9c179e"
             ],
             [
              0.4444444444444444,
              "#bd3786"
             ],
             [
              0.5555555555555556,
              "#d8576b"
             ],
             [
              0.6666666666666666,
              "#ed7953"
             ],
             [
              0.7777777777777778,
              "#fb9f3a"
             ],
             [
              0.8888888888888888,
              "#fdca26"
             ],
             [
              1,
              "#f0f921"
             ]
            ],
            "type": "histogram2d"
           }
          ],
          "histogram2dcontour": [
           {
            "colorbar": {
             "outlinewidth": 0,
             "ticks": ""
            },
            "colorscale": [
             [
              0,
              "#0d0887"
             ],
             [
              0.1111111111111111,
              "#46039f"
             ],
             [
              0.2222222222222222,
              "#7201a8"
             ],
             [
              0.3333333333333333,
              "#9c179e"
             ],
             [
              0.4444444444444444,
              "#bd3786"
             ],
             [
              0.5555555555555556,
              "#d8576b"
             ],
             [
              0.6666666666666666,
              "#ed7953"
             ],
             [
              0.7777777777777778,
              "#fb9f3a"
             ],
             [
              0.8888888888888888,
              "#fdca26"
             ],
             [
              1,
              "#f0f921"
             ]
            ],
            "type": "histogram2dcontour"
           }
          ],
          "mesh3d": [
           {
            "colorbar": {
             "outlinewidth": 0,
             "ticks": ""
            },
            "type": "mesh3d"
           }
          ],
          "parcoords": [
           {
            "line": {
             "colorbar": {
              "outlinewidth": 0,
              "ticks": ""
             }
            },
            "type": "parcoords"
           }
          ],
          "pie": [
           {
            "automargin": true,
            "type": "pie"
           }
          ],
          "scatter": [
           {
            "fillpattern": {
             "fillmode": "overlay",
             "size": 10,
             "solidity": 0.2
            },
            "type": "scatter"
           }
          ],
          "scatter3d": [
           {
            "line": {
             "colorbar": {
              "outlinewidth": 0,
              "ticks": ""
             }
            },
            "marker": {
             "colorbar": {
              "outlinewidth": 0,
              "ticks": ""
             }
            },
            "type": "scatter3d"
           }
          ],
          "scattercarpet": [
           {
            "marker": {
             "colorbar": {
              "outlinewidth": 0,
              "ticks": ""
             }
            },
            "type": "scattercarpet"
           }
          ],
          "scattergeo": [
           {
            "marker": {
             "colorbar": {
              "outlinewidth": 0,
              "ticks": ""
             }
            },
            "type": "scattergeo"
           }
          ],
          "scattergl": [
           {
            "marker": {
             "colorbar": {
              "outlinewidth": 0,
              "ticks": ""
             }
            },
            "type": "scattergl"
           }
          ],
          "scattermapbox": [
           {
            "marker": {
             "colorbar": {
              "outlinewidth": 0,
              "ticks": ""
             }
            },
            "type": "scattermapbox"
           }
          ],
          "scatterpolar": [
           {
            "marker": {
             "colorbar": {
              "outlinewidth": 0,
              "ticks": ""
             }
            },
            "type": "scatterpolar"
           }
          ],
          "scatterpolargl": [
           {
            "marker": {
             "colorbar": {
              "outlinewidth": 0,
              "ticks": ""
             }
            },
            "type": "scatterpolargl"
           }
          ],
          "scatterternary": [
           {
            "marker": {
             "colorbar": {
              "outlinewidth": 0,
              "ticks": ""
             }
            },
            "type": "scatterternary"
           }
          ],
          "surface": [
           {
            "colorbar": {
             "outlinewidth": 0,
             "ticks": ""
            },
            "colorscale": [
             [
              0,
              "#0d0887"
             ],
             [
              0.1111111111111111,
              "#46039f"
             ],
             [
              0.2222222222222222,
              "#7201a8"
             ],
             [
              0.3333333333333333,
              "#9c179e"
             ],
             [
              0.4444444444444444,
              "#bd3786"
             ],
             [
              0.5555555555555556,
              "#d8576b"
             ],
             [
              0.6666666666666666,
              "#ed7953"
             ],
             [
              0.7777777777777778,
              "#fb9f3a"
             ],
             [
              0.8888888888888888,
              "#fdca26"
             ],
             [
              1,
              "#f0f921"
             ]
            ],
            "type": "surface"
           }
          ],
          "table": [
           {
            "cells": {
             "fill": {
              "color": "#EBF0F8"
             },
             "line": {
              "color": "white"
             }
            },
            "header": {
             "fill": {
              "color": "#C8D4E3"
             },
             "line": {
              "color": "white"
             }
            },
            "type": "table"
           }
          ]
         },
         "layout": {
          "annotationdefaults": {
           "arrowcolor": "#2a3f5f",
           "arrowhead": 0,
           "arrowwidth": 1
          },
          "autotypenumbers": "strict",
          "coloraxis": {
           "colorbar": {
            "outlinewidth": 0,
            "ticks": ""
           }
          },
          "colorscale": {
           "diverging": [
            [
             0,
             "#8e0152"
            ],
            [
             0.1,
             "#c51b7d"
            ],
            [
             0.2,
             "#de77ae"
            ],
            [
             0.3,
             "#f1b6da"
            ],
            [
             0.4,
             "#fde0ef"
            ],
            [
             0.5,
             "#f7f7f7"
            ],
            [
             0.6,
             "#e6f5d0"
            ],
            [
             0.7,
             "#b8e186"
            ],
            [
             0.8,
             "#7fbc41"
            ],
            [
             0.9,
             "#4d9221"
            ],
            [
             1,
             "#276419"
            ]
           ],
           "sequential": [
            [
             0,
             "#0d0887"
            ],
            [
             0.1111111111111111,
             "#46039f"
            ],
            [
             0.2222222222222222,
             "#7201a8"
            ],
            [
             0.3333333333333333,
             "#9c179e"
            ],
            [
             0.4444444444444444,
             "#bd3786"
            ],
            [
             0.5555555555555556,
             "#d8576b"
            ],
            [
             0.6666666666666666,
             "#ed7953"
            ],
            [
             0.7777777777777778,
             "#fb9f3a"
            ],
            [
             0.8888888888888888,
             "#fdca26"
            ],
            [
             1,
             "#f0f921"
            ]
           ],
           "sequentialminus": [
            [
             0,
             "#0d0887"
            ],
            [
             0.1111111111111111,
             "#46039f"
            ],
            [
             0.2222222222222222,
             "#7201a8"
            ],
            [
             0.3333333333333333,
             "#9c179e"
            ],
            [
             0.4444444444444444,
             "#bd3786"
            ],
            [
             0.5555555555555556,
             "#d8576b"
            ],
            [
             0.6666666666666666,
             "#ed7953"
            ],
            [
             0.7777777777777778,
             "#fb9f3a"
            ],
            [
             0.8888888888888888,
             "#fdca26"
            ],
            [
             1,
             "#f0f921"
            ]
           ]
          },
          "colorway": [
           "#636efa",
           "#EF553B",
           "#00cc96",
           "#ab63fa",
           "#FFA15A",
           "#19d3f3",
           "#FF6692",
           "#B6E880",
           "#FF97FF",
           "#FECB52"
          ],
          "font": {
           "color": "#2a3f5f"
          },
          "geo": {
           "bgcolor": "white",
           "lakecolor": "white",
           "landcolor": "#E5ECF6",
           "showlakes": true,
           "showland": true,
           "subunitcolor": "white"
          },
          "hoverlabel": {
           "align": "left"
          },
          "hovermode": "closest",
          "mapbox": {
           "style": "light"
          },
          "paper_bgcolor": "white",
          "plot_bgcolor": "#E5ECF6",
          "polar": {
           "angularaxis": {
            "gridcolor": "white",
            "linecolor": "white",
            "ticks": ""
           },
           "bgcolor": "#E5ECF6",
           "radialaxis": {
            "gridcolor": "white",
            "linecolor": "white",
            "ticks": ""
           }
          },
          "scene": {
           "xaxis": {
            "backgroundcolor": "#E5ECF6",
            "gridcolor": "white",
            "gridwidth": 2,
            "linecolor": "white",
            "showbackground": true,
            "ticks": "",
            "zerolinecolor": "white"
           },
           "yaxis": {
            "backgroundcolor": "#E5ECF6",
            "gridcolor": "white",
            "gridwidth": 2,
            "linecolor": "white",
            "showbackground": true,
            "ticks": "",
            "zerolinecolor": "white"
           },
           "zaxis": {
            "backgroundcolor": "#E5ECF6",
            "gridcolor": "white",
            "gridwidth": 2,
            "linecolor": "white",
            "showbackground": true,
            "ticks": "",
            "zerolinecolor": "white"
           }
          },
          "shapedefaults": {
           "line": {
            "color": "#2a3f5f"
           }
          },
          "ternary": {
           "aaxis": {
            "gridcolor": "white",
            "linecolor": "white",
            "ticks": ""
           },
           "baxis": {
            "gridcolor": "white",
            "linecolor": "white",
            "ticks": ""
           },
           "bgcolor": "#E5ECF6",
           "caxis": {
            "gridcolor": "white",
            "linecolor": "white",
            "ticks": ""
           }
          },
          "title": {
           "x": 0.05
          },
          "xaxis": {
           "automargin": true,
           "gridcolor": "white",
           "linecolor": "white",
           "ticks": "",
           "title": {
            "standoff": 15
           },
           "zerolinecolor": "white",
           "zerolinewidth": 2
          },
          "yaxis": {
           "automargin": true,
           "gridcolor": "white",
           "linecolor": "white",
           "ticks": "",
           "title": {
            "standoff": 15
           },
           "zerolinecolor": "white",
           "zerolinewidth": 2
          }
         }
        },
        "title": {
         "text": "Feature Importance (Logistic Regression Coefficients)"
        },
        "xaxis": {
         "anchor": "y",
         "domain": [
          0,
          1
         ],
         "title": {
          "text": "Coefficient Value"
         }
        },
        "yaxis": {
         "anchor": "x",
         "categoryorder": "total ascending",
         "domain": [
          0,
          1
         ],
         "title": {
          "text": "Feature"
         }
        }
       }
      }
     },
     "metadata": {},
     "output_type": "display_data"
    },
    {
     "data": {
      "application/vnd.plotly.v1+json": {
       "config": {
        "plotlyServerURL": "https://plot.ly"
       },
       "data": [
        {
         "line": {
          "color": "dodgerblue",
          "width": 2
         },
         "mode": "lines",
         "name": "Strategy",
         "type": "scatter",
         "x": [
          "2021-11-09T00:00:00",
          "2021-11-10T00:00:00",
          "2021-11-11T00:00:00",
          "2021-11-12T00:00:00",
          "2021-11-15T00:00:00",
          "2021-11-16T00:00:00",
          "2021-11-17T00:00:00",
          "2021-11-18T00:00:00",
          "2021-11-19T00:00:00",
          "2021-11-22T00:00:00",
          "2021-11-23T00:00:00",
          "2021-11-24T00:00:00",
          "2021-11-26T00:00:00",
          "2021-11-29T00:00:00",
          "2021-11-30T00:00:00",
          "2021-12-01T00:00:00",
          "2021-12-02T00:00:00",
          "2021-12-03T00:00:00",
          "2021-12-06T00:00:00",
          "2021-12-07T00:00:00",
          "2021-12-08T00:00:00",
          "2021-12-09T00:00:00",
          "2021-12-10T00:00:00",
          "2021-12-13T00:00:00",
          "2021-12-14T00:00:00",
          "2021-12-15T00:00:00",
          "2021-12-16T00:00:00",
          "2021-12-17T00:00:00",
          "2021-12-20T00:00:00",
          "2021-12-21T00:00:00",
          "2021-12-22T00:00:00",
          "2021-12-23T00:00:00",
          "2021-12-27T00:00:00",
          "2021-12-28T00:00:00",
          "2021-12-29T00:00:00",
          "2021-12-30T00:00:00",
          "2021-12-31T00:00:00",
          "2022-01-03T00:00:00",
          "2022-01-04T00:00:00",
          "2022-01-05T00:00:00",
          "2022-01-06T00:00:00",
          "2022-01-07T00:00:00",
          "2022-01-10T00:00:00",
          "2022-01-11T00:00:00",
          "2022-01-12T00:00:00",
          "2022-01-13T00:00:00",
          "2022-01-14T00:00:00",
          "2022-01-18T00:00:00",
          "2022-01-19T00:00:00",
          "2022-01-20T00:00:00",
          "2022-01-21T00:00:00",
          "2022-01-24T00:00:00",
          "2022-01-25T00:00:00",
          "2022-01-26T00:00:00",
          "2022-01-27T00:00:00",
          "2022-01-28T00:00:00",
          "2022-01-31T00:00:00",
          "2022-02-01T00:00:00",
          "2022-02-02T00:00:00",
          "2022-02-03T00:00:00",
          "2022-02-04T00:00:00",
          "2022-02-07T00:00:00",
          "2022-02-08T00:00:00",
          "2022-02-09T00:00:00",
          "2022-02-10T00:00:00",
          "2022-02-11T00:00:00",
          "2022-02-14T00:00:00",
          "2022-02-15T00:00:00",
          "2022-02-16T00:00:00",
          "2022-02-17T00:00:00",
          "2022-02-18T00:00:00",
          "2022-02-22T00:00:00",
          "2022-02-23T00:00:00",
          "2022-02-24T00:00:00",
          "2022-02-25T00:00:00",
          "2022-02-28T00:00:00",
          "2022-03-01T00:00:00",
          "2022-03-02T00:00:00",
          "2022-03-03T00:00:00",
          "2022-03-04T00:00:00",
          "2022-03-07T00:00:00",
          "2022-03-08T00:00:00",
          "2022-03-09T00:00:00",
          "2022-03-10T00:00:00",
          "2022-03-11T00:00:00",
          "2022-03-14T00:00:00",
          "2022-03-15T00:00:00",
          "2022-03-16T00:00:00",
          "2022-03-17T00:00:00",
          "2022-03-18T00:00:00",
          "2022-03-21T00:00:00",
          "2022-03-22T00:00:00",
          "2022-03-23T00:00:00",
          "2022-03-24T00:00:00",
          "2022-03-25T00:00:00",
          "2022-03-28T00:00:00",
          "2022-03-29T00:00:00",
          "2022-03-30T00:00:00",
          "2022-03-31T00:00:00",
          "2022-04-01T00:00:00",
          "2022-04-04T00:00:00",
          "2022-04-05T00:00:00",
          "2022-04-06T00:00:00",
          "2022-04-07T00:00:00",
          "2022-04-08T00:00:00",
          "2022-04-11T00:00:00",
          "2022-04-12T00:00:00",
          "2022-04-13T00:00:00",
          "2022-04-14T00:00:00",
          "2022-04-18T00:00:00",
          "2022-04-19T00:00:00",
          "2022-04-20T00:00:00",
          "2022-04-21T00:00:00",
          "2022-04-22T00:00:00",
          "2022-04-25T00:00:00",
          "2022-04-26T00:00:00",
          "2022-04-27T00:00:00",
          "2022-04-28T00:00:00",
          "2022-04-29T00:00:00",
          "2022-05-02T00:00:00",
          "2022-05-03T00:00:00",
          "2022-05-04T00:00:00",
          "2022-05-05T00:00:00",
          "2022-05-06T00:00:00",
          "2022-05-09T00:00:00",
          "2022-05-10T00:00:00",
          "2022-05-11T00:00:00",
          "2022-05-12T00:00:00",
          "2022-05-13T00:00:00",
          "2022-05-16T00:00:00",
          "2022-05-17T00:00:00",
          "2022-05-18T00:00:00",
          "2022-05-19T00:00:00",
          "2022-05-20T00:00:00",
          "2022-05-23T00:00:00",
          "2022-05-24T00:00:00",
          "2022-05-25T00:00:00",
          "2022-05-26T00:00:00",
          "2022-05-27T00:00:00",
          "2022-05-31T00:00:00",
          "2022-06-01T00:00:00",
          "2022-06-02T00:00:00",
          "2022-06-03T00:00:00",
          "2022-06-06T00:00:00",
          "2022-06-07T00:00:00",
          "2022-06-08T00:00:00",
          "2022-06-09T00:00:00",
          "2022-06-10T00:00:00",
          "2022-06-13T00:00:00",
          "2022-06-14T00:00:00",
          "2022-06-15T00:00:00",
          "2022-06-16T00:00:00",
          "2022-06-17T00:00:00",
          "2022-06-21T00:00:00",
          "2022-06-22T00:00:00",
          "2022-06-23T00:00:00",
          "2022-06-24T00:00:00",
          "2022-06-27T00:00:00",
          "2022-06-28T00:00:00",
          "2022-06-29T00:00:00",
          "2022-06-30T00:00:00",
          "2022-07-01T00:00:00",
          "2022-07-05T00:00:00",
          "2022-07-06T00:00:00",
          "2022-07-07T00:00:00",
          "2022-07-08T00:00:00",
          "2022-07-11T00:00:00",
          "2022-07-12T00:00:00",
          "2022-07-13T00:00:00",
          "2022-07-14T00:00:00",
          "2022-07-15T00:00:00",
          "2022-07-18T00:00:00",
          "2022-07-19T00:00:00",
          "2022-07-20T00:00:00",
          "2022-07-21T00:00:00",
          "2022-07-22T00:00:00",
          "2022-07-25T00:00:00",
          "2022-07-26T00:00:00",
          "2022-07-27T00:00:00",
          "2022-07-28T00:00:00",
          "2022-07-29T00:00:00",
          "2022-08-01T00:00:00",
          "2022-08-02T00:00:00",
          "2022-08-03T00:00:00",
          "2022-08-04T00:00:00",
          "2022-08-05T00:00:00",
          "2022-08-08T00:00:00",
          "2022-08-09T00:00:00",
          "2022-08-10T00:00:00",
          "2022-08-11T00:00:00",
          "2022-08-12T00:00:00",
          "2022-08-15T00:00:00",
          "2022-08-16T00:00:00",
          "2022-08-17T00:00:00",
          "2022-08-18T00:00:00",
          "2022-08-19T00:00:00",
          "2022-08-22T00:00:00",
          "2022-08-23T00:00:00",
          "2022-08-24T00:00:00",
          "2022-08-25T00:00:00",
          "2022-08-26T00:00:00",
          "2022-08-29T00:00:00",
          "2022-08-30T00:00:00",
          "2022-08-31T00:00:00",
          "2022-09-01T00:00:00",
          "2022-09-02T00:00:00",
          "2022-09-06T00:00:00",
          "2022-09-07T00:00:00",
          "2022-09-08T00:00:00",
          "2022-09-09T00:00:00",
          "2022-09-12T00:00:00",
          "2022-09-13T00:00:00",
          "2022-09-14T00:00:00",
          "2022-09-15T00:00:00",
          "2022-09-16T00:00:00",
          "2022-09-19T00:00:00",
          "2022-09-20T00:00:00",
          "2022-09-21T00:00:00",
          "2022-09-22T00:00:00",
          "2022-09-23T00:00:00",
          "2022-09-26T00:00:00",
          "2022-09-27T00:00:00",
          "2022-09-28T00:00:00",
          "2022-09-29T00:00:00",
          "2022-09-30T00:00:00",
          "2022-10-03T00:00:00",
          "2022-10-04T00:00:00",
          "2022-10-05T00:00:00",
          "2022-10-06T00:00:00",
          "2022-10-07T00:00:00",
          "2022-10-10T00:00:00",
          "2022-10-11T00:00:00",
          "2022-10-12T00:00:00",
          "2022-10-13T00:00:00",
          "2022-10-14T00:00:00",
          "2022-10-17T00:00:00",
          "2022-10-18T00:00:00",
          "2022-10-19T00:00:00",
          "2022-10-20T00:00:00",
          "2022-10-21T00:00:00",
          "2022-10-24T00:00:00",
          "2022-10-25T00:00:00",
          "2022-10-26T00:00:00",
          "2022-10-27T00:00:00",
          "2022-10-28T00:00:00",
          "2022-10-31T00:00:00",
          "2022-11-01T00:00:00",
          "2022-11-02T00:00:00",
          "2022-11-03T00:00:00",
          "2022-11-04T00:00:00",
          "2022-11-07T00:00:00",
          "2022-11-08T00:00:00",
          "2022-11-09T00:00:00",
          "2022-11-10T00:00:00",
          "2022-11-11T00:00:00",
          "2022-11-14T00:00:00",
          "2022-11-15T00:00:00",
          "2022-11-16T00:00:00",
          "2022-11-17T00:00:00",
          "2022-11-18T00:00:00",
          "2022-11-21T00:00:00",
          "2022-11-22T00:00:00",
          "2022-11-23T00:00:00",
          "2022-11-25T00:00:00",
          "2022-11-28T00:00:00",
          "2022-11-29T00:00:00",
          "2022-11-30T00:00:00",
          "2022-12-01T00:00:00",
          "2022-12-02T00:00:00",
          "2022-12-05T00:00:00",
          "2022-12-06T00:00:00",
          "2022-12-07T00:00:00",
          "2022-12-08T00:00:00",
          "2022-12-09T00:00:00",
          "2022-12-12T00:00:00",
          "2022-12-13T00:00:00",
          "2022-12-14T00:00:00",
          "2022-12-15T00:00:00",
          "2022-12-16T00:00:00",
          "2022-12-19T00:00:00",
          "2022-12-20T00:00:00",
          "2022-12-21T00:00:00",
          "2022-12-22T00:00:00",
          "2022-12-23T00:00:00",
          "2022-12-27T00:00:00",
          "2022-12-28T00:00:00",
          "2022-12-29T00:00:00",
          "2022-12-30T00:00:00",
          "2023-01-03T00:00:00",
          "2023-01-04T00:00:00",
          "2023-01-05T00:00:00",
          "2023-01-06T00:00:00",
          "2023-01-09T00:00:00",
          "2023-01-10T00:00:00",
          "2023-01-11T00:00:00",
          "2023-01-12T00:00:00",
          "2023-01-13T00:00:00",
          "2023-01-17T00:00:00",
          "2023-01-18T00:00:00",
          "2023-01-19T00:00:00",
          "2023-01-20T00:00:00",
          "2023-01-23T00:00:00",
          "2023-01-24T00:00:00",
          "2023-01-25T00:00:00",
          "2023-01-26T00:00:00",
          "2023-01-27T00:00:00",
          "2023-01-30T00:00:00",
          "2023-01-31T00:00:00",
          "2023-02-01T00:00:00",
          "2023-02-02T00:00:00",
          "2023-02-03T00:00:00",
          "2023-02-06T00:00:00",
          "2023-02-07T00:00:00",
          "2023-02-08T00:00:00",
          "2023-02-09T00:00:00",
          "2023-02-10T00:00:00",
          "2023-02-13T00:00:00",
          "2023-02-14T00:00:00",
          "2023-02-15T00:00:00",
          "2023-02-16T00:00:00",
          "2023-02-17T00:00:00",
          "2023-02-21T00:00:00",
          "2023-02-22T00:00:00",
          "2023-02-23T00:00:00",
          "2023-02-24T00:00:00",
          "2023-02-27T00:00:00",
          "2023-02-28T00:00:00",
          "2023-03-01T00:00:00",
          "2023-03-02T00:00:00",
          "2023-03-03T00:00:00",
          "2023-03-06T00:00:00",
          "2023-03-07T00:00:00",
          "2023-03-08T00:00:00",
          "2023-03-09T00:00:00",
          "2023-03-10T00:00:00",
          "2023-03-13T00:00:00",
          "2023-03-14T00:00:00",
          "2023-03-15T00:00:00",
          "2023-03-16T00:00:00",
          "2023-03-17T00:00:00",
          "2023-03-20T00:00:00",
          "2023-03-21T00:00:00",
          "2023-03-22T00:00:00",
          "2023-03-23T00:00:00",
          "2023-03-24T00:00:00",
          "2023-03-27T00:00:00",
          "2023-03-28T00:00:00",
          "2023-03-29T00:00:00",
          "2023-03-30T00:00:00",
          "2023-03-31T00:00:00",
          "2023-04-03T00:00:00",
          "2023-04-04T00:00:00",
          "2023-04-05T00:00:00",
          "2023-04-06T00:00:00",
          "2023-04-10T00:00:00",
          "2023-04-11T00:00:00",
          "2023-04-12T00:00:00",
          "2023-04-13T00:00:00",
          "2023-04-14T00:00:00",
          "2023-04-17T00:00:00",
          "2023-04-18T00:00:00",
          "2023-04-19T00:00:00",
          "2023-04-20T00:00:00",
          "2023-04-21T00:00:00",
          "2023-04-24T00:00:00",
          "2023-04-25T00:00:00",
          "2023-04-26T00:00:00",
          "2023-04-27T00:00:00",
          "2023-04-28T00:00:00",
          "2023-05-01T00:00:00",
          "2023-05-02T00:00:00",
          "2023-05-03T00:00:00",
          "2023-05-04T00:00:00",
          "2023-05-05T00:00:00",
          "2023-05-08T00:00:00",
          "2023-05-09T00:00:00",
          "2023-05-10T00:00:00",
          "2023-05-11T00:00:00",
          "2023-05-12T00:00:00",
          "2023-05-15T00:00:00",
          "2023-05-16T00:00:00",
          "2023-05-17T00:00:00",
          "2023-05-18T00:00:00",
          "2023-05-19T00:00:00",
          "2023-05-22T00:00:00",
          "2023-05-23T00:00:00",
          "2023-05-24T00:00:00",
          "2023-05-25T00:00:00",
          "2023-05-26T00:00:00",
          "2023-05-30T00:00:00",
          "2023-05-31T00:00:00",
          "2023-06-01T00:00:00",
          "2023-06-02T00:00:00",
          "2023-06-05T00:00:00",
          "2023-06-06T00:00:00",
          "2023-06-07T00:00:00",
          "2023-06-08T00:00:00",
          "2023-06-09T00:00:00",
          "2023-06-12T00:00:00",
          "2023-06-13T00:00:00",
          "2023-06-14T00:00:00",
          "2023-06-15T00:00:00",
          "2023-06-16T00:00:00",
          "2023-06-20T00:00:00",
          "2023-06-21T00:00:00",
          "2023-06-22T00:00:00",
          "2023-06-23T00:00:00",
          "2023-06-26T00:00:00",
          "2023-06-27T00:00:00",
          "2023-06-28T00:00:00",
          "2023-06-29T00:00:00",
          "2023-06-30T00:00:00",
          "2023-07-03T00:00:00",
          "2023-07-05T00:00:00",
          "2023-07-06T00:00:00",
          "2023-07-07T00:00:00",
          "2023-07-10T00:00:00",
          "2023-07-11T00:00:00",
          "2023-07-12T00:00:00",
          "2023-07-13T00:00:00",
          "2023-07-14T00:00:00",
          "2023-07-17T00:00:00",
          "2023-07-18T00:00:00",
          "2023-07-19T00:00:00",
          "2023-07-20T00:00:00",
          "2023-07-21T00:00:00",
          "2023-07-24T00:00:00",
          "2023-07-25T00:00:00",
          "2023-07-26T00:00:00",
          "2023-07-27T00:00:00",
          "2023-07-28T00:00:00",
          "2023-07-31T00:00:00",
          "2023-08-01T00:00:00",
          "2023-08-02T00:00:00",
          "2023-08-03T00:00:00",
          "2023-08-04T00:00:00",
          "2023-08-07T00:00:00",
          "2023-08-08T00:00:00",
          "2023-08-09T00:00:00",
          "2023-08-10T00:00:00",
          "2023-08-11T00:00:00",
          "2023-08-14T00:00:00",
          "2023-08-15T00:00:00",
          "2023-08-16T00:00:00",
          "2023-08-17T00:00:00",
          "2023-08-18T00:00:00",
          "2023-08-21T00:00:00",
          "2023-08-22T00:00:00",
          "2023-08-23T00:00:00",
          "2023-08-24T00:00:00",
          "2023-08-25T00:00:00",
          "2023-08-28T00:00:00",
          "2023-08-29T00:00:00",
          "2023-08-30T00:00:00",
          "2023-08-31T00:00:00",
          "2023-09-01T00:00:00",
          "2023-09-05T00:00:00",
          "2023-09-06T00:00:00",
          "2023-09-07T00:00:00",
          "2023-09-08T00:00:00",
          "2023-09-11T00:00:00",
          "2023-09-12T00:00:00",
          "2023-09-13T00:00:00",
          "2023-09-14T00:00:00",
          "2023-09-15T00:00:00",
          "2023-09-18T00:00:00",
          "2023-09-19T00:00:00",
          "2023-09-20T00:00:00",
          "2023-09-21T00:00:00",
          "2023-09-22T00:00:00",
          "2023-09-25T00:00:00",
          "2023-09-26T00:00:00",
          "2023-09-27T00:00:00",
          "2023-09-28T00:00:00",
          "2023-09-29T00:00:00",
          "2023-10-02T00:00:00",
          "2023-10-03T00:00:00",
          "2023-10-04T00:00:00",
          "2023-10-05T00:00:00",
          "2023-10-06T00:00:00",
          "2023-10-09T00:00:00",
          "2023-10-10T00:00:00",
          "2023-10-11T00:00:00",
          "2023-10-12T00:00:00",
          "2023-10-13T00:00:00",
          "2023-10-16T00:00:00",
          "2023-10-17T00:00:00",
          "2023-10-18T00:00:00",
          "2023-10-19T00:00:00",
          "2023-10-20T00:00:00",
          "2023-10-23T00:00:00",
          "2023-10-24T00:00:00",
          "2023-10-25T00:00:00",
          "2023-10-26T00:00:00",
          "2023-10-27T00:00:00",
          "2023-10-30T00:00:00",
          "2023-10-31T00:00:00",
          "2023-11-01T00:00:00",
          "2023-11-02T00:00:00",
          "2023-11-03T00:00:00",
          "2023-11-06T00:00:00",
          "2023-11-07T00:00:00",
          "2023-11-08T00:00:00",
          "2023-11-09T00:00:00",
          "2023-11-10T00:00:00",
          "2023-11-13T00:00:00",
          "2023-11-14T00:00:00",
          "2023-11-15T00:00:00",
          "2023-11-16T00:00:00",
          "2023-11-17T00:00:00",
          "2023-11-20T00:00:00",
          "2023-11-21T00:00:00",
          "2023-11-22T00:00:00",
          "2023-11-24T00:00:00",
          "2023-11-27T00:00:00",
          "2023-11-28T00:00:00",
          "2023-11-29T00:00:00",
          "2023-11-30T00:00:00",
          "2023-12-01T00:00:00",
          "2023-12-04T00:00:00",
          "2023-12-05T00:00:00",
          "2023-12-06T00:00:00",
          "2023-12-07T00:00:00",
          "2023-12-08T00:00:00",
          "2023-12-11T00:00:00",
          "2023-12-12T00:00:00",
          "2023-12-13T00:00:00",
          "2023-12-14T00:00:00",
          "2023-12-15T00:00:00",
          "2023-12-18T00:00:00",
          "2023-12-19T00:00:00",
          "2023-12-20T00:00:00",
          "2023-12-21T00:00:00",
          "2023-12-22T00:00:00",
          "2023-12-26T00:00:00",
          "2023-12-27T00:00:00",
          "2023-12-28T00:00:00",
          "2023-12-29T00:00:00",
          "2024-01-02T00:00:00",
          "2024-01-03T00:00:00",
          "2024-01-04T00:00:00",
          "2024-01-05T00:00:00",
          "2024-01-08T00:00:00",
          "2024-01-09T00:00:00",
          "2024-01-10T00:00:00",
          "2024-01-11T00:00:00",
          "2024-01-12T00:00:00",
          "2024-01-16T00:00:00",
          "2024-01-17T00:00:00",
          "2024-01-18T00:00:00",
          "2024-01-19T00:00:00",
          "2024-01-22T00:00:00",
          "2024-01-23T00:00:00",
          "2024-01-24T00:00:00",
          "2024-01-25T00:00:00",
          "2024-01-26T00:00:00",
          "2024-01-29T00:00:00",
          "2024-01-30T00:00:00",
          "2024-01-31T00:00:00",
          "2024-02-01T00:00:00",
          "2024-02-02T00:00:00",
          "2024-02-05T00:00:00",
          "2024-02-06T00:00:00",
          "2024-02-07T00:00:00",
          "2024-02-08T00:00:00",
          "2024-02-09T00:00:00",
          "2024-02-12T00:00:00",
          "2024-02-13T00:00:00",
          "2024-02-14T00:00:00",
          "2024-02-15T00:00:00",
          "2024-02-16T00:00:00",
          "2024-02-20T00:00:00",
          "2024-02-21T00:00:00",
          "2024-02-22T00:00:00",
          "2024-02-23T00:00:00",
          "2024-02-26T00:00:00",
          "2024-02-27T00:00:00",
          "2024-02-28T00:00:00",
          "2024-02-29T00:00:00",
          "2024-03-01T00:00:00",
          "2024-03-04T00:00:00",
          "2024-03-05T00:00:00",
          "2024-03-06T00:00:00",
          "2024-03-07T00:00:00",
          "2024-03-08T00:00:00",
          "2024-03-11T00:00:00",
          "2024-03-12T00:00:00",
          "2024-03-13T00:00:00",
          "2024-03-14T00:00:00",
          "2024-03-15T00:00:00",
          "2024-03-18T00:00:00",
          "2024-03-19T00:00:00",
          "2024-03-20T00:00:00",
          "2024-03-21T00:00:00",
          "2024-03-22T00:00:00",
          "2024-03-25T00:00:00",
          "2024-03-26T00:00:00",
          "2024-03-27T00:00:00",
          "2024-03-28T00:00:00",
          "2024-04-01T00:00:00",
          "2024-04-02T00:00:00",
          "2024-04-03T00:00:00",
          "2024-04-04T00:00:00",
          "2024-04-05T00:00:00",
          "2024-04-08T00:00:00",
          "2024-04-09T00:00:00",
          "2024-04-10T00:00:00",
          "2024-04-11T00:00:00",
          "2024-04-12T00:00:00",
          "2024-04-15T00:00:00",
          "2024-04-16T00:00:00",
          "2024-04-17T00:00:00",
          "2024-04-18T00:00:00",
          "2024-04-19T00:00:00",
          "2024-04-22T00:00:00",
          "2024-04-23T00:00:00",
          "2024-04-24T00:00:00",
          "2024-04-25T00:00:00",
          "2024-04-26T00:00:00",
          "2024-04-29T00:00:00",
          "2024-04-30T00:00:00",
          "2024-05-01T00:00:00",
          "2024-05-02T00:00:00",
          "2024-05-03T00:00:00",
          "2024-05-06T00:00:00",
          "2024-05-07T00:00:00",
          "2024-05-08T00:00:00",
          "2024-05-09T00:00:00",
          "2024-05-10T00:00:00",
          "2024-05-13T00:00:00",
          "2024-05-14T00:00:00",
          "2024-05-15T00:00:00",
          "2024-05-16T00:00:00",
          "2024-05-17T00:00:00",
          "2024-05-20T00:00:00",
          "2024-05-21T00:00:00",
          "2024-05-22T00:00:00",
          "2024-05-23T00:00:00",
          "2024-05-24T00:00:00",
          "2024-05-28T00:00:00",
          "2024-05-29T00:00:00",
          "2024-05-30T00:00:00",
          "2024-05-31T00:00:00",
          "2024-06-03T00:00:00",
          "2024-06-04T00:00:00",
          "2024-06-05T00:00:00",
          "2024-06-06T00:00:00",
          "2024-06-07T00:00:00",
          "2024-06-10T00:00:00",
          "2024-06-11T00:00:00",
          "2024-06-12T00:00:00",
          "2024-06-13T00:00:00",
          "2024-06-14T00:00:00",
          "2024-06-17T00:00:00",
          "2024-06-18T00:00:00",
          "2024-06-20T00:00:00",
          "2024-06-21T00:00:00",
          "2024-06-24T00:00:00",
          "2024-06-25T00:00:00",
          "2024-06-26T00:00:00",
          "2024-06-27T00:00:00",
          "2024-06-28T00:00:00",
          "2024-07-01T00:00:00",
          "2024-07-02T00:00:00",
          "2024-07-03T00:00:00",
          "2024-07-05T00:00:00",
          "2024-07-08T00:00:00",
          "2024-07-09T00:00:00",
          "2024-07-10T00:00:00",
          "2024-07-11T00:00:00",
          "2024-07-12T00:00:00",
          "2024-07-15T00:00:00",
          "2024-07-16T00:00:00",
          "2024-07-17T00:00:00",
          "2024-07-18T00:00:00",
          "2024-07-19T00:00:00",
          "2024-07-22T00:00:00",
          "2024-07-23T00:00:00",
          "2024-07-24T00:00:00",
          "2024-07-25T00:00:00",
          "2024-07-26T00:00:00",
          "2024-07-29T00:00:00",
          "2024-07-30T00:00:00",
          "2024-07-31T00:00:00",
          "2024-08-01T00:00:00",
          "2024-08-02T00:00:00",
          "2024-08-05T00:00:00",
          "2024-08-06T00:00:00",
          "2024-08-07T00:00:00",
          "2024-08-08T00:00:00",
          "2024-08-09T00:00:00",
          "2024-08-12T00:00:00",
          "2024-08-13T00:00:00",
          "2024-08-14T00:00:00",
          "2024-08-15T00:00:00",
          "2024-08-16T00:00:00",
          "2024-08-19T00:00:00",
          "2024-08-20T00:00:00",
          "2024-08-21T00:00:00",
          "2024-08-22T00:00:00",
          "2024-08-23T00:00:00",
          "2024-08-26T00:00:00",
          "2024-08-27T00:00:00",
          "2024-08-28T00:00:00",
          "2024-08-29T00:00:00",
          "2024-08-30T00:00:00",
          "2024-09-03T00:00:00",
          "2024-09-04T00:00:00",
          "2024-09-05T00:00:00",
          "2024-09-06T00:00:00",
          "2024-09-09T00:00:00",
          "2024-09-10T00:00:00",
          "2024-09-11T00:00:00",
          "2024-09-12T00:00:00",
          "2024-09-13T00:00:00",
          "2024-09-16T00:00:00",
          "2024-09-17T00:00:00",
          "2024-09-18T00:00:00",
          "2024-09-19T00:00:00",
          "2024-09-20T00:00:00",
          "2024-09-23T00:00:00",
          "2024-09-24T00:00:00",
          "2024-09-25T00:00:00",
          "2024-09-26T00:00:00",
          "2024-09-27T00:00:00",
          "2024-09-30T00:00:00",
          "2024-10-01T00:00:00",
          "2024-10-02T00:00:00",
          "2024-10-03T00:00:00",
          "2024-10-04T00:00:00",
          "2024-10-07T00:00:00",
          "2024-10-08T00:00:00",
          "2024-10-09T00:00:00",
          "2024-10-10T00:00:00",
          "2024-10-11T00:00:00",
          "2024-10-14T00:00:00",
          "2024-10-15T00:00:00",
          "2024-10-16T00:00:00",
          "2024-10-17T00:00:00",
          "2024-10-18T00:00:00",
          "2024-10-21T00:00:00",
          "2024-10-22T00:00:00",
          "2024-10-23T00:00:00",
          "2024-10-24T00:00:00",
          "2024-10-25T00:00:00",
          "2024-10-28T00:00:00",
          "2024-10-29T00:00:00",
          "2024-10-30T00:00:00",
          "2024-10-31T00:00:00",
          "2024-11-01T00:00:00",
          "2024-11-04T00:00:00",
          "2024-11-05T00:00:00",
          "2024-11-06T00:00:00",
          "2024-11-07T00:00:00",
          "2024-11-08T00:00:00",
          "2024-11-11T00:00:00",
          "2024-11-12T00:00:00",
          "2024-11-13T00:00:00",
          "2024-11-14T00:00:00",
          "2024-11-15T00:00:00",
          "2024-11-18T00:00:00",
          "2024-11-19T00:00:00",
          "2024-11-20T00:00:00",
          "2024-11-21T00:00:00",
          "2024-11-22T00:00:00",
          "2024-11-25T00:00:00",
          "2024-11-26T00:00:00",
          "2024-11-27T00:00:00",
          "2024-11-29T00:00:00",
          "2024-12-02T00:00:00",
          "2024-12-03T00:00:00",
          "2024-12-04T00:00:00",
          "2024-12-05T00:00:00",
          "2024-12-06T00:00:00",
          "2024-12-09T00:00:00",
          "2024-12-10T00:00:00",
          "2024-12-11T00:00:00",
          "2024-12-12T00:00:00",
          "2024-12-13T00:00:00",
          "2024-12-16T00:00:00",
          "2024-12-17T00:00:00",
          "2024-12-18T00:00:00",
          "2024-12-19T00:00:00",
          "2024-12-20T00:00:00",
          "2024-12-23T00:00:00",
          "2024-12-24T00:00:00",
          "2024-12-26T00:00:00",
          "2024-12-27T00:00:00",
          "2024-12-30T00:00:00",
          "2024-12-31T00:00:00",
          "2025-01-02T00:00:00",
          "2025-01-03T00:00:00",
          "2025-01-06T00:00:00",
          "2025-01-07T00:00:00",
          "2025-01-08T00:00:00",
          "2025-01-10T00:00:00",
          "2025-01-13T00:00:00",
          "2025-01-14T00:00:00",
          "2025-01-15T00:00:00",
          "2025-01-16T00:00:00",
          "2025-01-17T00:00:00",
          "2025-01-21T00:00:00",
          "2025-01-22T00:00:00",
          "2025-01-23T00:00:00",
          "2025-01-24T00:00:00",
          "2025-01-27T00:00:00",
          "2025-01-28T00:00:00",
          "2025-01-29T00:00:00",
          "2025-01-30T00:00:00",
          "2025-01-31T00:00:00",
          "2025-02-03T00:00:00",
          "2025-02-04T00:00:00",
          "2025-02-05T00:00:00",
          "2025-02-06T00:00:00",
          "2025-02-07T00:00:00",
          "2025-02-10T00:00:00",
          "2025-02-11T00:00:00",
          "2025-02-12T00:00:00",
          "2025-02-13T00:00:00",
          "2025-02-14T00:00:00",
          "2025-02-18T00:00:00",
          "2025-02-19T00:00:00",
          "2025-02-20T00:00:00",
          "2025-02-21T00:00:00",
          "2025-02-24T00:00:00",
          "2025-02-25T00:00:00",
          "2025-02-26T00:00:00",
          "2025-02-27T00:00:00",
          "2025-02-28T00:00:00",
          "2025-03-03T00:00:00",
          "2025-03-04T00:00:00",
          "2025-03-05T00:00:00",
          "2025-03-06T00:00:00",
          "2025-03-07T00:00:00",
          "2025-03-10T00:00:00",
          "2025-03-11T00:00:00",
          "2025-03-12T00:00:00",
          "2025-03-13T00:00:00",
          "2025-03-14T00:00:00",
          "2025-03-17T00:00:00",
          "2025-03-18T00:00:00",
          "2025-03-19T00:00:00",
          "2025-03-20T00:00:00",
          "2025-03-21T00:00:00",
          "2025-03-24T00:00:00",
          "2025-03-25T00:00:00",
          "2025-03-26T00:00:00",
          "2025-03-27T00:00:00",
          "2025-03-28T00:00:00",
          "2025-03-31T00:00:00",
          "2025-04-01T00:00:00",
          "2025-04-02T00:00:00",
          "2025-04-03T00:00:00",
          "2025-04-04T00:00:00",
          "2025-04-07T00:00:00",
          "2025-04-08T00:00:00",
          "2025-04-09T00:00:00",
          "2025-04-10T00:00:00",
          "2025-04-11T00:00:00",
          "2025-04-14T00:00:00",
          "2025-04-15T00:00:00",
          "2025-04-16T00:00:00",
          "2025-04-17T00:00:00",
          "2025-04-21T00:00:00",
          "2025-04-22T00:00:00",
          "2025-04-23T00:00:00",
          "2025-04-24T00:00:00",
          "2025-04-25T00:00:00",
          "2025-04-28T00:00:00",
          "2025-04-29T00:00:00",
          "2025-04-30T00:00:00",
          "2025-05-01T00:00:00",
          "2025-05-02T00:00:00",
          "2025-05-05T00:00:00",
          "2025-05-06T00:00:00",
          "2025-05-07T00:00:00",
          "2025-05-08T00:00:00",
          "2025-05-09T00:00:00",
          "2025-05-12T00:00:00",
          "2025-05-13T00:00:00",
          "2025-05-14T00:00:00",
          "2025-05-15T00:00:00",
          "2025-05-16T00:00:00",
          "2025-05-19T00:00:00",
          "2025-05-20T00:00:00",
          "2025-05-21T00:00:00",
          "2025-05-22T00:00:00",
          "2025-05-23T00:00:00",
          "2025-05-27T00:00:00",
          "2025-05-28T00:00:00",
          "2025-05-29T00:00:00",
          "2025-05-30T00:00:00",
          "2025-06-02T00:00:00",
          "2025-06-03T00:00:00",
          "2025-06-04T00:00:00",
          "2025-06-05T00:00:00",
          "2025-06-06T00:00:00",
          "2025-06-09T00:00:00",
          "2025-06-10T00:00:00",
          "2025-06-11T00:00:00",
          "2025-06-12T00:00:00",
          "2025-06-13T00:00:00",
          "2025-06-16T00:00:00",
          "2025-06-17T00:00:00",
          "2025-06-18T00:00:00",
          "2025-06-20T00:00:00",
          "2025-06-23T00:00:00",
          "2025-06-24T00:00:00",
          "2025-06-25T00:00:00",
          "2025-06-26T00:00:00",
          "2025-06-27T00:00:00",
          "2025-06-30T00:00:00",
          "2025-07-01T00:00:00",
          "2025-07-02T00:00:00",
          "2025-07-03T00:00:00",
          "2025-07-07T00:00:00",
          "2025-07-08T00:00:00",
          "2025-07-09T00:00:00",
          "2025-07-10T00:00:00",
          "2025-07-11T00:00:00",
          "2025-07-14T00:00:00",
          "2025-07-15T00:00:00",
          "2025-07-16T00:00:00",
          "2025-07-17T00:00:00",
          "2025-07-18T00:00:00",
          "2025-07-21T00:00:00",
          "2025-07-22T00:00:00",
          "2025-07-23T00:00:00"
         ],
         "y": [
          null,
          1.008044872152495,
          1.007718635997293,
          1.0001135995479113,
          1.0004560305629437,
          0.9964963016162792,
          0.9989170734652824,
          0.9955242354339591,
          0.9973045471240445,
          1.0001121744634893,
          0.998785883820823,
          0.9961194520513977,
          1.0183360332847902,
          1.0058444647227311,
          1.025415758290259,
          1.0368053000127724,
          1.0209252814033232,
          1.0298087999508085,
          1.017612404055904,
          0.9965632031768688,
          0.9939242478622352,
          1.0006348330719448,
          0.9912153458764391,
          0.9824347084406595,
          0.9891939148928834,
          0.9737376332657952,
          0.9651506853504357,
          0.975422744695624,
          0.9857947616358274,
          0.9682879555963224,
          0.977969575429556,
          0.9840546130838275,
          0.9979809216463071,
          0.9971653886884978,
          0.9984410759554511,
          0.9956807538015761,
          0.9931714371032137,
          0.9989219573318726,
          0.9985874399062603,
          0.9794122866367087,
          0.9803323269434461,
          0.9842079833175911,
          0.9829832214226819,
          0.9740300839470049,
          0.9713966330681035,
          0.9580122107332367,
          0.957620302441694,
          0.9406611276976459,
          0.9504285457296335,
          0.9609478647933987,
          0.9798121828187506,
          0.9756508598696304,
          0.9875626666026146,
          0.9900402461464526,
          0.9949289481928246,
          0.9702195288365862,
          0.9527449883685354,
          0.9463073744367176,
          0.9371147266937478,
          0.9591417218992051,
          0.9546314229383976,
          0.9576951567178725,
          0.9498154343486183,
          0.9637170771335928,
          0.9464033167447591,
          0.9650653027705711,
          0.9682202541137834,
          0.9526059721306012,
          0.9515383931416415,
          0.971864396424751,
          0.9781573367703105,
          0.9886545485879592,
          1.0061920129968502,
          0.9910497110306888,
          0.9691831506823317,
          0.9716628067028862,
          0.9864615180543576,
          0.9683144217614379,
          0.9731350551351551,
          0.981041400693401,
          1.0099616920558703,
          1.0176190712503959,
          0.9903358061619146,
          0.9948077245032915,
          1.0074567161007606,
          1.0148195827894182,
          0.9925032475200292,
          0.9704953177150875,
          0.9826372013522116,
          0.9933997250434853,
          0.9931094312711395,
          1.0047299009833415,
          0.991790817190994,
          1.0067414467268707,
          1.0116578597684152,
          1.0188538150198347,
          1.0314577960306635,
          1.0250887706758005,
          1.0093114256405402,
          1.0064510100230761,
          1.015072724733674,
          1.002251257788237,
          1.012273174157638,
          1.007172336405176,
          1.0098655183936327,
          1.0271264124173014,
          1.0309322952424997,
          1.0191242502018287,
          1.031814074864126,
          1.0313899658373766,
          1.0147405526291235,
          1.0139880626938367,
          1.029150589058486,
          1.057389801054181,
          1.0512595141697925,
          1.081704769141858,
          1.078663247100564,
          1.0514169321849902,
          1.0902726006218193,
          1.0837096990573685,
          1.078742077289177,
          1.045891285488466,
          1.083065108704281,
          1.0895297436787204,
          1.1244136677828944,
          1.121815618520387,
          1.1396371161244248,
          1.1408267231378333,
          1.1135517807719657,
          1.1180701697255566,
          1.0950712572900827,
          1.0509273153029326,
          1.0573636727500284,
          1.0569021304690809,
          1.0371273467689017,
          1.0292101164071548,
          1.0201172086713732,
          1.0405006495060036,
          1.0660438825178844,
          1.060062313126361,
          1.0514879996807742,
          1.071511861674394,
          1.0539268144364595,
          1.057135686162163,
          1.0672760557655394,
          1.055672413727877,
          1.0305657652540083,
          1.0604479983763764,
          1.1007111594721544,
          1.104028093420167,
          1.0882888213755053,
          1.1243066518645362,
          1.1218828679292663,
          1.0936411249972562,
          1.0956238165086758,
          1.084883889226934,
          1.0503912210968827,
          1.0463789532844825,
          1.0677594234565118,
          1.0686289375152618,
          1.0773108751993046,
          1.0659165887477793,
          1.0639035284429497,
          1.0603103189588232,
          1.0761906691881482,
          1.0753053295541346,
          1.0630214843893107,
          1.0724281078838345,
          1.0780600598083554,
          1.080678238767612,
          1.1013250148301872,
          1.0922312259378224,
          1.1217424247619163,
          1.1288913819001156,
          1.1403872779373208,
          1.129806661116974,
          1.131179124670068,
          1.1177962164472117,
          1.0887710662163916,
          1.1024269333858812,
          1.1184986903059309,
          1.115186707480826,
          1.1225439030614128,
          1.1401225348883912,
          1.1393518864918386,
          1.1374262290299368,
          1.1361056680812638,
          1.1315943354638909,
          1.1553622427002812,
          1.1553622427002812,
          1.1749214531695023,
          1.1797631012112215,
          1.1820738200906324,
          1.173683492975313,
          1.1770948253012667,
          1.1612769122079896,
          1.1854576480296213,
          1.18832543002544,
          1.184521440410096,
          1.1677989791471772,
          1.207327878837907,
          1.2153109070595502,
          1.2286524963278755,
          1.2380013820842515,
          1.2341165615460075,
          1.2471297067197733,
          1.2518352479693955,
          1.2293462685052838,
          1.221310776297625,
          1.202337492998327,
          1.1894152135710414,
          1.2411338748172929,
          1.23639786570657,
          1.2504351186797593,
          1.2599745747815874,
          1.2502035760648067,
          1.2645541004608112,
          1.2866127865766606,
          1.2974197864661454,
          1.3191579749891735,
          1.3322079475412194,
          1.335608864702269,
          1.3093288547720312,
          1.3366793317825183,
          1.357349164579623,
          1.3215133557842464,
          1.2805642625069669,
          1.2835455515572356,
          1.2967864447998068,
          1.332958842764364,
          1.3431367124185538,
          1.351642787638836,
          1.3561008232833598,
          1.3203118213668736,
          1.350400359127809,
          1.3156989407399355,
          1.3002400905097147,
          1.309454087247119,
          1.3204343226216322,
          1.3525226746568684,
          1.3690727682472674,
          1.3909350536471752,
          1.3804557417489145,
          1.3730837836040177,
          1.4057504744817966,
          1.3955963707537629,
          1.3894893784267437,
          1.354618651627137,
          1.3406702233985544,
          1.3599668248902932,
          1.3729756100618422,
          1.3803834350697695,
          1.4088224197345967,
          1.33140167965224,
          1.3442877165300777,
          1.332852205208332,
          1.344220003943278,
          1.3544745564051968,
          1.3586189995553608,
          1.364787655679611,
          1.359825147936025,
          1.3781242449773812,
          1.386808469605256,
          1.3864985450960994,
          1.364374131581357,
          1.3667175805144873,
          1.4097699849709122,
          1.4087327269284693,
          1.4071071520028773,
          1.3817943931794037,
          1.4017124013256363,
          1.4040969195395323,
          1.3930974575789132,
          1.403504379517148,
          1.3832695535872375,
          1.37279843516974,
          1.3815753393275043,
          1.3477794527346563,
          1.3636915295588778,
          1.3752549420183247,
          1.373373260758442,
          1.3939086729483317,
          1.3740230773599116,
          1.3661195576292724,
          1.3607323861818301,
          1.3776432731344066,
          1.3528454157421532,
          1.3564088555908953,
          1.362119247019693,
          1.3516034883633505,
          1.36702976945728,
          1.3356808151556283,
          1.334923351549926,
          1.3255614186229345,
          1.342326686396242,
          1.3374393966866156,
          1.3426278348457503,
          1.3401682056706699,
          1.3190096729657976,
          1.3286117666256823,
          1.3038609595045707,
          1.3195054283664984,
          1.3180892055893487,
          1.3185832512975424,
          1.333075050806199,
          1.3361377807131185,
          1.3193735996716354,
          1.299974404220604,
          1.3137903077066535,
          1.3329150191764876,
          1.3470825414696093,
          1.3388499024955782,
          1.3213395865516393,
          1.3068911136783847,
          1.3182208244510845,
          1.3151444162597625,
          1.2997060145655248,
          1.300304080508172,
          1.3045264263897276,
          1.2865649442037006,
          1.2897791512916836,
          1.3156534001435352,
          1.3174663745172268,
          1.3104583631784223,
          1.3244571852187523,
          1.3199463394314708,
          1.3248246471943899,
          1.329906527871997,
          1.3195636733951128,
          1.3407266242313358,
          1.341655484221283,
          1.3210895753941545,
          1.3189334391171859,
          1.2945994052789316,
          1.3132799195897444,
          1.3151515376784981,
          1.2934121718255283,
          1.3015013055726852,
          1.278666544023788,
          1.2936173880555497,
          1.2811784574304614,
          1.264355912952239,
          1.24280314243993,
          1.2394434769335578,
          1.2313100717417107,
          1.229008001457099,
          1.2262493745646568,
          1.2440726912640645,
          1.251357158418087,
          1.2689945911740337,
          1.2738302055165363,
          1.2667627166835123,
          1.2700794827790258,
          1.2750341606997877,
          1.2763427679109374,
          1.2766854260477694,
          1.2714817649054775,
          1.2545931379423854,
          1.2515286172325437,
          1.2560193418546441,
          1.2568385002534357,
          1.256626101115904,
          1.2497686432470212,
          1.248797484926357,
          1.2501001963138736,
          1.230256188287589,
          1.235467033837656,
          1.2108713035612757,
          1.2212062260627854,
          1.2199731742295266,
          1.206261600912147,
          1.214541375472323,
          1.2231438716483753,
          1.2005002641437723,
          1.2008202020533132,
          1.1955542637641072,
          1.1899682960761095,
          1.1920436412134983,
          1.1936055205441973,
          1.1977236440702996,
          1.2057276208576344,
          1.1910915096102928,
          1.2025656197775718,
          1.2008157552853858,
          1.2003280230667532,
          1.2137991234516863,
          1.222592864290512,
          1.212005430118615,
          1.1963090094917996,
          1.195853298862423,
          1.2024845308999765,
          1.1910597260741422,
          1.208283822332875,
          1.2059683870958995,
          1.2085944175876566,
          1.2044154108219915,
          1.2117004589277127,
          1.2138746257111839,
          1.2248865504975648,
          1.2168108962887632,
          1.2182599310400744,
          1.2333635946044939,
          1.2375647964115883,
          1.231144083280969,
          1.2248360374582865,
          1.2292574131847096,
          1.2199641689563532,
          1.224948704766223,
          1.211519170136899,
          1.2121302440284916,
          1.2169077941065929,
          1.2312681175817863,
          1.232684761256129,
          1.2308513655358113,
          1.2404896594602228,
          1.2436216325196765,
          1.2404738042950545,
          1.23257400686268,
          1.2226566871560494,
          1.2323608971631743,
          1.2331285219633272,
          1.237410239120575,
          1.2282156356872436,
          1.2309469838106093,
          1.239113747740999,
          1.239113747740999,
          1.2446492413227255,
          1.2412512436108458,
          1.2414419960528484,
          1.2332113782632503,
          1.221137961166432,
          1.2234631534026992,
          1.2269642548851358,
          1.2098962950695231,
          1.2133637651992721,
          1.2188514945106925,
          1.2082127743047204,
          1.2134667434869553,
          1.2215791988445195,
          1.2211407998892112,
          1.2218526655961486,
          1.228597294928412,
          1.2429091992597852,
          1.2520298803536891,
          1.2615701192389932,
          1.2609628744934704,
          1.2527587038366135,
          1.256151852834504,
          1.2421611596998925,
          1.2593763859626337,
          1.2504981585247092,
          1.2584282233404538,
          1.2766183521406451,
          1.2818764779876486,
          1.280000706662696,
          1.282388051985363,
          1.2768456886795772,
          1.2682622873240188,
          1.2643682697574306,
          1.2662726251125427,
          1.2746004620863012,
          1.2676085055500903,
          1.2661305063831516,
          1.2770475375410928,
          1.2616612620778047,
          1.260921318614286,
          1.2635362582123573,
          1.2751523111470413,
          1.296228584799716,
          1.299143204964189,
          1.2936799746397611,
          1.3126859395753832,
          1.3121619764824515,
          1.3045546612482357,
          1.3077208304451853,
          1.3082409534839086,
          1.3257531123314765,
          1.3160989607076172,
          1.3165949302310362,
          1.3009631124623187,
          1.2926341192662607,
          1.2859061478703857,
          1.280638636995892,
          1.2728311616457488,
          1.2791709555175195,
          1.2657121317285545,
          1.2656540424731972,
          1.28251913857382,
          1.2937876634104464,
          1.309685947000775,
          1.3119559088334256,
          1.3020643392432232,
          1.3207520799111525,
          1.336567369115158,
          1.3426259409359422,
          1.326573728714951,
          1.3182425395769237,
          1.3323013351745843,
          1.357834081696709,
          1.3702221658035885,
          1.3733743457977694,
          1.3772829072797361,
          1.3782916127506972,
          1.3675427488418468,
          1.3888829217854979,
          1.3875590081561477,
          1.414478749303416,
          1.417473374423547,
          1.4192069700895422,
          1.420972155458579,
          1.4319102623548106,
          1.4287896720636717,
          1.4343058640406257,
          1.435188604340579,
          1.4326037596673828,
          1.434022147174989,
          1.433013441704028,
          1.438655992493149,
          1.4471669080005238,
          1.4395701256755642,
          1.439286507220217,
          1.4334864015570463,
          1.4225482946608146,
          1.4286641303062704,
          1.4342209323235846,
          1.4407713565246207,
          1.4606398264856806,
          1.4559522984993651,
          1.4583494882380883,
          1.466552787381537,
          1.475470861945317,
          1.4550247873744735,
          1.441228404383017,
          1.4383320025255595,
          1.4444055143160408,
          1.4417938938597046,
          1.4423384361553817,
          1.4381630160405843,
          1.4301144588787178,
          1.4417937997784511,
          1.4464379074655653,
          1.444456725636858,
          1.4238356214748757,
          1.4259959699884426,
          1.4340606819763517,
          1.4334288251908687,
          1.4344217563633173,
          1.43968779097664,
          1.447690438879252,
          1.4348165243271367,
          1.4169299374364999,
          1.4199258289702734,
          1.4157846402036067,
          1.4173322084763076,
          1.409623239316425,
          1.4114142458124637,
          1.4002365887965673,
          1.401319578522631,
          1.4241854440021453,
          1.4055454001525918,
          1.390748725933075,
          1.3856846859683263,
          1.3897078558230314,
          1.4012985248978298,
          1.4019174135463348,
          1.4100197375292494,
          1.409400936356172,
          1.4288128708658074,
          1.4158283395391529,
          1.4060594535816657,
          1.413061582785723,
          1.4208410060813126,
          1.4195538554919116,
          1.3901756458960965,
          1.3892167602158736,
          1.3841286925240672,
          1.3866999443850387,
          1.3848672363516827,
          1.3798887211705257,
          1.3928433889147662,
          1.3913496913862462,
          1.4052548939213632,
          1.398134179722959,
          1.3842556152898813,
          1.3925642852374023,
          1.3937616926725145,
          1.3787685494802733,
          1.3766074967748294,
          1.3738862295235172,
          1.3833202822957167,
          1.3750990980647637,
          1.3674571833005063,
          1.380105064995182,
          1.3846659331675852,
          1.382040701064025,
          1.3782224431626195,
          1.3756768557024017,
          1.387237904457022,
          1.3869725866977767,
          1.3845597403097958,
          1.3933628158886187,
          1.391832449575861,
          1.408821247746792,
          1.3941032341732282,
          1.39332370215922,
          1.3917118444759022,
          1.4056471666600412,
          1.3950390876526633,
          1.4142947025455272,
          1.4320132502706893,
          1.4346250033035872,
          1.4431154063568328,
          1.4460849006160779,
          1.4587067747884166,
          1.4452734542073287,
          1.4281229629755896,
          1.4288007503152147,
          1.4342286364730934,
          1.4478164167160907,
          1.4529438093205072,
          1.4299273625414102,
          1.4345705273987908,
          1.4479886600393925,
          1.4659369455153992,
          1.481075315110508,
          1.4827095224425744,
          1.4828531421428475,
          1.4913970923318585,
          1.4933181835701632,
          1.4935185046124995,
          1.4866658185919255,
          1.5050749507846692,
          1.5019786997423399,
          1.5041377976677048,
          1.505870852858633,
          1.5095638103020665,
          1.5052172585686394,
          1.49422274939245,
          1.4843362331233878,
          1.4853735203065779,
          1.4957750704872108,
          1.5056974270524421,
          1.4919831130899786,
          1.4931992625019788,
          1.491529907136617,
          1.473803002478041,
          1.4737754897150852,
          1.4755672370417512,
          1.4801264595837549,
          1.4765618207756936,
          1.4644347531262465,
          1.467383459445081,
          1.468276305514664,
          1.4565906543173308,
          1.460291490486973,
          1.4563245876013615,
          1.4582768438770966,
          1.4630173373473965,
          1.457383557037492,
          1.459202500792256,
          1.4615029588288837,
          1.455751731088107,
          1.4587477648535647,
          1.468564672400973,
          1.4751184239448558,
          1.483624845660951,
          1.4819131805772923,
          1.4833543941119387,
          1.468676411847307,
          1.4813399563715448,
          1.4719964610446852,
          1.4760446918397125,
          1.467291338935353,
          1.4878646489300713,
          1.4992986868673601,
          1.5092550176337753,
          1.4936947750819822,
          1.4960374327034707,
          1.5299416554134022,
          1.537913107526606,
          1.520689054033701,
          1.5197951473520472,
          1.5274951930850278,
          1.502666409308641,
          1.5239454333630431,
          1.5523188307453724,
          1.5975280272967933,
          1.5827995277127034,
          1.5933790420160703,
          1.5565441970229426,
          1.5496804937500226,
          1.548866402670404,
          1.5233943947135489,
          1.5185884646102885,
          1.5446176996876264,
          1.5480807397683962,
          1.562882448906605,
          1.5603409992789057,
          1.5549786889853943,
          1.5671830788750953,
          1.5505311691836783,
          1.5468352798516625,
          1.5447116306708486,
          1.5357441442026365,
          1.5356066274449303,
          1.5502656001109845,
          1.518362836682369,
          1.5214707707037263,
          1.5251713240368572,
          1.5508401988300533,
          1.5334767610170872,
          1.5267974281942032,
          1.511133798066325,
          1.4984051943381993,
          1.4905793221196963,
          1.48837804253057,
          1.487769986221276,
          1.4921824272206434,
          1.4667190795692397,
          1.4641837105391395,
          1.4678423121798703,
          1.4720423703546401,
          1.4687958534873966,
          1.4746190113574318,
          1.4724803294802378,
          1.466579707292228,
          1.4534415684462585,
          1.452828375514695,
          1.4554844051310638,
          1.4422576240778493,
          1.455296570034578,
          1.4415329066216285,
          1.431548186111482,
          1.4340534990420668,
          1.425466005248114,
          1.413808227068777,
          1.424793018482151,
          1.4186001659183087,
          1.418478446502735,
          1.4130221206842553,
          1.410701658939662,
          1.411451122070031,
          1.3985541948461926,
          1.3955294534624312,
          1.396011240108013,
          1.391695781155479,
          1.3894433728258244,
          1.3852397328673698,
          1.412394629033015,
          1.406433480629881,
          1.4094629705338568,
          1.39241995010631,
          1.357796730327316,
          1.3682955923589804,
          1.3742225199716362,
          1.3755320825390918,
          1.3712590561653082,
          1.3719252304876914,
          1.3631034803575022,
          1.3456441085852093,
          1.3401305855180563,
          1.3450293361148113,
          1.3445734033410635,
          1.3373553856406861,
          1.3332105762236213,
          1.3377330591085412,
          1.3447180125462932,
          1.3406433644258544,
          1.348971546311799,
          1.351389467856646,
          1.3520163261888194,
          1.3604115384706796,
          1.3581729163387755,
          1.3607475179860096,
          1.3537402210829523,
          1.3579490679178476,
          1.3474513893028617,
          1.3405085642801018,
          1.340242362982138,
          1.3459651442737797,
          1.3515105491358745,
          1.391790283550496,
          1.3922176246925317,
          1.3754957172195987,
          1.3672587933100637,
          1.3520616897710587,
          1.3521517057139287,
          1.3663852695883594,
          1.381977905726895,
          1.387005590616443,
          1.3904133407321424,
          1.373028546862363,
          1.3651190050929427,
          1.380550343941544,
          1.3785335595354373,
          1.3995803151355395,
          1.3974102436938145,
          1.395487296578413,
          1.3701033662850883,
          1.3674684426813641,
          1.3537392234108794,
          1.3661306070416925,
          1.3738102131910122,
          1.381308720173368,
          1.3772761341145208,
          1.3577940643596764,
          1.3461273555828437,
          1.3400928063859237,
          1.3329004856458648,
          1.3258068682637276,
          1.3347289760024756,
          1.3257752204643347,
          1.3203997603349857,
          1.3249890041302281,
          1.3128606429953642,
          1.3039447390995054,
          1.3049364288908887,
          1.309140256451559,
          1.3229616480983077,
          1.3228965024987698,
          1.3267803259411601,
          1.3299047834993662,
          1.3243719370895315,
          1.347024087858919,
          1.3531536978689858,
          1.359883164633006,
          1.359196634270138,
          1.3808920363209918,
          1.3593424744293172,
          1.3831579821877433,
          1.399530338014405,
          1.3844883504627368,
          1.4090645750085495,
          1.4011669185591864,
          1.438487874067507,
          1.4504459071923599,
          1.4427490566180003,
          1.4619815789749366,
          1.431783180055047,
          1.4207421582625412,
          1.4360982156443796,
          1.4204578177581184,
          1.4163502366919782,
          1.4168174336698494,
          1.4421904740174167,
          1.4456572355289852,
          1.4283986285380215,
          1.4246052289813582,
          1.3959161358247614,
          1.3865457453522023,
          1.3826295028172906,
          1.373879587497188,
          1.4415855684695165,
          1.5259802505667115,
          1.5286982870983277,
          1.552641957216532,
          1.3895844880453494,
          1.4504748326572323,
          1.4245942702991452,
          1.4107736126484116,
          1.414725006327781,
          1.446171576836197,
          1.444108174198777,
          1.4784818380540898,
          1.4400149654174348,
          1.4177013426742215,
          1.3878601990998933,
          1.3778324979271215,
          1.377307104254983,
          1.3686309421194267,
          1.3680877343805466,
          1.358392207889961,
          1.378556354293643,
          1.3706512370187498,
          1.3821075597146408,
          1.3762951755293975,
          1.3858850296075886,
          1.3841190899512756,
          1.4298607105627357,
          1.4393034280261343,
          1.4411429359898436,
          1.4481819216136256,
          1.4573546884307016,
          1.458948868610155,
          1.4540436641796668,
          1.4295418144710836,
          1.428977590595176,
          1.4387315015949094,
          1.4088193543485021,
          1.4006687362995913,
          1.3951397260535572,
          1.3967001765566014,
          1.404567628470584,
          1.4125773890899471,
          1.4121981893388105,
          1.4053733191430453,
          1.3909415336641473,
          1.3921951378240827,
          1.4000883958046937,
          1.3960953659802176,
          1.3905468778709107,
          1.406093361726806,
          1.3927154283637693,
          1.4046162852233515,
          1.4048279617388877,
          1.4081272819174213,
          1.3942185186042515,
          1.3788162438229106,
          1.3795887649553786,
          1.3903824246704952,
          1.3972903169586173,
          1.4039710297826489,
          1.4035166708544684,
          1.4098792214742124,
          1.4209910433936164,
          1.4104018174575408,
          1.4111743385900088,
          1.4196366769355881,
          1.4236404176413229,
          1.4186357417591544,
          1.4213428069741534,
          1.4274165910347847,
          1.4226444116038217,
          1.4139383266864103,
          1.4129027932473566,
          1.4102236802615244,
          1.4100219023041192,
          1.3980261178853444
         ]
        },
        {
         "line": {
          "color": "orange",
          "width": 2
         },
         "mode": "lines",
         "name": "SPY (Buy & Hold)",
         "type": "scatter",
         "x": [
          "2021-11-09T00:00:00",
          "2021-11-10T00:00:00",
          "2021-11-11T00:00:00",
          "2021-11-12T00:00:00",
          "2021-11-15T00:00:00",
          "2021-11-16T00:00:00",
          "2021-11-17T00:00:00",
          "2021-11-18T00:00:00",
          "2021-11-19T00:00:00",
          "2021-11-22T00:00:00",
          "2021-11-23T00:00:00",
          "2021-11-24T00:00:00",
          "2021-11-26T00:00:00",
          "2021-11-29T00:00:00",
          "2021-11-30T00:00:00",
          "2021-12-01T00:00:00",
          "2021-12-02T00:00:00",
          "2021-12-03T00:00:00",
          "2021-12-06T00:00:00",
          "2021-12-07T00:00:00",
          "2021-12-08T00:00:00",
          "2021-12-09T00:00:00",
          "2021-12-10T00:00:00",
          "2021-12-13T00:00:00",
          "2021-12-14T00:00:00",
          "2021-12-15T00:00:00",
          "2021-12-16T00:00:00",
          "2021-12-17T00:00:00",
          "2021-12-20T00:00:00",
          "2021-12-21T00:00:00",
          "2021-12-22T00:00:00",
          "2021-12-23T00:00:00",
          "2021-12-27T00:00:00",
          "2021-12-28T00:00:00",
          "2021-12-29T00:00:00",
          "2021-12-30T00:00:00",
          "2021-12-31T00:00:00",
          "2022-01-03T00:00:00",
          "2022-01-04T00:00:00",
          "2022-01-05T00:00:00",
          "2022-01-06T00:00:00",
          "2022-01-07T00:00:00",
          "2022-01-10T00:00:00",
          "2022-01-11T00:00:00",
          "2022-01-12T00:00:00",
          "2022-01-13T00:00:00",
          "2022-01-14T00:00:00",
          "2022-01-18T00:00:00",
          "2022-01-19T00:00:00",
          "2022-01-20T00:00:00",
          "2022-01-21T00:00:00",
          "2022-01-24T00:00:00",
          "2022-01-25T00:00:00",
          "2022-01-26T00:00:00",
          "2022-01-27T00:00:00",
          "2022-01-28T00:00:00",
          "2022-01-31T00:00:00",
          "2022-02-01T00:00:00",
          "2022-02-02T00:00:00",
          "2022-02-03T00:00:00",
          "2022-02-04T00:00:00",
          "2022-02-07T00:00:00",
          "2022-02-08T00:00:00",
          "2022-02-09T00:00:00",
          "2022-02-10T00:00:00",
          "2022-02-11T00:00:00",
          "2022-02-14T00:00:00",
          "2022-02-15T00:00:00",
          "2022-02-16T00:00:00",
          "2022-02-17T00:00:00",
          "2022-02-18T00:00:00",
          "2022-02-22T00:00:00",
          "2022-02-23T00:00:00",
          "2022-02-24T00:00:00",
          "2022-02-25T00:00:00",
          "2022-02-28T00:00:00",
          "2022-03-01T00:00:00",
          "2022-03-02T00:00:00",
          "2022-03-03T00:00:00",
          "2022-03-04T00:00:00",
          "2022-03-07T00:00:00",
          "2022-03-08T00:00:00",
          "2022-03-09T00:00:00",
          "2022-03-10T00:00:00",
          "2022-03-11T00:00:00",
          "2022-03-14T00:00:00",
          "2022-03-15T00:00:00",
          "2022-03-16T00:00:00",
          "2022-03-17T00:00:00",
          "2022-03-18T00:00:00",
          "2022-03-21T00:00:00",
          "2022-03-22T00:00:00",
          "2022-03-23T00:00:00",
          "2022-03-24T00:00:00",
          "2022-03-25T00:00:00",
          "2022-03-28T00:00:00",
          "2022-03-29T00:00:00",
          "2022-03-30T00:00:00",
          "2022-03-31T00:00:00",
          "2022-04-01T00:00:00",
          "2022-04-04T00:00:00",
          "2022-04-05T00:00:00",
          "2022-04-06T00:00:00",
          "2022-04-07T00:00:00",
          "2022-04-08T00:00:00",
          "2022-04-11T00:00:00",
          "2022-04-12T00:00:00",
          "2022-04-13T00:00:00",
          "2022-04-14T00:00:00",
          "2022-04-18T00:00:00",
          "2022-04-19T00:00:00",
          "2022-04-20T00:00:00",
          "2022-04-21T00:00:00",
          "2022-04-22T00:00:00",
          "2022-04-25T00:00:00",
          "2022-04-26T00:00:00",
          "2022-04-27T00:00:00",
          "2022-04-28T00:00:00",
          "2022-04-29T00:00:00",
          "2022-05-02T00:00:00",
          "2022-05-03T00:00:00",
          "2022-05-04T00:00:00",
          "2022-05-05T00:00:00",
          "2022-05-06T00:00:00",
          "2022-05-09T00:00:00",
          "2022-05-10T00:00:00",
          "2022-05-11T00:00:00",
          "2022-05-12T00:00:00",
          "2022-05-13T00:00:00",
          "2022-05-16T00:00:00",
          "2022-05-17T00:00:00",
          "2022-05-18T00:00:00",
          "2022-05-19T00:00:00",
          "2022-05-20T00:00:00",
          "2022-05-23T00:00:00",
          "2022-05-24T00:00:00",
          "2022-05-25T00:00:00",
          "2022-05-26T00:00:00",
          "2022-05-27T00:00:00",
          "2022-05-31T00:00:00",
          "2022-06-01T00:00:00",
          "2022-06-02T00:00:00",
          "2022-06-03T00:00:00",
          "2022-06-06T00:00:00",
          "2022-06-07T00:00:00",
          "2022-06-08T00:00:00",
          "2022-06-09T00:00:00",
          "2022-06-10T00:00:00",
          "2022-06-13T00:00:00",
          "2022-06-14T00:00:00",
          "2022-06-15T00:00:00",
          "2022-06-16T00:00:00",
          "2022-06-17T00:00:00",
          "2022-06-21T00:00:00",
          "2022-06-22T00:00:00",
          "2022-06-23T00:00:00",
          "2022-06-24T00:00:00",
          "2022-06-27T00:00:00",
          "2022-06-28T00:00:00",
          "2022-06-29T00:00:00",
          "2022-06-30T00:00:00",
          "2022-07-01T00:00:00",
          "2022-07-05T00:00:00",
          "2022-07-06T00:00:00",
          "2022-07-07T00:00:00",
          "2022-07-08T00:00:00",
          "2022-07-11T00:00:00",
          "2022-07-12T00:00:00",
          "2022-07-13T00:00:00",
          "2022-07-14T00:00:00",
          "2022-07-15T00:00:00",
          "2022-07-18T00:00:00",
          "2022-07-19T00:00:00",
          "2022-07-20T00:00:00",
          "2022-07-21T00:00:00",
          "2022-07-22T00:00:00",
          "2022-07-25T00:00:00",
          "2022-07-26T00:00:00",
          "2022-07-27T00:00:00",
          "2022-07-28T00:00:00",
          "2022-07-29T00:00:00",
          "2022-08-01T00:00:00",
          "2022-08-02T00:00:00",
          "2022-08-03T00:00:00",
          "2022-08-04T00:00:00",
          "2022-08-05T00:00:00",
          "2022-08-08T00:00:00",
          "2022-08-09T00:00:00",
          "2022-08-10T00:00:00",
          "2022-08-11T00:00:00",
          "2022-08-12T00:00:00",
          "2022-08-15T00:00:00",
          "2022-08-16T00:00:00",
          "2022-08-17T00:00:00",
          "2022-08-18T00:00:00",
          "2022-08-19T00:00:00",
          "2022-08-22T00:00:00",
          "2022-08-23T00:00:00",
          "2022-08-24T00:00:00",
          "2022-08-25T00:00:00",
          "2022-08-26T00:00:00",
          "2022-08-29T00:00:00",
          "2022-08-30T00:00:00",
          "2022-08-31T00:00:00",
          "2022-09-01T00:00:00",
          "2022-09-02T00:00:00",
          "2022-09-06T00:00:00",
          "2022-09-07T00:00:00",
          "2022-09-08T00:00:00",
          "2022-09-09T00:00:00",
          "2022-09-12T00:00:00",
          "2022-09-13T00:00:00",
          "2022-09-14T00:00:00",
          "2022-09-15T00:00:00",
          "2022-09-16T00:00:00",
          "2022-09-19T00:00:00",
          "2022-09-20T00:00:00",
          "2022-09-21T00:00:00",
          "2022-09-22T00:00:00",
          "2022-09-23T00:00:00",
          "2022-09-26T00:00:00",
          "2022-09-27T00:00:00",
          "2022-09-28T00:00:00",
          "2022-09-29T00:00:00",
          "2022-09-30T00:00:00",
          "2022-10-03T00:00:00",
          "2022-10-04T00:00:00",
          "2022-10-05T00:00:00",
          "2022-10-06T00:00:00",
          "2022-10-07T00:00:00",
          "2022-10-10T00:00:00",
          "2022-10-11T00:00:00",
          "2022-10-12T00:00:00",
          "2022-10-13T00:00:00",
          "2022-10-14T00:00:00",
          "2022-10-17T00:00:00",
          "2022-10-18T00:00:00",
          "2022-10-19T00:00:00",
          "2022-10-20T00:00:00",
          "2022-10-21T00:00:00",
          "2022-10-24T00:00:00",
          "2022-10-25T00:00:00",
          "2022-10-26T00:00:00",
          "2022-10-27T00:00:00",
          "2022-10-28T00:00:00",
          "2022-10-31T00:00:00",
          "2022-11-01T00:00:00",
          "2022-11-02T00:00:00",
          "2022-11-03T00:00:00",
          "2022-11-04T00:00:00",
          "2022-11-07T00:00:00",
          "2022-11-08T00:00:00",
          "2022-11-09T00:00:00",
          "2022-11-10T00:00:00",
          "2022-11-11T00:00:00",
          "2022-11-14T00:00:00",
          "2022-11-15T00:00:00",
          "2022-11-16T00:00:00",
          "2022-11-17T00:00:00",
          "2022-11-18T00:00:00",
          "2022-11-21T00:00:00",
          "2022-11-22T00:00:00",
          "2022-11-23T00:00:00",
          "2022-11-25T00:00:00",
          "2022-11-28T00:00:00",
          "2022-11-29T00:00:00",
          "2022-11-30T00:00:00",
          "2022-12-01T00:00:00",
          "2022-12-02T00:00:00",
          "2022-12-05T00:00:00",
          "2022-12-06T00:00:00",
          "2022-12-07T00:00:00",
          "2022-12-08T00:00:00",
          "2022-12-09T00:00:00",
          "2022-12-12T00:00:00",
          "2022-12-13T00:00:00",
          "2022-12-14T00:00:00",
          "2022-12-15T00:00:00",
          "2022-12-16T00:00:00",
          "2022-12-19T00:00:00",
          "2022-12-20T00:00:00",
          "2022-12-21T00:00:00",
          "2022-12-22T00:00:00",
          "2022-12-23T00:00:00",
          "2022-12-27T00:00:00",
          "2022-12-28T00:00:00",
          "2022-12-29T00:00:00",
          "2022-12-30T00:00:00",
          "2023-01-03T00:00:00",
          "2023-01-04T00:00:00",
          "2023-01-05T00:00:00",
          "2023-01-06T00:00:00",
          "2023-01-09T00:00:00",
          "2023-01-10T00:00:00",
          "2023-01-11T00:00:00",
          "2023-01-12T00:00:00",
          "2023-01-13T00:00:00",
          "2023-01-17T00:00:00",
          "2023-01-18T00:00:00",
          "2023-01-19T00:00:00",
          "2023-01-20T00:00:00",
          "2023-01-23T00:00:00",
          "2023-01-24T00:00:00",
          "2023-01-25T00:00:00",
          "2023-01-26T00:00:00",
          "2023-01-27T00:00:00",
          "2023-01-30T00:00:00",
          "2023-01-31T00:00:00",
          "2023-02-01T00:00:00",
          "2023-02-02T00:00:00",
          "2023-02-03T00:00:00",
          "2023-02-06T00:00:00",
          "2023-02-07T00:00:00",
          "2023-02-08T00:00:00",
          "2023-02-09T00:00:00",
          "2023-02-10T00:00:00",
          "2023-02-13T00:00:00",
          "2023-02-14T00:00:00",
          "2023-02-15T00:00:00",
          "2023-02-16T00:00:00",
          "2023-02-17T00:00:00",
          "2023-02-21T00:00:00",
          "2023-02-22T00:00:00",
          "2023-02-23T00:00:00",
          "2023-02-24T00:00:00",
          "2023-02-27T00:00:00",
          "2023-02-28T00:00:00",
          "2023-03-01T00:00:00",
          "2023-03-02T00:00:00",
          "2023-03-03T00:00:00",
          "2023-03-06T00:00:00",
          "2023-03-07T00:00:00",
          "2023-03-08T00:00:00",
          "2023-03-09T00:00:00",
          "2023-03-10T00:00:00",
          "2023-03-13T00:00:00",
          "2023-03-14T00:00:00",
          "2023-03-15T00:00:00",
          "2023-03-16T00:00:00",
          "2023-03-17T00:00:00",
          "2023-03-20T00:00:00",
          "2023-03-21T00:00:00",
          "2023-03-22T00:00:00",
          "2023-03-23T00:00:00",
          "2023-03-24T00:00:00",
          "2023-03-27T00:00:00",
          "2023-03-28T00:00:00",
          "2023-03-29T00:00:00",
          "2023-03-30T00:00:00",
          "2023-03-31T00:00:00",
          "2023-04-03T00:00:00",
          "2023-04-04T00:00:00",
          "2023-04-05T00:00:00",
          "2023-04-06T00:00:00",
          "2023-04-10T00:00:00",
          "2023-04-11T00:00:00",
          "2023-04-12T00:00:00",
          "2023-04-13T00:00:00",
          "2023-04-14T00:00:00",
          "2023-04-17T00:00:00",
          "2023-04-18T00:00:00",
          "2023-04-19T00:00:00",
          "2023-04-20T00:00:00",
          "2023-04-21T00:00:00",
          "2023-04-24T00:00:00",
          "2023-04-25T00:00:00",
          "2023-04-26T00:00:00",
          "2023-04-27T00:00:00",
          "2023-04-28T00:00:00",
          "2023-05-01T00:00:00",
          "2023-05-02T00:00:00",
          "2023-05-03T00:00:00",
          "2023-05-04T00:00:00",
          "2023-05-05T00:00:00",
          "2023-05-08T00:00:00",
          "2023-05-09T00:00:00",
          "2023-05-10T00:00:00",
          "2023-05-11T00:00:00",
          "2023-05-12T00:00:00",
          "2023-05-15T00:00:00",
          "2023-05-16T00:00:00",
          "2023-05-17T00:00:00",
          "2023-05-18T00:00:00",
          "2023-05-19T00:00:00",
          "2023-05-22T00:00:00",
          "2023-05-23T00:00:00",
          "2023-05-24T00:00:00",
          "2023-05-25T00:00:00",
          "2023-05-26T00:00:00",
          "2023-05-30T00:00:00",
          "2023-05-31T00:00:00",
          "2023-06-01T00:00:00",
          "2023-06-02T00:00:00",
          "2023-06-05T00:00:00",
          "2023-06-06T00:00:00",
          "2023-06-07T00:00:00",
          "2023-06-08T00:00:00",
          "2023-06-09T00:00:00",
          "2023-06-12T00:00:00",
          "2023-06-13T00:00:00",
          "2023-06-14T00:00:00",
          "2023-06-15T00:00:00",
          "2023-06-16T00:00:00",
          "2023-06-20T00:00:00",
          "2023-06-21T00:00:00",
          "2023-06-22T00:00:00",
          "2023-06-23T00:00:00",
          "2023-06-26T00:00:00",
          "2023-06-27T00:00:00",
          "2023-06-28T00:00:00",
          "2023-06-29T00:00:00",
          "2023-06-30T00:00:00",
          "2023-07-03T00:00:00",
          "2023-07-05T00:00:00",
          "2023-07-06T00:00:00",
          "2023-07-07T00:00:00",
          "2023-07-10T00:00:00",
          "2023-07-11T00:00:00",
          "2023-07-12T00:00:00",
          "2023-07-13T00:00:00",
          "2023-07-14T00:00:00",
          "2023-07-17T00:00:00",
          "2023-07-18T00:00:00",
          "2023-07-19T00:00:00",
          "2023-07-20T00:00:00",
          "2023-07-21T00:00:00",
          "2023-07-24T00:00:00",
          "2023-07-25T00:00:00",
          "2023-07-26T00:00:00",
          "2023-07-27T00:00:00",
          "2023-07-28T00:00:00",
          "2023-07-31T00:00:00",
          "2023-08-01T00:00:00",
          "2023-08-02T00:00:00",
          "2023-08-03T00:00:00",
          "2023-08-04T00:00:00",
          "2023-08-07T00:00:00",
          "2023-08-08T00:00:00",
          "2023-08-09T00:00:00",
          "2023-08-10T00:00:00",
          "2023-08-11T00:00:00",
          "2023-08-14T00:00:00",
          "2023-08-15T00:00:00",
          "2023-08-16T00:00:00",
          "2023-08-17T00:00:00",
          "2023-08-18T00:00:00",
          "2023-08-21T00:00:00",
          "2023-08-22T00:00:00",
          "2023-08-23T00:00:00",
          "2023-08-24T00:00:00",
          "2023-08-25T00:00:00",
          "2023-08-28T00:00:00",
          "2023-08-29T00:00:00",
          "2023-08-30T00:00:00",
          "2023-08-31T00:00:00",
          "2023-09-01T00:00:00",
          "2023-09-05T00:00:00",
          "2023-09-06T00:00:00",
          "2023-09-07T00:00:00",
          "2023-09-08T00:00:00",
          "2023-09-11T00:00:00",
          "2023-09-12T00:00:00",
          "2023-09-13T00:00:00",
          "2023-09-14T00:00:00",
          "2023-09-15T00:00:00",
          "2023-09-18T00:00:00",
          "2023-09-19T00:00:00",
          "2023-09-20T00:00:00",
          "2023-09-21T00:00:00",
          "2023-09-22T00:00:00",
          "2023-09-25T00:00:00",
          "2023-09-26T00:00:00",
          "2023-09-27T00:00:00",
          "2023-09-28T00:00:00",
          "2023-09-29T00:00:00",
          "2023-10-02T00:00:00",
          "2023-10-03T00:00:00",
          "2023-10-04T00:00:00",
          "2023-10-05T00:00:00",
          "2023-10-06T00:00:00",
          "2023-10-09T00:00:00",
          "2023-10-10T00:00:00",
          "2023-10-11T00:00:00",
          "2023-10-12T00:00:00",
          "2023-10-13T00:00:00",
          "2023-10-16T00:00:00",
          "2023-10-17T00:00:00",
          "2023-10-18T00:00:00",
          "2023-10-19T00:00:00",
          "2023-10-20T00:00:00",
          "2023-10-23T00:00:00",
          "2023-10-24T00:00:00",
          "2023-10-25T00:00:00",
          "2023-10-26T00:00:00",
          "2023-10-27T00:00:00",
          "2023-10-30T00:00:00",
          "2023-10-31T00:00:00",
          "2023-11-01T00:00:00",
          "2023-11-02T00:00:00",
          "2023-11-03T00:00:00",
          "2023-11-06T00:00:00",
          "2023-11-07T00:00:00",
          "2023-11-08T00:00:00",
          "2023-11-09T00:00:00",
          "2023-11-10T00:00:00",
          "2023-11-13T00:00:00",
          "2023-11-14T00:00:00",
          "2023-11-15T00:00:00",
          "2023-11-16T00:00:00",
          "2023-11-17T00:00:00",
          "2023-11-20T00:00:00",
          "2023-11-21T00:00:00",
          "2023-11-22T00:00:00",
          "2023-11-24T00:00:00",
          "2023-11-27T00:00:00",
          "2023-11-28T00:00:00",
          "2023-11-29T00:00:00",
          "2023-11-30T00:00:00",
          "2023-12-01T00:00:00",
          "2023-12-04T00:00:00",
          "2023-12-05T00:00:00",
          "2023-12-06T00:00:00",
          "2023-12-07T00:00:00",
          "2023-12-08T00:00:00",
          "2023-12-11T00:00:00",
          "2023-12-12T00:00:00",
          "2023-12-13T00:00:00",
          "2023-12-14T00:00:00",
          "2023-12-15T00:00:00",
          "2023-12-18T00:00:00",
          "2023-12-19T00:00:00",
          "2023-12-20T00:00:00",
          "2023-12-21T00:00:00",
          "2023-12-22T00:00:00",
          "2023-12-26T00:00:00",
          "2023-12-27T00:00:00",
          "2023-12-28T00:00:00",
          "2023-12-29T00:00:00",
          "2024-01-02T00:00:00",
          "2024-01-03T00:00:00",
          "2024-01-04T00:00:00",
          "2024-01-05T00:00:00",
          "2024-01-08T00:00:00",
          "2024-01-09T00:00:00",
          "2024-01-10T00:00:00",
          "2024-01-11T00:00:00",
          "2024-01-12T00:00:00",
          "2024-01-16T00:00:00",
          "2024-01-17T00:00:00",
          "2024-01-18T00:00:00",
          "2024-01-19T00:00:00",
          "2024-01-22T00:00:00",
          "2024-01-23T00:00:00",
          "2024-01-24T00:00:00",
          "2024-01-25T00:00:00",
          "2024-01-26T00:00:00",
          "2024-01-29T00:00:00",
          "2024-01-30T00:00:00",
          "2024-01-31T00:00:00",
          "2024-02-01T00:00:00",
          "2024-02-02T00:00:00",
          "2024-02-05T00:00:00",
          "2024-02-06T00:00:00",
          "2024-02-07T00:00:00",
          "2024-02-08T00:00:00",
          "2024-02-09T00:00:00",
          "2024-02-12T00:00:00",
          "2024-02-13T00:00:00",
          "2024-02-14T00:00:00",
          "2024-02-15T00:00:00",
          "2024-02-16T00:00:00",
          "2024-02-20T00:00:00",
          "2024-02-21T00:00:00",
          "2024-02-22T00:00:00",
          "2024-02-23T00:00:00",
          "2024-02-26T00:00:00",
          "2024-02-27T00:00:00",
          "2024-02-28T00:00:00",
          "2024-02-29T00:00:00",
          "2024-03-01T00:00:00",
          "2024-03-04T00:00:00",
          "2024-03-05T00:00:00",
          "2024-03-06T00:00:00",
          "2024-03-07T00:00:00",
          "2024-03-08T00:00:00",
          "2024-03-11T00:00:00",
          "2024-03-12T00:00:00",
          "2024-03-13T00:00:00",
          "2024-03-14T00:00:00",
          "2024-03-15T00:00:00",
          "2024-03-18T00:00:00",
          "2024-03-19T00:00:00",
          "2024-03-20T00:00:00",
          "2024-03-21T00:00:00",
          "2024-03-22T00:00:00",
          "2024-03-25T00:00:00",
          "2024-03-26T00:00:00",
          "2024-03-27T00:00:00",
          "2024-03-28T00:00:00",
          "2024-04-01T00:00:00",
          "2024-04-02T00:00:00",
          "2024-04-03T00:00:00",
          "2024-04-04T00:00:00",
          "2024-04-05T00:00:00",
          "2024-04-08T00:00:00",
          "2024-04-09T00:00:00",
          "2024-04-10T00:00:00",
          "2024-04-11T00:00:00",
          "2024-04-12T00:00:00",
          "2024-04-15T00:00:00",
          "2024-04-16T00:00:00",
          "2024-04-17T00:00:00",
          "2024-04-18T00:00:00",
          "2024-04-19T00:00:00",
          "2024-04-22T00:00:00",
          "2024-04-23T00:00:00",
          "2024-04-24T00:00:00",
          "2024-04-25T00:00:00",
          "2024-04-26T00:00:00",
          "2024-04-29T00:00:00",
          "2024-04-30T00:00:00",
          "2024-05-01T00:00:00",
          "2024-05-02T00:00:00",
          "2024-05-03T00:00:00",
          "2024-05-06T00:00:00",
          "2024-05-07T00:00:00",
          "2024-05-08T00:00:00",
          "2024-05-09T00:00:00",
          "2024-05-10T00:00:00",
          "2024-05-13T00:00:00",
          "2024-05-14T00:00:00",
          "2024-05-15T00:00:00",
          "2024-05-16T00:00:00",
          "2024-05-17T00:00:00",
          "2024-05-20T00:00:00",
          "2024-05-21T00:00:00",
          "2024-05-22T00:00:00",
          "2024-05-23T00:00:00",
          "2024-05-24T00:00:00",
          "2024-05-28T00:00:00",
          "2024-05-29T00:00:00",
          "2024-05-30T00:00:00",
          "2024-05-31T00:00:00",
          "2024-06-03T00:00:00",
          "2024-06-04T00:00:00",
          "2024-06-05T00:00:00",
          "2024-06-06T00:00:00",
          "2024-06-07T00:00:00",
          "2024-06-10T00:00:00",
          "2024-06-11T00:00:00",
          "2024-06-12T00:00:00",
          "2024-06-13T00:00:00",
          "2024-06-14T00:00:00",
          "2024-06-17T00:00:00",
          "2024-06-18T00:00:00",
          "2024-06-20T00:00:00",
          "2024-06-21T00:00:00",
          "2024-06-24T00:00:00",
          "2024-06-25T00:00:00",
          "2024-06-26T00:00:00",
          "2024-06-27T00:00:00",
          "2024-06-28T00:00:00",
          "2024-07-01T00:00:00",
          "2024-07-02T00:00:00",
          "2024-07-03T00:00:00",
          "2024-07-05T00:00:00",
          "2024-07-08T00:00:00",
          "2024-07-09T00:00:00",
          "2024-07-10T00:00:00",
          "2024-07-11T00:00:00",
          "2024-07-12T00:00:00",
          "2024-07-15T00:00:00",
          "2024-07-16T00:00:00",
          "2024-07-17T00:00:00",
          "2024-07-18T00:00:00",
          "2024-07-19T00:00:00",
          "2024-07-22T00:00:00",
          "2024-07-23T00:00:00",
          "2024-07-24T00:00:00",
          "2024-07-25T00:00:00",
          "2024-07-26T00:00:00",
          "2024-07-29T00:00:00",
          "2024-07-30T00:00:00",
          "2024-07-31T00:00:00",
          "2024-08-01T00:00:00",
          "2024-08-02T00:00:00",
          "2024-08-05T00:00:00",
          "2024-08-06T00:00:00",
          "2024-08-07T00:00:00",
          "2024-08-08T00:00:00",
          "2024-08-09T00:00:00",
          "2024-08-12T00:00:00",
          "2024-08-13T00:00:00",
          "2024-08-14T00:00:00",
          "2024-08-15T00:00:00",
          "2024-08-16T00:00:00",
          "2024-08-19T00:00:00",
          "2024-08-20T00:00:00",
          "2024-08-21T00:00:00",
          "2024-08-22T00:00:00",
          "2024-08-23T00:00:00",
          "2024-08-26T00:00:00",
          "2024-08-27T00:00:00",
          "2024-08-28T00:00:00",
          "2024-08-29T00:00:00",
          "2024-08-30T00:00:00",
          "2024-09-03T00:00:00",
          "2024-09-04T00:00:00",
          "2024-09-05T00:00:00",
          "2024-09-06T00:00:00",
          "2024-09-09T00:00:00",
          "2024-09-10T00:00:00",
          "2024-09-11T00:00:00",
          "2024-09-12T00:00:00",
          "2024-09-13T00:00:00",
          "2024-09-16T00:00:00",
          "2024-09-17T00:00:00",
          "2024-09-18T00:00:00",
          "2024-09-19T00:00:00",
          "2024-09-20T00:00:00",
          "2024-09-23T00:00:00",
          "2024-09-24T00:00:00",
          "2024-09-25T00:00:00",
          "2024-09-26T00:00:00",
          "2024-09-27T00:00:00",
          "2024-09-30T00:00:00",
          "2024-10-01T00:00:00",
          "2024-10-02T00:00:00",
          "2024-10-03T00:00:00",
          "2024-10-04T00:00:00",
          "2024-10-07T00:00:00",
          "2024-10-08T00:00:00",
          "2024-10-09T00:00:00",
          "2024-10-10T00:00:00",
          "2024-10-11T00:00:00",
          "2024-10-14T00:00:00",
          "2024-10-15T00:00:00",
          "2024-10-16T00:00:00",
          "2024-10-17T00:00:00",
          "2024-10-18T00:00:00",
          "2024-10-21T00:00:00",
          "2024-10-22T00:00:00",
          "2024-10-23T00:00:00",
          "2024-10-24T00:00:00",
          "2024-10-25T00:00:00",
          "2024-10-28T00:00:00",
          "2024-10-29T00:00:00",
          "2024-10-30T00:00:00",
          "2024-10-31T00:00:00",
          "2024-11-01T00:00:00",
          "2024-11-04T00:00:00",
          "2024-11-05T00:00:00",
          "2024-11-06T00:00:00",
          "2024-11-07T00:00:00",
          "2024-11-08T00:00:00",
          "2024-11-11T00:00:00",
          "2024-11-12T00:00:00",
          "2024-11-13T00:00:00",
          "2024-11-14T00:00:00",
          "2024-11-15T00:00:00",
          "2024-11-18T00:00:00",
          "2024-11-19T00:00:00",
          "2024-11-20T00:00:00",
          "2024-11-21T00:00:00",
          "2024-11-22T00:00:00",
          "2024-11-25T00:00:00",
          "2024-11-26T00:00:00",
          "2024-11-27T00:00:00",
          "2024-11-29T00:00:00",
          "2024-12-02T00:00:00",
          "2024-12-03T00:00:00",
          "2024-12-04T00:00:00",
          "2024-12-05T00:00:00",
          "2024-12-06T00:00:00",
          "2024-12-09T00:00:00",
          "2024-12-10T00:00:00",
          "2024-12-11T00:00:00",
          "2024-12-12T00:00:00",
          "2024-12-13T00:00:00",
          "2024-12-16T00:00:00",
          "2024-12-17T00:00:00",
          "2024-12-18T00:00:00",
          "2024-12-19T00:00:00",
          "2024-12-20T00:00:00",
          "2024-12-23T00:00:00",
          "2024-12-24T00:00:00",
          "2024-12-26T00:00:00",
          "2024-12-27T00:00:00",
          "2024-12-30T00:00:00",
          "2024-12-31T00:00:00",
          "2025-01-02T00:00:00",
          "2025-01-03T00:00:00",
          "2025-01-06T00:00:00",
          "2025-01-07T00:00:00",
          "2025-01-08T00:00:00",
          "2025-01-10T00:00:00",
          "2025-01-13T00:00:00",
          "2025-01-14T00:00:00",
          "2025-01-15T00:00:00",
          "2025-01-16T00:00:00",
          "2025-01-17T00:00:00",
          "2025-01-21T00:00:00",
          "2025-01-22T00:00:00",
          "2025-01-23T00:00:00",
          "2025-01-24T00:00:00",
          "2025-01-27T00:00:00",
          "2025-01-28T00:00:00",
          "2025-01-29T00:00:00",
          "2025-01-30T00:00:00",
          "2025-01-31T00:00:00",
          "2025-02-03T00:00:00",
          "2025-02-04T00:00:00",
          "2025-02-05T00:00:00",
          "2025-02-06T00:00:00",
          "2025-02-07T00:00:00",
          "2025-02-10T00:00:00",
          "2025-02-11T00:00:00",
          "2025-02-12T00:00:00",
          "2025-02-13T00:00:00",
          "2025-02-14T00:00:00",
          "2025-02-18T00:00:00",
          "2025-02-19T00:00:00",
          "2025-02-20T00:00:00",
          "2025-02-21T00:00:00",
          "2025-02-24T00:00:00",
          "2025-02-25T00:00:00",
          "2025-02-26T00:00:00",
          "2025-02-27T00:00:00",
          "2025-02-28T00:00:00",
          "2025-03-03T00:00:00",
          "2025-03-04T00:00:00",
          "2025-03-05T00:00:00",
          "2025-03-06T00:00:00",
          "2025-03-07T00:00:00",
          "2025-03-10T00:00:00",
          "2025-03-11T00:00:00",
          "2025-03-12T00:00:00",
          "2025-03-13T00:00:00",
          "2025-03-14T00:00:00",
          "2025-03-17T00:00:00",
          "2025-03-18T00:00:00",
          "2025-03-19T00:00:00",
          "2025-03-20T00:00:00",
          "2025-03-21T00:00:00",
          "2025-03-24T00:00:00",
          "2025-03-25T00:00:00",
          "2025-03-26T00:00:00",
          "2025-03-27T00:00:00",
          "2025-03-28T00:00:00",
          "2025-03-31T00:00:00",
          "2025-04-01T00:00:00",
          "2025-04-02T00:00:00",
          "2025-04-03T00:00:00",
          "2025-04-04T00:00:00",
          "2025-04-07T00:00:00",
          "2025-04-08T00:00:00",
          "2025-04-09T00:00:00",
          "2025-04-10T00:00:00",
          "2025-04-11T00:00:00",
          "2025-04-14T00:00:00",
          "2025-04-15T00:00:00",
          "2025-04-16T00:00:00",
          "2025-04-17T00:00:00",
          "2025-04-21T00:00:00",
          "2025-04-22T00:00:00",
          "2025-04-23T00:00:00",
          "2025-04-24T00:00:00",
          "2025-04-25T00:00:00",
          "2025-04-28T00:00:00",
          "2025-04-29T00:00:00",
          "2025-04-30T00:00:00",
          "2025-05-01T00:00:00",
          "2025-05-02T00:00:00",
          "2025-05-05T00:00:00",
          "2025-05-06T00:00:00",
          "2025-05-07T00:00:00",
          "2025-05-08T00:00:00",
          "2025-05-09T00:00:00",
          "2025-05-12T00:00:00",
          "2025-05-13T00:00:00",
          "2025-05-14T00:00:00",
          "2025-05-15T00:00:00",
          "2025-05-16T00:00:00",
          "2025-05-19T00:00:00",
          "2025-05-20T00:00:00",
          "2025-05-21T00:00:00",
          "2025-05-22T00:00:00",
          "2025-05-23T00:00:00",
          "2025-05-27T00:00:00",
          "2025-05-28T00:00:00",
          "2025-05-29T00:00:00",
          "2025-05-30T00:00:00",
          "2025-06-02T00:00:00",
          "2025-06-03T00:00:00",
          "2025-06-04T00:00:00",
          "2025-06-05T00:00:00",
          "2025-06-06T00:00:00",
          "2025-06-09T00:00:00",
          "2025-06-10T00:00:00",
          "2025-06-11T00:00:00",
          "2025-06-12T00:00:00",
          "2025-06-13T00:00:00",
          "2025-06-16T00:00:00",
          "2025-06-17T00:00:00",
          "2025-06-18T00:00:00",
          "2025-06-20T00:00:00",
          "2025-06-23T00:00:00",
          "2025-06-24T00:00:00",
          "2025-06-25T00:00:00",
          "2025-06-26T00:00:00",
          "2025-06-27T00:00:00",
          "2025-06-30T00:00:00",
          "2025-07-01T00:00:00",
          "2025-07-02T00:00:00",
          "2025-07-03T00:00:00",
          "2025-07-07T00:00:00",
          "2025-07-08T00:00:00",
          "2025-07-09T00:00:00",
          "2025-07-10T00:00:00",
          "2025-07-11T00:00:00",
          "2025-07-14T00:00:00",
          "2025-07-15T00:00:00",
          "2025-07-16T00:00:00",
          "2025-07-17T00:00:00",
          "2025-07-18T00:00:00",
          "2025-07-21T00:00:00",
          "2025-07-22T00:00:00",
          "2025-07-23T00:00:00"
         ],
         "y": [
          0.996694672037038,
          0.9886763908254271,
          0.9889963587091913,
          0.9964601021467091,
          0.9968012822330228,
          1.0007465459635132,
          0.9983154490667898,
          1.001706243671092,
          0.999914876598183,
          0.9970999006184281,
          0.9984221965585842,
          1.0010876574019223,
          0.9787602696407316,
          0.9907663762837412,
          0.9714884657447295,
          0.9606979075500816,
          0.9754122426810519,
          0.9669247530408789,
          0.9783763905577002,
          0.9986139988042907,
          1.0012583847408887,
          0.9944982823264527,
          1.0038600030328644,
          0.9949673534592056,
          0.9881219216992387,
          1.0035614532953636,
          0.9947115027184226,
          0.9841248288007066,
          0.9736602795054357,
          0.9909515883305975,
          1.0008598150062533,
          1.0070872783281928,
          1.0213395444126887,
          1.0205049231874568,
          1.0218104690388683,
          1.0189855391129332,
          1.0164174896463514,
          1.0223026058675972,
          1.0219602587669039,
          1.0023362941403453,
          1.001394719479605,
          0.9974357948160809,
          0.9961945720513647,
          1.0052680402059793,
          1.0079859480485012,
          0.9940973785630577,
          0.9945040487504465,
          0.9768916736750454,
          0.9667480533342044,
          0.9560481103737485,
          0.9372799791749714,
          0.9412606652242825,
          0.9297687313874077,
          0.9274361442339156,
          0.9228565738640813,
          0.9457760498032309,
          0.9628103408732301,
          0.969315965504977,
          0.9787321239998085,
          0.9557269068276999,
          0.9602211478520036,
          0.9571394747625246,
          0.965014625092855,
          0.9791387255392929,
          0.9615479059059647,
          0.9425872859824345,
          0.9395058188366695,
          0.9546570292330927,
          0.9557269068277003,
          0.9353114318600558,
          0.9292551764124155,
          0.9192827639458737,
          0.9029758660739794,
          0.9165648561033517,
          0.9367879796420524,
          0.9343912066976744,
          0.920160152815728,
          0.9370875590981235,
          0.9324223847911395,
          0.9248468139168803,
          0.8975830926251767,
          0.8907777512415492,
          0.9146602886356074,
          0.9105300874498796,
          0.8989526869716646,
          0.892382807901127,
          0.9120067038797808,
          0.932229690122672,
          0.9438928318338459,
          0.9542310003365809,
          0.9539521525477265,
          0.9651144391462757,
          0.9526855300582748,
          0.9670466717196105,
          0.971769235674916,
          0.9786814618461471,
          0.9907884809090525,
          0.9846705796429998,
          0.9695153190201999,
          0.9722629514054532,
          0.9805917957378856,
          0.9682058602382212,
          0.9585243775917593,
          0.963354375517906,
          0.9607783628943801,
          0.9443564797821286,
          0.9408572901363196,
          0.9516336382146966,
          0.9397841860901915,
          0.9401704678498872,
          0.9553473525626648,
          0.9546389061862548,
          0.9403638489974016,
          0.9145608864696154,
          0.9198631133321309,
          0.8932231955503533,
          0.8957347477913745,
          0.9183604106984472,
          0.8844219163378382,
          0.8897456986424267,
          0.8938242079559222,
          0.921043719997005,
          0.8883073190954383,
          0.8830051608808275,
          0.8547336197003567,
          0.8567085512704091,
          0.843098623630106,
          0.8422185574919687,
          0.8623543608959027,
          0.8588552398979983,
          0.8765220527618194,
          0.8411881524425585,
          0.8360363331392208,
          0.8364012654005577,
          0.8520504476976086,
          0.8455460587281461,
          0.8530163237166095,
          0.8700608433244075,
          0.891419952389933,
          0.8864181974062496,
          0.8792484042966183,
          0.8959922460818702,
          0.8812877276012707,
          0.8839709682519239,
          0.8924502887914388,
          0.8827473879987134,
          0.8617533484903339,
          0.8367659917181803,
          0.8049956041314239,
          0.8025697931233617,
          0.8140114080460982,
          0.7870710183854885,
          0.7887677886457335,
          0.8086238518380519,
          0.8071578758333777,
          0.8150700960322411,
          0.8409843368135311,
          0.8377719581135206,
          0.8206539165997986,
          0.8199856292476327,
          0.8133237619848094,
          0.821925962273721,
          0.8234782286945915,
          0.8262594299052385,
          0.8386343817401523,
          0.8379444702980088,
          0.8283721378200054,
          0.8210419145571115,
          0.8167301396634763,
          0.8147466271053375,
          0.8303126767898077,
          0.8234566732525185,
          0.8457058024023616,
          0.8510955553433579,
          0.8597625592542977,
          0.8517856040813109,
          0.8528203339487167,
          0.8427306708609628,
          0.8646133574955658,
          0.8754577356474914,
          0.8882206167918136,
          0.8855905096193913,
          0.8797480237469585,
          0.8935245598519465,
          0.8929205955864759,
          0.8914114400497511,
          0.8903765042386312,
          0.886840931203336,
          0.9054680596058778,
          0.9054680596058778,
          0.9207967934838317,
          0.9245912377677163,
          0.9264021694934622,
          0.9198265926468353,
          0.9225000852950224,
          0.9101034407222262,
          0.891152774744876,
          0.8889969559459631,
          0.8918427548349243,
          0.9044333297384722,
          0.87381911016252,
          0.868041290616306,
          0.8585120003745438,
          0.8519795344120628,
          0.8546530270602497,
          0.8456411360761429,
          0.8424504501140148,
          0.8575849104216933,
          0.8631904237271332,
          0.8766002427252624,
          0.8860216184608504,
          0.8474952473339393,
          0.8507291814760227,
          0.841070558581823,
          0.8346541075782696,
          0.8411267812157648,
          0.8314718653084183,
          0.8169677987095163,
          0.8101056168608048,
          0.7965323472016067,
          0.7886525288137575,
          0.7866392230649829,
          0.8021174720793534,
          0.7853620974461134,
          0.7732175966272469,
          0.7936315613409882,
          0.8182234375342174,
          0.8163185268269497,
          0.8078974883585174,
          0.7853620974461132,
          0.7793654283797447,
          0.7744297126803739,
          0.771875461442635,
          0.7922461093285164,
          0.7741916417469058,
          0.7940861477658511,
          0.8034162904361049,
          0.7977229764605653,
          0.7910337873316751,
          0.8102569854906482,
          0.820171665069345,
          0.8332687242137023,
          0.8269908733297198,
          0.8225745476772404,
          0.8421442118111884,
          0.8360611836807187,
          0.8324026622481221,
          0.8115126243153494,
          0.8031565267647548,
          0.8147165593230831,
          0.8225097440552125,
          0.8269475565018601,
          0.8099105881635781,
          0.8544185944657303,
          0.8626881270085099,
          0.855349460053339,
          0.8626446728848406,
          0.8560638787974572,
          0.8534444806981666,
          0.8573194489742537,
          0.8542021476222401,
          0.8656971019669214,
          0.8711522763610882,
          0.8709575909033848,
          0.8570596853029033,
          0.8555875996347118,
          0.8825391102558814,
          0.8818897697254102,
          0.8808721331862723,
          0.8650259314027586,
          0.8525569319384182,
          0.8511066076560135,
          0.8577740353991169,
          0.8513661653836498,
          0.8636406166860964,
          0.8701782312414292,
          0.8646147991015648,
          0.843464722905823,
          0.8335066578513616,
          0.8264389441760056,
          0.8275697124620741,
          0.8399439778179411,
          0.8279612801104309,
          0.8327237971462667,
          0.8294400246253776,
          0.8191319239048972,
          0.8338764641139313,
          0.8316800057554414,
          0.8281786880245869,
          0.834572347923783,
          0.8250471079083976,
          0.8439672255681604,
          0.8434886123766554,
          0.8494040709717746,
          0.8601470561684719,
          0.8632787735804706,
          0.866627761610816,
          0.8650401415190296,
          0.8513829154723945,
          0.8451850393973769,
          0.8609300541693763,
          0.8712599849235484,
          0.870324863165849,
          0.8706510780089401,
          0.8802199094438043,
          0.8822422080680935,
          0.8711729393804005,
          0.8839820892124844,
          0.8933768982089573,
          0.9063816945694101,
          0.896747784920899,
          0.891267348097806,
          0.9029238996101296,
          0.893050683365866,
          0.8853086413227313,
          0.8873747373102132,
          0.8977915763117239,
          0.8973784532212941,
          0.9002924194796132,
          0.8878966673295781,
          0.8856784475853011,
          0.8679108595973938,
          0.8667148758018689,
          0.8713252004330048,
          0.8620173683317754,
          0.864953233271691,
          0.8617565062939501,
          0.8584509037393693,
          0.8651271870621777,
          0.8790019583187783,
          0.8796109338812912,
          0.8661275929772381,
          0.8675411906306331,
          0.8515352451729036,
          0.83924795671228,
          0.8380519042688505,
          0.8519048454917594,
          0.8465769443128894,
          0.8614300855071447,
          0.8513577903392776,
          0.8595441216215717,
          0.8708303863359925,
          0.8559858261298237,
          0.8582998097011444,
          0.8639320956894136,
          0.8655473122388858,
          0.8636045078882287,
          0.8761568459088639,
          0.881287041122224,
          0.8937084675886137,
          0.8971140214924245,
          0.8921366365149063,
          0.8898007542619891,
          0.8932719355626844,
          0.8941887283298314,
          0.8944287900525355,
          0.8907831744260207,
          0.9026151213348296,
          0.9004103565798721,
          0.9036412015662446,
          0.9042305438280159,
          0.9040777335921739,
          0.8991441459778485,
          0.8998428443517925,
          0.9007815358005358,
          0.8864825891408501,
          0.8827278233458768,
          0.9003012064114135,
          0.9079853782708937,
          0.9070685855037467,
          0.896873822473911,
          0.8907176843249455,
          0.8844088045880426,
          0.9007815358005357,
          0.9010215975232397,
          0.8970703614250412,
          0.9012617278938486,
          0.8996898968201412,
          0.8985110750007892,
          0.9016110770808207,
          0.8955859191340054,
          0.9064572759124746,
          0.9151894266849661,
          0.9138577259818674,
          0.9142289052025312,
          0.9039686520716204,
          0.8974195733162041,
          0.9051910653104511,
          0.9169139993466108,
          0.9172632798856781,
          0.9121768820355108,
          0.9208434740590223,
          0.9341599319067719,
          0.9323698004961474,
          0.9344000622773807,
          0.9311691486431036,
          0.936801434631373,
          0.9384823472256342,
          0.9469959917174945,
          0.9532395186491316,
          0.9543746804011003,
          0.9662067646057185,
          0.9629155781111228,
          0.9579197954951475,
          0.9530116762534624,
          0.9564518287012372,
          0.9492210076043357,
          0.9453426755809189,
          0.955706792991627,
          0.9561888385783665,
          0.9599576085458966,
          0.971285748482179,
          0.972403267722642,
          0.9709569936666141,
          0.9633538263346691,
          0.960921562423566,
          0.9633538263346691,
          0.9694888209289899,
          0.9772893509869212,
          0.9850460836816597,
          0.9844325087095325,
          0.9878506938278063,
          0.9951909396847852,
          0.997404079484115,
          0.990786764711436,
          0.990786764711436,
          0.9952129070142862,
          0.9979299224340472,
          0.9980832818531267,
          0.9914661043762572,
          1.0011727808037407,
          1.003079133117007,
          1.000208689630262,
          0.9862950636596064,
          0.9834684175360541,
          0.9790204451995121,
          0.9875658050233397,
          0.9832713294016866,
          0.9766978119922004,
          0.9770483281935521,
          0.9764787565283317,
          0.9818689213567563,
          0.9704311507166826,
          0.9633099603235724,
          0.9559697144665935,
          0.9564298613717365,
          0.9626526566361568,
          0.9600452719201872,
          0.9707380068506506,
          0.9572844591372334,
          0.9640330287036813,
          0.9701464678559291,
          0.9841695872345667,
          0.9882231773586595,
          0.9867771092463458,
          0.9886175595711088,
          0.9843448453352427,
          0.9777277365062778,
          0.9747257636341449,
          0.9761938677238644,
          0.9826139570663665,
          0.9772237235900372,
          0.9783631415120966,
          0.9867989392800374,
          0.9749096713708115,
          0.9754814397689819,
          0.973458454665646,
          0.9645091705706172,
          0.948567342255869,
          0.9464344518571229,
          0.950414451427387,
          0.9364515362611633,
          0.9368253241022052,
          0.9422566090255395,
          0.9399697413765717,
          0.939595884887625,
          0.927018421733873,
          0.933768982089557,
          0.9334170929301115,
          0.9444994733676005,
          0.9505463240522981,
          0.9554937785433711,
          0.9594078074772273,
          0.9535587314059442,
          0.9488091888240952,
          0.9587921044200547,
          0.9587481011131479,
          0.9459725887543626,
          0.9376610436939122,
          0.9261389047789733,
          0.924533710823586,
          0.9315042877138043,
          0.9181349709794427,
          0.9071408030994815,
          0.9030287936084969,
          0.9138252555229481,
          0.9195642890030117,
          0.9293712600192486,
          0.9471820961871111,
          0.9558236317254106,
          0.9580224927605648,
          0.9607489815911732,
          0.9614526226142549,
          0.9539545552243917,
          0.9688407847087078,
          0.9679172644469012,
          0.9866956241834772,
          0.9887845799232211,
          0.989993881412256,
          0.9912252188786966,
          0.9988552961892804,
          0.9966784711315321,
          1.0005263921331708,
          1.0011421638382483,
          0.9993390579736372,
          1.0003284802239472,
          0.9996248392008654,
          1.0035609041121274,
          1.0094978495014149,
          1.0041985744988011,
          1.004000731237482,
          0.9999547610308098,
          1.0075848383413937,
          1.0119166584231987,
          1.0158525173907464,
          1.0204921546771855,
          1.0345649064909146,
          1.0378850624012899,
          1.0361762101098193,
          1.0420047604576,
          1.0483411680042838,
          1.033813967061501,
          1.043616475963933,
          1.0457138067480494,
          1.0501294459214818,
          1.0520281783173273,
          1.0524255123896782,
          1.0493788497315915,
          1.0435060901331898,
          1.0349840705969573,
          1.0316503224014533,
          1.0330633708716106,
          1.0478114121237843,
          1.0462215952990477,
          1.0521384955001654,
          1.0516749161997878,
          1.0524034077643676,
          1.0485398350404593,
          1.042711421988488,
          1.0519839690667063,
          1.0650981215393318,
          1.0673501160527168,
          1.0704630239388304,
          1.0716331274742867,
          1.0774618151178765,
          1.0760928386025306,
          1.0846149267866678,
          1.083776049391345,
          1.0660916626639232,
          1.0800448984755855,
          1.0914149136337292,
          1.0874408177832684,
          1.0905980722158122,
          1.0996940568831655,
          1.1001797408088536,
          1.1065381843329434,
          1.10605256905516,
          1.090818706581489,
          1.1007316699625687,
          1.1083264622501414,
          1.102807033417184,
          1.0967356754305118,
          1.0977292165551031,
          1.1204471422460804,
          1.1212199803570906,
          1.117113462698481,
          1.119188688857287,
          1.1177095324549122,
          1.1217276316122797,
          1.1322586320792913,
          1.1310443879411187,
          1.1197406866589064,
          1.125414641925323,
          1.1365860586951961,
          1.1297639672228241,
          1.1287925307235434,
          1.1409353153447928,
          1.139147037427595,
          1.1368951802100193,
          1.1290884718406657,
          1.1357987358762962,
          1.1421107734168148,
          1.1526743816385547,
          1.1564836538698526,
          1.1542910397940254,
          1.1511020013816098,
          1.148975907125428,
          1.1586317841034401,
          1.1584101886670979,
          1.1563949607769919,
          1.1490425642408828,
          1.1503045873207203,
          1.1362638940784817,
          1.1481344897576315,
          1.1487764849623008,
          1.1501054397492119,
          1.1385893418498858,
          1.1471820000800454,
          1.1313475370882338,
          1.1171738042067043,
          1.1151362657475739,
          1.1085366621343051,
          1.106255629557236,
          1.0965998898750333,
          1.1066985458383016,
          1.1198313018930983,
          1.1192998298149814,
          1.1150477099505225,
          1.1256115927638812,
          1.129597907941377,
          1.1117036645693148,
          1.108093814501144,
          1.1184582751513756,
          1.1323219254474164,
          1.144015134940845,
          1.1452774326123012,
          1.1453883676262817,
          1.1519879025916457,
          1.1534717956994442,
          1.1536265280766176,
          1.158919693415714,
          1.1732704005955366,
          1.1708567402666046,
          1.172539849593816,
          1.1738908403581327,
          1.1767696588892502,
          1.1733813356095169,
          1.1648106447088584,
          1.172517607672696,
          1.1733369890630865,
          1.165120521350633,
          1.1573915910572943,
          1.167933437893247,
          1.1688854470355006,
          1.1701922285491964,
          1.1841000194479532,
          1.1840779148226428,
          1.1826383682612747,
          1.186292496227971,
          1.1891494847253967,
          1.1989160221257706,
          1.2013300943421306,
          1.2020610572312793,
          1.211627966524812,
          1.2147064131627705,
          1.2114066456800885,
          1.2097827108467207,
          1.2058500096827887,
          1.2104934912518903,
          1.2120042943383276,
          1.2139150401174938,
          1.2091381070216731,
          1.211626593566718,
          1.2197804543900934,
          1.2252239586404627,
          1.2322893382870592,
          1.2337110363932078,
          1.234910864471395,
          1.2471304660979934,
          1.2363771837155926,
          1.2441755856884784,
          1.2475972718498913,
          1.2549958684258573,
          1.2373992137206304,
          1.227889968667038,
          1.2197359705478532,
          1.2323113056165598,
          1.2303785925078923,
          1.202494911988925,
          1.1962295550235962,
          1.2096268801030716,
          1.21033793509986,
          1.2042057550696315,
          1.2237796067257656,
          1.2064498550739768,
          1.183987711475878,
          1.1495056630059264,
          1.1601035951800118,
          1.152349402457747,
          1.178988771056287,
          1.184187614174338,
          1.1848097014866468,
          1.2042945854583014,
          1.2080938350955144,
          1.228801063658095,
          1.23155604136915,
          1.2433313537565889,
          1.2413095356676325,
          1.2455754537609343,
          1.235799442949713,
          1.2489302768631785,
          1.2459532918283531,
          1.247663860317441,
          1.2404208198935045,
          1.2405318922032944,
          1.2523740676499022,
          1.2266015847917988,
          1.2240908563256339,
          1.2211135966991897,
          1.200562061584448,
          1.2140037332103537,
          1.2192915440128842,
          1.23180042790985,
          1.242176146816451,
          1.2486637856971687,
          1.2505078057129755,
          1.2510186834196853,
          1.2473084014669518,
          1.2685930962037926,
          1.2664002075363465,
          1.269564601350978,
          1.273197311171411,
          1.2703893372779345,
          1.2754258967492962,
          1.2735761103094954,
          1.2786796701358356,
          1.2672248061674938,
          1.2677594360492266,
          1.2654417454910525,
          1.2769415051890622,
          1.2653971243530036,
          1.2773647881693864,
          1.2862124047175678,
          1.2839614399227532,
          1.291650142543943,
          1.302213544821969,
          1.2920958047411966,
          1.2977118898239588,
          1.2978232367253673,
          1.3028154496502986,
          1.300675969052702,
          1.2999849592440835,
          1.288106537703799,
          1.290892406971965,
          1.2904467447747117,
          1.2944358745162998,
          1.2965308712716566,
          1.2926083299976188,
          1.2672692900097338,
          1.2726179228558203,
          1.2698766747257035,
          1.2852318380469634,
          1.3171897717093353,
          1.3273746494408953,
          1.333124323346186,
          1.3343947214703957,
          1.3302494863935406,
          1.3308957377683006,
          1.3223378153779146,
          1.3054005924451484,
          1.310749225291235,
          1.3155405744470408,
          1.3159865112359128,
          1.323051067107653,
          1.3271515437506498,
          1.331653473340279,
          1.3386066823106104,
          1.3345505522140442,
          1.3428408850719449,
          1.3452478179062173,
          1.3458718273598578,
          1.3542288859811182,
          1.3520004376990424,
          1.3545633385727724,
          1.347587887681321,
          1.343398168762226,
          1.3537833610796743,
          1.3468079101882229,
          1.346540457951547,
          1.3522901318568377,
          1.3467186679121246,
          1.3065817482932605,
          1.306180569938247,
          1.321869087484686,
          1.3297848773745933,
          1.3445654577335904,
          1.3446549746013075,
          1.330500325837282,
          1.3153171941651776,
          1.3105320233207938,
          1.3073121619991719,
          1.3236579145851213,
          1.3312830492465673,
          1.3162341928760382,
          1.3181570206864301,
          1.2980320636514375,
          1.3000446829211652,
          1.30183364731741,
          1.3255140166321535,
          1.3229648453393617,
          1.3362472538263845,
          1.3484785255967806,
          1.356058901824368,
          1.3634605189081408,
          1.3594800388025439,
          1.340249701261483,
          1.3517656618649996,
          1.3457058367263155,
          1.3529282827788447,
          1.3457280786474353,
          1.3366719097648028,
          1.3456386990755278,
          1.3510946972445508,
          1.3557906258128365,
          1.3433803203070067,
          1.3525034895446175,
          1.3535321097485058,
          1.3491717321383494,
          1.3634157604742823,
          1.3633486228234946,
          1.367351207554402,
          1.3705712061718334,
          1.3648691739123981,
          1.3415243555557836,
          1.335419771983241,
          1.3287784990918248,
          1.3294493264164642,
          1.3082287488226048,
          1.3286443610860588,
          1.305366680380232,
          1.289915135400786,
          1.303778991640541,
          1.28063544894048,
          1.2878132738549601,
          1.2535115634306315,
          1.2430912233859814,
          1.2496877378435391,
          1.2330288135163898,
          1.258498009931569,
          1.268202764217721,
          1.2544954252006615,
          1.2681580057838626,
          1.2644908347152748,
          1.264907939384177,
          1.2875605122698883,
          1.290655571700782,
          1.2752474121971007,
          1.27186073646708,
          1.2462476540436689,
          1.2546133623009204,
          1.2581569671410646,
          1.266119163014543,
          1.203723709482893,
          1.1332541639931186,
          1.1312356410035875,
          1.1135173422112483,
          1.2304582240773347,
          1.1765406494792012,
          1.1975334533252961,
          1.2091512874193742,
          1.2057646116893534,
          1.1789628221483148,
          1.1806449704048605,
          1.1525424403657387,
          1.1825290807970068,
          1.2008528541087198,
          1.2261295617991455,
          1.234988711195315,
          1.2354596358214947,
          1.2432422487763015,
          1.2437356899152197,
          1.2525499435817213,
          1.271142953975632,
          1.2638537821597433,
          1.2532901052900989,
          1.2585607541164567,
          1.2673302493491,
          1.2657153760391515,
          1.307544054621218,
          1.316178999960667,
          1.3178611482172127,
          1.3242979876484593,
          1.3326860751226401,
          1.334143882026656,
          1.3296582906383434,
          1.307252438322091,
          1.3077683959737478,
          1.2988418343351718,
          1.325845586011811,
          1.3181750064374596,
          1.3233783803172203,
          1.321898194196275,
          1.3293442951222871,
          1.3369250832373027,
          1.3365661919915788,
          1.3301068360475936,
          1.3437657096439415,
          1.3449767959784982,
          1.3526023425273723,
          1.348744742171172,
          1.354105045161056,
          1.3389659854437632,
          1.351705251708872,
          1.3401548298572004,
          1.3399528677215997,
          1.3368059104747596,
          1.3500101976462442,
          1.364924092236151,
          1.3656888298944074,
          1.3763737389637363,
          1.3832120313416152,
          1.3898254331837268,
          1.389375652112192,
          1.3956740973675819,
          1.4066739630236325,
          1.3961914279773324,
          1.3954266903190757,
          1.4037945953092774,
          1.4077536572686107,
          1.402804829819444,
          1.4054816862149608,
          1.3994756810335542,
          1.404154447625667,
          1.4127473804474453,
          1.4117127192279442,
          1.414389575623461,
          1.4145919496464896,
          1.4266266138178507
         ]
        }
       ],
       "layout": {
        "annotations": [
         {
          "font": {
           "color": "black",
           "size": 10
          },
          "showarrow": false,
          "text": "Tech Drawdown",
          "textangle": -90,
          "x": "2022-01-24T00:00:00",
          "xanchor": "left",
          "y": 1.6294785878427291,
          "yanchor": "bottom"
         },
         {
          "font": {
           "color": "black",
           "size": 10
          },
          "showarrow": false,
          "text": "1st Fed Hike",
          "textangle": -90,
          "x": "2022-03-16T00:00:00",
          "xanchor": "left",
          "y": 1.6294785878427291,
          "yanchor": "bottom"
         },
         {
          "font": {
           "color": "black",
           "size": 10
          },
          "showarrow": false,
          "text": "CPI Shock",
          "textangle": -90,
          "x": "2022-06-13T00:00:00",
          "xanchor": "left",
          "y": 1.6294785878427291,
          "yanchor": "bottom"
         },
         {
          "font": {
           "color": "black",
           "size": 10
          },
          "showarrow": false,
          "text": "Dot Plot Surprise",
          "textangle": -90,
          "x": "2022-09-21T00:00:00",
          "xanchor": "left",
          "y": 1.6294785878427291,
          "yanchor": "bottom"
         },
         {
          "font": {
           "color": "black",
           "size": 10
          },
          "showarrow": false,
          "text": "CPI Reversal",
          "textangle": -90,
          "x": "2022-10-13T00:00:00",
          "xanchor": "left",
          "y": 1.6294785878427291,
          "yanchor": "bottom"
         },
         {
          "font": {
           "color": "black",
           "size": 10
          },
          "showarrow": false,
          "text": "SVB Collapse",
          "textangle": -90,
          "x": "2023-03-10T00:00:00",
          "xanchor": "left",
          "y": 1.6294785878427291,
          "yanchor": "bottom"
         },
         {
          "font": {
           "color": "black",
           "size": 10
          },
          "showarrow": false,
          "text": "10Y @ 5%",
          "textangle": -90,
          "x": "2023-10-19T00:00:00",
          "xanchor": "left",
          "y": 1.6294785878427291,
          "yanchor": "bottom"
         },
         {
          "font": {
           "color": "black",
           "size": 10
          },
          "showarrow": false,
          "text": "No Rate Cut",
          "textangle": -90,
          "x": "2024-03-20T00:00:00",
          "xanchor": "left",
          "y": 1.6294785878427291,
          "yanchor": "bottom"
         },
         {
          "font": {
           "color": "black",
           "size": 10
          },
          "showarrow": false,
          "text": "NFP Beat",
          "textangle": -90,
          "x": "2024-07-05T00:00:00",
          "xanchor": "left",
          "y": 1.6294785878427291,
          "yanchor": "bottom"
         },
         {
          "font": {
           "color": "black",
           "size": 10
          },
          "showarrow": false,
          "text": "Election Volatility",
          "textangle": -90,
          "x": "2024-11-05T00:00:00",
          "xanchor": "left",
          "y": 1.6294785878427291,
          "yanchor": "bottom"
         },
         {
          "font": {
           "color": "black",
           "size": 10
          },
          "showarrow": false,
          "text": "Tariff Bear Market",
          "textangle": -90,
          "x": "2025-04-07T00:00:00",
          "xanchor": "left",
          "y": 1.6294785878427291,
          "yanchor": "bottom"
         },
         {
          "font": {
           "color": "black",
           "size": 10
          },
          "showarrow": false,
          "text": "Profit Shock Report",
          "textangle": -90,
          "x": "2025-07-21T00:00:00",
          "xanchor": "left",
          "y": 1.6294785878427291,
          "yanchor": "bottom"
         }
        ],
        "hovermode": "x unified",
        "legend": {
         "x": 0.99,
         "y": 0.01
        },
        "margin": {
         "b": 40,
         "l": 60,
         "r": 40,
         "t": 60
        },
        "shapes": [
         {
          "line": {
           "color": "black",
           "dash": "dot",
           "width": 1
          },
          "type": "line",
          "x0": "2022-01-24T00:00:00",
          "x1": "2022-01-24T00:00:00",
          "xref": "x",
          "y0": 0,
          "y1": 1,
          "yref": "y domain"
         },
         {
          "line": {
           "color": "black",
           "dash": "dot",
           "width": 1
          },
          "type": "line",
          "x0": "2022-03-16T00:00:00",
          "x1": "2022-03-16T00:00:00",
          "xref": "x",
          "y0": 0,
          "y1": 1,
          "yref": "y domain"
         },
         {
          "line": {
           "color": "black",
           "dash": "dot",
           "width": 1
          },
          "type": "line",
          "x0": "2022-06-13T00:00:00",
          "x1": "2022-06-13T00:00:00",
          "xref": "x",
          "y0": 0,
          "y1": 1,
          "yref": "y domain"
         },
         {
          "line": {
           "color": "black",
           "dash": "dot",
           "width": 1
          },
          "type": "line",
          "x0": "2022-09-21T00:00:00",
          "x1": "2022-09-21T00:00:00",
          "xref": "x",
          "y0": 0,
          "y1": 1,
          "yref": "y domain"
         },
         {
          "line": {
           "color": "black",
           "dash": "dot",
           "width": 1
          },
          "type": "line",
          "x0": "2022-10-13T00:00:00",
          "x1": "2022-10-13T00:00:00",
          "xref": "x",
          "y0": 0,
          "y1": 1,
          "yref": "y domain"
         },
         {
          "line": {
           "color": "black",
           "dash": "dot",
           "width": 1
          },
          "type": "line",
          "x0": "2023-03-10T00:00:00",
          "x1": "2023-03-10T00:00:00",
          "xref": "x",
          "y0": 0,
          "y1": 1,
          "yref": "y domain"
         },
         {
          "line": {
           "color": "black",
           "dash": "dot",
           "width": 1
          },
          "type": "line",
          "x0": "2023-10-19T00:00:00",
          "x1": "2023-10-19T00:00:00",
          "xref": "x",
          "y0": 0,
          "y1": 1,
          "yref": "y domain"
         },
         {
          "line": {
           "color": "black",
           "dash": "dot",
           "width": 1
          },
          "type": "line",
          "x0": "2024-03-20T00:00:00",
          "x1": "2024-03-20T00:00:00",
          "xref": "x",
          "y0": 0,
          "y1": 1,
          "yref": "y domain"
         },
         {
          "line": {
           "color": "black",
           "dash": "dot",
           "width": 1
          },
          "type": "line",
          "x0": "2024-07-05T00:00:00",
          "x1": "2024-07-05T00:00:00",
          "xref": "x",
          "y0": 0,
          "y1": 1,
          "yref": "y domain"
         },
         {
          "line": {
           "color": "black",
           "dash": "dot",
           "width": 1
          },
          "type": "line",
          "x0": "2024-11-05T00:00:00",
          "x1": "2024-11-05T00:00:00",
          "xref": "x",
          "y0": 0,
          "y1": 1,
          "yref": "y domain"
         },
         {
          "line": {
           "color": "black",
           "dash": "dot",
           "width": 1
          },
          "type": "line",
          "x0": "2025-04-07T00:00:00",
          "x1": "2025-04-07T00:00:00",
          "xref": "x",
          "y0": 0,
          "y1": 1,
          "yref": "y domain"
         },
         {
          "line": {
           "color": "black",
           "dash": "dot",
           "width": 1
          },
          "type": "line",
          "x0": "2025-07-21T00:00:00",
          "x1": "2025-07-21T00:00:00",
          "xref": "x",
          "y0": 0,
          "y1": 1,
          "yref": "y domain"
         }
        ],
        "template": {
         "data": {
          "bar": [
           {
            "error_x": {
             "color": "#2a3f5f"
            },
            "error_y": {
             "color": "#2a3f5f"
            },
            "marker": {
             "line": {
              "color": "white",
              "width": 0.5
             },
             "pattern": {
              "fillmode": "overlay",
              "size": 10,
              "solidity": 0.2
             }
            },
            "type": "bar"
           }
          ],
          "barpolar": [
           {
            "marker": {
             "line": {
              "color": "white",
              "width": 0.5
             },
             "pattern": {
              "fillmode": "overlay",
              "size": 10,
              "solidity": 0.2
             }
            },
            "type": "barpolar"
           }
          ],
          "carpet": [
           {
            "aaxis": {
             "endlinecolor": "#2a3f5f",
             "gridcolor": "#C8D4E3",
             "linecolor": "#C8D4E3",
             "minorgridcolor": "#C8D4E3",
             "startlinecolor": "#2a3f5f"
            },
            "baxis": {
             "endlinecolor": "#2a3f5f",
             "gridcolor": "#C8D4E3",
             "linecolor": "#C8D4E3",
             "minorgridcolor": "#C8D4E3",
             "startlinecolor": "#2a3f5f"
            },
            "type": "carpet"
           }
          ],
          "choropleth": [
           {
            "colorbar": {
             "outlinewidth": 0,
             "ticks": ""
            },
            "type": "choropleth"
           }
          ],
          "contour": [
           {
            "colorbar": {
             "outlinewidth": 0,
             "ticks": ""
            },
            "colorscale": [
             [
              0,
              "#0d0887"
             ],
             [
              0.1111111111111111,
              "#46039f"
             ],
             [
              0.2222222222222222,
              "#7201a8"
             ],
             [
              0.3333333333333333,
              "#9c179e"
             ],
             [
              0.4444444444444444,
              "#bd3786"
             ],
             [
              0.5555555555555556,
              "#d8576b"
             ],
             [
              0.6666666666666666,
              "#ed7953"
             ],
             [
              0.7777777777777778,
              "#fb9f3a"
             ],
             [
              0.8888888888888888,
              "#fdca26"
             ],
             [
              1,
              "#f0f921"
             ]
            ],
            "type": "contour"
           }
          ],
          "contourcarpet": [
           {
            "colorbar": {
             "outlinewidth": 0,
             "ticks": ""
            },
            "type": "contourcarpet"
           }
          ],
          "heatmap": [
           {
            "colorbar": {
             "outlinewidth": 0,
             "ticks": ""
            },
            "colorscale": [
             [
              0,
              "#0d0887"
             ],
             [
              0.1111111111111111,
              "#46039f"
             ],
             [
              0.2222222222222222,
              "#7201a8"
             ],
             [
              0.3333333333333333,
              "#9c179e"
             ],
             [
              0.4444444444444444,
              "#bd3786"
             ],
             [
              0.5555555555555556,
              "#d8576b"
             ],
             [
              0.6666666666666666,
              "#ed7953"
             ],
             [
              0.7777777777777778,
              "#fb9f3a"
             ],
             [
              0.8888888888888888,
              "#fdca26"
             ],
             [
              1,
              "#f0f921"
             ]
            ],
            "type": "heatmap"
           }
          ],
          "heatmapgl": [
           {
            "colorbar": {
             "outlinewidth": 0,
             "ticks": ""
            },
            "colorscale": [
             [
              0,
              "#0d0887"
             ],
             [
              0.1111111111111111,
              "#46039f"
             ],
             [
              0.2222222222222222,
              "#7201a8"
             ],
             [
              0.3333333333333333,
              "#9c179e"
             ],
             [
              0.4444444444444444,
              "#bd3786"
             ],
             [
              0.5555555555555556,
              "#d8576b"
             ],
             [
              0.6666666666666666,
              "#ed7953"
             ],
             [
              0.7777777777777778,
              "#fb9f3a"
             ],
             [
              0.8888888888888888,
              "#fdca26"
             ],
             [
              1,
              "#f0f921"
             ]
            ],
            "type": "heatmapgl"
           }
          ],
          "histogram": [
           {
            "marker": {
             "pattern": {
              "fillmode": "overlay",
              "size": 10,
              "solidity": 0.2
             }
            },
            "type": "histogram"
           }
          ],
          "histogram2d": [
           {
            "colorbar": {
             "outlinewidth": 0,
             "ticks": ""
            },
            "colorscale": [
             [
              0,
              "#0d0887"
             ],
             [
              0.1111111111111111,
              "#46039f"
             ],
             [
              0.2222222222222222,
              "#7201a8"
             ],
             [
              0.3333333333333333,
              "#9c179e"
             ],
             [
              0.4444444444444444,
              "#bd3786"
             ],
             [
              0.5555555555555556,
              "#d8576b"
             ],
             [
              0.6666666666666666,
              "#ed7953"
             ],
             [
              0.7777777777777778,
              "#fb9f3a"
             ],
             [
              0.8888888888888888,
              "#fdca26"
             ],
             [
              1,
              "#f0f921"
             ]
            ],
            "type": "histogram2d"
           }
          ],
          "histogram2dcontour": [
           {
            "colorbar": {
             "outlinewidth": 0,
             "ticks": ""
            },
            "colorscale": [
             [
              0,
              "#0d0887"
             ],
             [
              0.1111111111111111,
              "#46039f"
             ],
             [
              0.2222222222222222,
              "#7201a8"
             ],
             [
              0.3333333333333333,
              "#9c179e"
             ],
             [
              0.4444444444444444,
              "#bd3786"
             ],
             [
              0.5555555555555556,
              "#d8576b"
             ],
             [
              0.6666666666666666,
              "#ed7953"
             ],
             [
              0.7777777777777778,
              "#fb9f3a"
             ],
             [
              0.8888888888888888,
              "#fdca26"
             ],
             [
              1,
              "#f0f921"
             ]
            ],
            "type": "histogram2dcontour"
           }
          ],
          "mesh3d": [
           {
            "colorbar": {
             "outlinewidth": 0,
             "ticks": ""
            },
            "type": "mesh3d"
           }
          ],
          "parcoords": [
           {
            "line": {
             "colorbar": {
              "outlinewidth": 0,
              "ticks": ""
             }
            },
            "type": "parcoords"
           }
          ],
          "pie": [
           {
            "automargin": true,
            "type": "pie"
           }
          ],
          "scatter": [
           {
            "fillpattern": {
             "fillmode": "overlay",
             "size": 10,
             "solidity": 0.2
            },
            "type": "scatter"
           }
          ],
          "scatter3d": [
           {
            "line": {
             "colorbar": {
              "outlinewidth": 0,
              "ticks": ""
             }
            },
            "marker": {
             "colorbar": {
              "outlinewidth": 0,
              "ticks": ""
             }
            },
            "type": "scatter3d"
           }
          ],
          "scattercarpet": [
           {
            "marker": {
             "colorbar": {
              "outlinewidth": 0,
              "ticks": ""
             }
            },
            "type": "scattercarpet"
           }
          ],
          "scattergeo": [
           {
            "marker": {
             "colorbar": {
              "outlinewidth": 0,
              "ticks": ""
             }
            },
            "type": "scattergeo"
           }
          ],
          "scattergl": [
           {
            "marker": {
             "colorbar": {
              "outlinewidth": 0,
              "ticks": ""
             }
            },
            "type": "scattergl"
           }
          ],
          "scattermapbox": [
           {
            "marker": {
             "colorbar": {
              "outlinewidth": 0,
              "ticks": ""
             }
            },
            "type": "scattermapbox"
           }
          ],
          "scatterpolar": [
           {
            "marker": {
             "colorbar": {
              "outlinewidth": 0,
              "ticks": ""
             }
            },
            "type": "scatterpolar"
           }
          ],
          "scatterpolargl": [
           {
            "marker": {
             "colorbar": {
              "outlinewidth": 0,
              "ticks": ""
             }
            },
            "type": "scatterpolargl"
           }
          ],
          "scatterternary": [
           {
            "marker": {
             "colorbar": {
              "outlinewidth": 0,
              "ticks": ""
             }
            },
            "type": "scatterternary"
           }
          ],
          "surface": [
           {
            "colorbar": {
             "outlinewidth": 0,
             "ticks": ""
            },
            "colorscale": [
             [
              0,
              "#0d0887"
             ],
             [
              0.1111111111111111,
              "#46039f"
             ],
             [
              0.2222222222222222,
              "#7201a8"
             ],
             [
              0.3333333333333333,
              "#9c179e"
             ],
             [
              0.4444444444444444,
              "#bd3786"
             ],
             [
              0.5555555555555556,
              "#d8576b"
             ],
             [
              0.6666666666666666,
              "#ed7953"
             ],
             [
              0.7777777777777778,
              "#fb9f3a"
             ],
             [
              0.8888888888888888,
              "#fdca26"
             ],
             [
              1,
              "#f0f921"
             ]
            ],
            "type": "surface"
           }
          ],
          "table": [
           {
            "cells": {
             "fill": {
              "color": "#EBF0F8"
             },
             "line": {
              "color": "white"
             }
            },
            "header": {
             "fill": {
              "color": "#C8D4E3"
             },
             "line": {
              "color": "white"
             }
            },
            "type": "table"
           }
          ]
         },
         "layout": {
          "annotationdefaults": {
           "arrowcolor": "#2a3f5f",
           "arrowhead": 0,
           "arrowwidth": 1
          },
          "autotypenumbers": "strict",
          "coloraxis": {
           "colorbar": {
            "outlinewidth": 0,
            "ticks": ""
           }
          },
          "colorscale": {
           "diverging": [
            [
             0,
             "#8e0152"
            ],
            [
             0.1,
             "#c51b7d"
            ],
            [
             0.2,
             "#de77ae"
            ],
            [
             0.3,
             "#f1b6da"
            ],
            [
             0.4,
             "#fde0ef"
            ],
            [
             0.5,
             "#f7f7f7"
            ],
            [
             0.6,
             "#e6f5d0"
            ],
            [
             0.7,
             "#b8e186"
            ],
            [
             0.8,
             "#7fbc41"
            ],
            [
             0.9,
             "#4d9221"
            ],
            [
             1,
             "#276419"
            ]
           ],
           "sequential": [
            [
             0,
             "#0d0887"
            ],
            [
             0.1111111111111111,
             "#46039f"
            ],
            [
             0.2222222222222222,
             "#7201a8"
            ],
            [
             0.3333333333333333,
             "#9c179e"
            ],
            [
             0.4444444444444444,
             "#bd3786"
            ],
            [
             0.5555555555555556,
             "#d8576b"
            ],
            [
             0.6666666666666666,
             "#ed7953"
            ],
            [
             0.7777777777777778,
             "#fb9f3a"
            ],
            [
             0.8888888888888888,
             "#fdca26"
            ],
            [
             1,
             "#f0f921"
            ]
           ],
           "sequentialminus": [
            [
             0,
             "#0d0887"
            ],
            [
             0.1111111111111111,
             "#46039f"
            ],
            [
             0.2222222222222222,
             "#7201a8"
            ],
            [
             0.3333333333333333,
             "#9c179e"
            ],
            [
             0.4444444444444444,
             "#bd3786"
            ],
            [
             0.5555555555555556,
             "#d8576b"
            ],
            [
             0.6666666666666666,
             "#ed7953"
            ],
            [
             0.7777777777777778,
             "#fb9f3a"
            ],
            [
             0.8888888888888888,
             "#fdca26"
            ],
            [
             1,
             "#f0f921"
            ]
           ]
          },
          "colorway": [
           "#636efa",
           "#EF553B",
           "#00cc96",
           "#ab63fa",
           "#FFA15A",
           "#19d3f3",
           "#FF6692",
           "#B6E880",
           "#FF97FF",
           "#FECB52"
          ],
          "font": {
           "color": "#2a3f5f"
          },
          "geo": {
           "bgcolor": "white",
           "lakecolor": "white",
           "landcolor": "white",
           "showlakes": true,
           "showland": true,
           "subunitcolor": "#C8D4E3"
          },
          "hoverlabel": {
           "align": "left"
          },
          "hovermode": "closest",
          "mapbox": {
           "style": "light"
          },
          "paper_bgcolor": "white",
          "plot_bgcolor": "white",
          "polar": {
           "angularaxis": {
            "gridcolor": "#EBF0F8",
            "linecolor": "#EBF0F8",
            "ticks": ""
           },
           "bgcolor": "white",
           "radialaxis": {
            "gridcolor": "#EBF0F8",
            "linecolor": "#EBF0F8",
            "ticks": ""
           }
          },
          "scene": {
           "xaxis": {
            "backgroundcolor": "white",
            "gridcolor": "#DFE8F3",
            "gridwidth": 2,
            "linecolor": "#EBF0F8",
            "showbackground": true,
            "ticks": "",
            "zerolinecolor": "#EBF0F8"
           },
           "yaxis": {
            "backgroundcolor": "white",
            "gridcolor": "#DFE8F3",
            "gridwidth": 2,
            "linecolor": "#EBF0F8",
            "showbackground": true,
            "ticks": "",
            "zerolinecolor": "#EBF0F8"
           },
           "zaxis": {
            "backgroundcolor": "white",
            "gridcolor": "#DFE8F3",
            "gridwidth": 2,
            "linecolor": "#EBF0F8",
            "showbackground": true,
            "ticks": "",
            "zerolinecolor": "#EBF0F8"
           }
          },
          "shapedefaults": {
           "line": {
            "color": "#2a3f5f"
           }
          },
          "ternary": {
           "aaxis": {
            "gridcolor": "#DFE8F3",
            "linecolor": "#A2B1C6",
            "ticks": ""
           },
           "baxis": {
            "gridcolor": "#DFE8F3",
            "linecolor": "#A2B1C6",
            "ticks": ""
           },
           "bgcolor": "white",
           "caxis": {
            "gridcolor": "#DFE8F3",
            "linecolor": "#A2B1C6",
            "ticks": ""
           }
          },
          "title": {
           "x": 0.05
          },
          "xaxis": {
           "automargin": true,
           "gridcolor": "#EBF0F8",
           "linecolor": "#EBF0F8",
           "ticks": "",
           "title": {
            "standoff": 15
           },
           "zerolinecolor": "#EBF0F8",
           "zerolinewidth": 2
          },
          "yaxis": {
           "automargin": true,
           "gridcolor": "#EBF0F8",
           "linecolor": "#EBF0F8",
           "ticks": "",
           "title": {
            "standoff": 15
           },
           "zerolinecolor": "#EBF0F8",
           "zerolinewidth": 2
          }
         }
        },
        "title": {
         "text": "Cumulative Returns: Macro Strategy vs SPY"
        },
        "xaxis": {
         "title": {
          "text": "Date"
         }
        },
        "yaxis": {
         "title": {
          "text": "Cumulative Return"
         }
        }
       }
      }
     },
     "metadata": {},
     "output_type": "display_data"
    }
   ],
   "source": [
    "def strategy_performance_summary(df):\n",
    "    cumulative_return = df['cumulative_strategy'].iloc[-1] - 1\n",
    "    total_days = len(df.dropna())\n",
    "    annual_factor = 252\n",
    "\n",
    "    annualized_return = (df['cumulative_strategy'].iloc[-1]) ** (annual_factor / total_days) - 1\n",
    "    strat_ret = df['strategy_ret'].dropna()\n",
    "    sharpe_ratio = strat_ret.mean() / strat_ret.std() * np.sqrt(annual_factor)\n",
    "\n",
    "    running_max = df['cumulative_strategy'].cummax()\n",
    "    drawdown = (df['cumulative_strategy'] - running_max) / running_max\n",
    "    max_drawdown = drawdown.min()\n",
    "\n",
    "    spy_return = df['cumulative_spy'].iloc[-1] - 1\n",
    "    spy_cagr = df['cumulative_spy'].iloc[-1] ** (annual_factor / total_days) - 1\n",
    "    spy_ret = df['SPY'].pct_change()\n",
    "    spy_sharpe = spy_ret.mean() / spy_ret.std() * np.sqrt(annual_factor)\n",
    "\n",
    "    spy_running_max = df['cumulative_spy'].cummax()\n",
    "    spy_drawdown = (df['cumulative_spy'] - spy_running_max) / spy_running_max\n",
    "    spy_max_drawdown = spy_drawdown.min()\n",
    "\n",
    "    print(\"=== Strategy Performance Summary ===\")\n",
    "    print(f\"Total Return: {cumulative_return*100:.2f}%\")\n",
    "    print(f\"Annualized Return (CAGR): {annualized_return*100:.2f}%\")\n",
    "    print(f\"Sharpe Ratio (annualized): {sharpe_ratio:.2f}\")\n",
    "    print(f\"Max Drawdown: {max_drawdown*100:.2f}%\\n\")\n",
    "    print(f\"SPY Total Return (Buy & Hold): {spy_return*100:.2f}%\")\n",
    "    print(f\"SPY Annualized Return (CAGR): {spy_cagr*100:.2f}%\")\n",
    "    print(f\"SPY Sharpe Ratio (annualized): {spy_sharpe:.2f}\")\n",
    "    print(f\"SPY Max Drawdown: {spy_max_drawdown*100:.2f}%\")\n",
    "\n",
    "def plot_rolling_sharpe_plotly(df):\n",
    "    fig = go.Figure()\n",
    "    fig.add_trace(go.Scatter(\n",
    "        x=df.index, y=df['rolling_sharpe'],\n",
    "        mode='lines',\n",
    "        name='Rolling Sharpe Ratio',\n",
    "        line=dict(color='royalblue')\n",
    "    ))\n",
    "    fig.update_layout(\n",
    "        title=\"Rolling Sharpe Ratio\",\n",
    "        xaxis_title=\"Date\",\n",
    "        yaxis_title=\"Sharpe Ratio\",\n",
    "        template=\"plotly_white\"\n",
    "    )\n",
    "    fig.show()\n",
    "\n",
    "def plot_return_distribution_plotly(df):\n",
    "    fig = px.histogram(df, x='strategy_ret', nbins=50, title=\"Strategy Daily Return Distribution\",\n",
    "                       labels={\"strategy_ret\": \"Daily Return\"})\n",
    "    fig.update_layout(template=\"plotly_white\")\n",
    "    fig.show()\n",
    "\n",
    "\n",
    "def plot_feature_importance_logreg(model, feature_names):\n",
    "    # Extract coefficients (assumes binary classification)\n",
    "    coefs = model.coef_[0]\n",
    "    df_imp = pd.DataFrame({\n",
    "        \"Feature\": feature_names,\n",
    "        \"Coefficient\": coefs\n",
    "    }).sort_values(by=\"Coefficient\")\n",
    "    \n",
    "    # Color by sign: positive (blue), negative (red)\n",
    "    df_imp['Color'] = df_imp['Coefficient'].apply(lambda x: 'blue' if x > 0 else 'red')\n",
    "    \n",
    "    fig = px.bar(\n",
    "        df_imp,\n",
    "        x=\"Coefficient\",\n",
    "        y=\"Feature\",\n",
    "        orientation='h',\n",
    "        title=\"Feature Importance (Logistic Regression Coefficients)\",\n",
    "        color='Color',\n",
    "        color_discrete_map={'blue': 'blue', 'red': 'red'},\n",
    "        labels={\"Coefficient\": \"Coefficient Value\", \"Feature\": \"Feature\"}\n",
    "    )\n",
    "    fig.update_layout(yaxis={'categoryorder': 'total ascending'})\n",
    "    fig.show()\n",
    "\n",
    "def main():\n",
    "    df = get_data()\n",
    "    df = get_features(df)\n",
    "    X_train, X_test, y_train, y_test = get_features_train_test_split(df)\n",
    "\n",
    "    model = train_model(X_train, y_train)\n",
    "    y_pred, y_proba = evaluate_model(model, X_test, y_test)\n",
    "    model_performance_summary(y_test, y_pred)\n",
    "\n",
    "    best_thresh = find_best_threshold(df.copy(), X_test, y_proba)\n",
    "    print(f\"Backtesting with best threshold {best_thresh:.3f}:\")\n",
    "    df_backtest = backtest_strategy(df.copy(), X_test, y_proba, best_thresh)\n",
    "    \n",
    "    plot_backtest_results(df_backtest)         # Matplotlib backtest plot (optional if you want)\n",
    "    plot_rolling_sharpe(df_backtest)\n",
    "    plot_return_distribution(df_backtest)\n",
    "    plot_feature_importance_logreg(model, X_train.columns)  # Plotly logistic regression feature importance\n",
    "    plot_backtest_plotly(df_backtest)          # Plotly backtest plot\n",
    "\n",
    "main()"
   ]
  }
 ],
 "metadata": {
  "kernelspec": {
   "display_name": "base",
   "language": "python",
   "name": "python3"
  },
  "language_info": {
   "codemirror_mode": {
    "name": "ipython",
    "version": 3
   },
   "file_extension": ".py",
   "mimetype": "text/x-python",
   "name": "python",
   "nbconvert_exporter": "python",
   "pygments_lexer": "ipython3",
   "version": "3.12.7"
  }
 },
 "nbformat": 4,
 "nbformat_minor": 5
}
